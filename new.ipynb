{
 "cells": [
  {
   "cell_type": "code",
   "execution_count": 678,
   "metadata": {},
   "outputs": [],
   "source": [
    "import pandas as pd\n",
    "from pandas import DataFrame\n",
    "from sklearn.datasets import load_iris\n",
    "from sklearn.model_selection import train_test_split\n",
    "import numpy as np\n",
    "from collections import Counter\n",
    "from math import sqrt\n",
    "from numpy import ndarray\n",
    "import math\n",
    "import matplotlib.pyplot as plt\n",
    "import timeit"
   ]
  },
  {
   "cell_type": "markdown",
   "metadata": {},
   "source": [
    "- The `KNeighborsClassifier` is used only for comparing my KNN implementation against the built in one for correctness"
   ]
  },
  {
   "cell_type": "code",
   "execution_count": 679,
   "metadata": {},
   "outputs": [],
   "source": [
    "from sklearn.neighbors import KNeighborsClassifier # used only for comparing with the custom implementation"
   ]
  },
  {
   "cell_type": "markdown",
   "metadata": {},
   "source": [
    "**NOTE**\n",
    "- `del` is used to delete variables\n",
    "  - This has been used to remove variables once they are not needed anymore to avoid bugs were variables have not been updated hence returning the wrong data, or the wrong version of the variable is used\n",
    "  - This means that to run a cell from a subsection, the entire subsection will need to be rerun to regenerate the variables\n",
    "  - All the subsections have been labelled properly using subheadings\n",
    "- All `del` statements can be disabled"
   ]
  },
  {
   "cell_type": "markdown",
   "metadata": {},
   "source": [
    "# Algorithms"
   ]
  },
  {
   "cell_type": "markdown",
   "metadata": {},
   "source": [
    "## Sorting Algorithms"
   ]
  },
  {
   "cell_type": "markdown",
   "metadata": {},
   "source": [
    "- This class contains various methods to carry out different sorting algorithms \n",
    "- Some algorithms are more efficient than others which are explored at the end of this notebook\n",
    "\n",
    "| Algorithm  | Complexity  |\n",
    "| -----------  | -----------  |\n",
    "| Arg Sort| $O(n)$ |\n",
    "| Merge Sort| $O(nlog(n))$ |\n",
    "| Bubble Sort| $O(n^2)$ |\n",
    "| Selection Sort| $O(n^2)$ |\n",
    "| Insertion Sort| $O(n^2)$ |\n",
    "| Heap Sort| $O(nlog(n))$ |\n",
    "| Arg Partition| $O(nlog(n))$ |"
   ]
  },
  {
   "cell_type": "code",
   "execution_count": 680,
   "metadata": {},
   "outputs": [],
   "source": [
    "class Sorting:\n",
    "\t@staticmethod\n",
    "\tdef arg_sort(seq: list) -> list:\n",
    "\t\t# return np.argsort(seq)\n",
    "\t\treturn sorted(range(len(seq)), key=seq.__getitem__)\n",
    "\n",
    "\t@staticmethod\n",
    "\tdef merge_sort(seq: list) -> list:\n",
    "\t\tif len(seq) <= 1:\n",
    "\t\t\treturn seq\n",
    "\t\tmid = len(seq) // 2\n",
    "\t\tleft = Sorting.merge_sort(seq[:mid])\n",
    "\t\tright = Sorting.merge_sort(seq[mid:])\n",
    "\t\treturn Sorting.merge(left, right)\n",
    "\n",
    "\t@staticmethod\n",
    "\tdef merge(left: list, right: list) -> list:\n",
    "\t\tresult = []\n",
    "\t\twhile len(left) > 0 and len(right) > 0:\n",
    "\t\t\tif left[0] <= right[0]:\n",
    "\t\t\t\tresult.append(left.pop(0))\n",
    "\t\t\telse:\n",
    "\t\t\t\tresult.append(right.pop(0))\n",
    "\t\tif len(left) > 0:\n",
    "\t\t\tresult.extend(left)\n",
    "\t\tif len(right) > 0:\n",
    "\t\t\tresult.extend(right)\n",
    "\t\treturn result\n",
    "\n",
    "\t@staticmethod\n",
    "\tdef quick_sort(seq: list) -> list:\n",
    "\t\tif len(seq) <= 1:\n",
    "\t\t\treturn seq\n",
    "\t\tpivot = seq.pop()\n",
    "\t\tleft = []\n",
    "\t\tright = []\n",
    "\t\tfor item in seq:\n",
    "\t\t\tif item <= pivot:\n",
    "\t\t\t\tleft.append(item)\n",
    "\t\t\telse:\n",
    "\t\t\t\tright.append(item)\n",
    "\t\treturn Sorting.quick_sort(left) + [pivot] + Sorting.quick_sort(right)\n",
    "\n",
    "\t@staticmethod\n",
    "\tdef bubble_sort(seq: list) -> list:\n",
    "\t\tfor i in range(len(seq)):\n",
    "\t\t\tfor j in range(i + 1, len(seq)):\n",
    "\t\t\t\tif seq[i] > seq[j]:\n",
    "\t\t\t\t\tseq[i], seq[j] = seq[j], seq[i]\n",
    "\t\treturn seq\n",
    "\n",
    "\t@staticmethod\n",
    "\tdef selection_sort(seq: list) -> list:\n",
    "\t\tfor i in range(len(seq)):\n",
    "\t\t\tmin_index = i\n",
    "\t\t\tfor j in range(i + 1, len(seq)):\n",
    "\t\t\t\tif seq[j] < seq[min_index]:\n",
    "\t\t\t\t\tmin_index = j\n",
    "\t\t\tseq[i], seq[min_index] = seq[min_index], seq[i]\n",
    "\t\treturn seq\n",
    "\n",
    "\t@staticmethod\n",
    "\tdef insertion_sort(seq: list) -> list:\n",
    "\t\tfor i in range(1, len(seq)):\n",
    "\t\t\tj = i\n",
    "\t\t\twhile j > 0 and seq[j] < seq[j - 1]:\n",
    "\t\t\t\tseq[j], seq[j - 1] = seq[j - 1], seq[j]\n",
    "\t\t\t\tj -= 1\n",
    "\t\treturn seq\n",
    "\n",
    "\t@staticmethod\n",
    "\tdef heap_sort(seq: list) -> list:\n",
    "\t\theap = []\n",
    "\t\tfor item in seq:\n",
    "\t\t\theap.append(item)\n",
    "\t\t\tSorting.sift_up(heap, len(heap) - 1)\n",
    "\t\tresult = []\n",
    "\t\twhile len(heap) > 0:\n",
    "\t\t\tresult.append(heap[0])\n",
    "\t\t\theap[0] = heap[-1]\n",
    "\t\t\theap.pop()\n",
    "\t\t\tSorting.sift_down(heap, 0)\n",
    "\t\treturn result\t\n",
    "\n",
    "\t@staticmethod\n",
    "\tdef sift_up(heap: list, index: int) -> None:\n",
    "\t\twhile index > 0:\n",
    "\t\t\tparent = (index - 1) // 2\n",
    "\t\t\tif heap[parent] < heap[index]:\n",
    "\t\t\t\theap[parent], heap[index] = heap[index], heap[parent]\n",
    "\t\t\t\tindex = parent\n",
    "\t\t\telse:\n",
    "\t\t\t\tbreak\n",
    "\n",
    "\t@staticmethod\n",
    "\tdef sift_down(heap: list, index: int) -> None:\n",
    "\t\twhile 2 * index + 1 < len(heap):\n",
    "\t\t\tleft = 2 * index + 1\n",
    "\t\t\tright = 2 * index + 2\n",
    "\t\t\tchild = left\n",
    "\t\t\tif right < len(heap) and heap[right] > heap[left]:\n",
    "\t\t\t\tchild = right\n",
    "\t\t\tif heap[index] < heap[child]:\n",
    "\t\t\t\theap[index], heap[child] = heap[child], heap[index]\n",
    "\t\t\t\tindex = child\n",
    "\t\t\telse:\n",
    "\t\t\t\tbreak\n",
    "\n",
    "\t@staticmethod\n",
    "\tdef arg_partition(seq: list) -> list:\n",
    "\t\treturn np.argpartition(seq, 0)"
   ]
  },
  {
   "cell_type": "markdown",
   "metadata": {},
   "source": [
    "## Nearest Neighbour Algorithms"
   ]
  },
  {
   "cell_type": "markdown",
   "metadata": {},
   "source": [
    "### K-Nearest Neighbour"
   ]
  },
  {
   "cell_type": "markdown",
   "metadata": {},
   "source": [
    "- Complexity of $O(n)$\n",
    "- Once the `prediction` method is called, a list of predicted labels is returned\n",
    "  - This is achieved through the help of other methods such as `_predict`\n",
    "  - Each prediction is appended into a list (the `_predict` method returns ` prediction at a time) \n",
    "- The `_predict` method predicts the label one at a time as they are passed as arguments\n",
    "  - It calculates the distance between the test data point and all training data points by calling the `distance` method and stored them in a list\n",
    "  - It then sorts the distances in ascending order using the `sort` method and picks the top `k` elements as the closest neighbours and the labels\n",
    "- The `score` method calculates the accuracy of the model\n",
    "  - Predicts the labels of the test data and compares the predicted labels with the actual labels.\n",
    "  - It calls the `accuracy_score` method to compute the accuracy of the predictions\n",
    "- The `accuracy_score` calculates the accuracy of the predictions\n",
    "  - It calculates the accuracy by dividing the number of correct predictions by the total number of predictions.\n",
    "- The `distance` method calculates the distance between two data points\n",
    "  - It calculates the distance between two data points by calling the `euclidean_distance` method\n",
    "  - In this case, a list comprehension is used to calculate the distance between the test data point and all training data points\n",
    "  - For each feature in the data point, calculate the difference between the features of the two data points.\n",
    "\t-\tCalculate the square of the difference between the features of the two data points.\n",
    "\t-\tSum the squares of the differences between the features of the two data points.\n",
    "\t-\tCalculate the square root of the sum of the squares of the differences between the features of the two data points.\n",
    "\t-\tReturns a list of distances between two data points for each combination.\n",
    "- The `sort` method sorts list in ascending order\n",
    "  - By default it uses the `arg_sort` as it is very efficient"
   ]
  },
  {
   "cell_type": "code",
   "execution_count": 681,
   "metadata": {},
   "outputs": [],
   "source": [
    "class K_Nearest_Neighbours:\n",
    "\tdef __init__(self, k: int):\n",
    "\t\tself.k: int = k\n",
    "\t\tself.X_train: list = None\n",
    "\t\tself.y_train: list = None\n",
    "\n",
    "\tdef fit(self, X_train: list, y_train: list) -> None:\n",
    "\t\t\"\"\" Fit training data.\n",
    "\t\t\n",
    "\t\tArgs:\n",
    "\t\t\tX_train (list): features of training data \n",
    "\t\t\ty_train (list): labels of training data\n",
    "\t\t\"\"\"\n",
    "\t\tself.X_train = X_train\n",
    "\t\tself.y_train = y_train\n",
    "\n",
    "\tdef predict(self, X_test: list) -> list[int]:\n",
    "\t\t\"\"\" Predict labels of test data. \n",
    "\t\tFinds the nearest neighbour for each test data point and returns the label of the nearest neighbour.\n",
    "\n",
    "\n",
    "\t\tArgs:\n",
    "\t\t\tX_test (list): features of test data \n",
    "\n",
    "\t\tReturns:\n",
    "\t\t\tlist[int]: labels of test data\n",
    "\t\t\"\"\"\t\n",
    "\t\tpredictions: list = []\n",
    "\t\tfor index, element in enumerate(X_test): # for each element in the test set\n",
    "\t\t\tpredictions.append(self._predict(element)) # predict the label of the element\n",
    "\t\treturn predictions\n",
    "\t\n",
    "\tdef _predict(self, x_test: list) -> int:\n",
    "\t\t\"\"\" Predict label of a single test data point.\n",
    "\t\tCalculates the distance between the test data point and all training data points and returns the label of the nearest neighbour.\n",
    "\t\tFinds the nearest neighbour by sorting the distances and returning the label of the first training data point.\n",
    "\t\tGets the label of the nearest neighbour by indexing the label of the training data point with the index of the nearest neighbour.\n",
    "\n",
    "\t\tArgs:\n",
    "\t\t\tx_test (list): features of a single test data point\n",
    "\n",
    "\t\tReturns:\n",
    "\t\t\tint: label of a single test data point\n",
    "\t\t\"\"\"\t\n",
    "\t\tdistances: list = self.distance(self.X_train, x_test) # calculate the distance between the test data point and all training data points\n",
    "\t\tk_indices: list = self.sort(distances, \"arg_sort\")[:self.k] # find the k nearest neighbours\n",
    "\t\tk_nearest_labels: list = [self.y_train[i] for i in k_indices] # get the labels of the k nearest neighbours\n",
    "\t\tmost_common: list[tuple] = Counter(k_nearest_labels).most_common(1) # get the most common label of the k nearest neighbours \n",
    "\t\treturn most_common[0][0] # return the most common label of the k nearest neighbours\n",
    "\n",
    "\tdef score(self, X_test: list, y_test: list) -> float:\n",
    "\t\t\"\"\" Calculate the accuracy of the model.\n",
    "\t\tPredicts the labels of the test data and compares the predicted labels with the actual labels.\n",
    "\n",
    "\t\tArgs:\n",
    "\t\t\tX_test (list): features of test data\n",
    "\t\t\ty_test (list): labels of test data\n",
    "\n",
    "\t\tReturns:\n",
    "\t\t\tfloat: accuracy of the model\n",
    "\t\t\"\"\"\t\t\n",
    "\t\tpredictions: list = self.predict(X_test) # predict the labels of the test data \n",
    "\t\treturn self.accuracy_score(y_test, predictions) # calculate the accuracy of the model\n",
    "\n",
    "\tdef accuracy_score(self, y_test, y_pred) -> float:\n",
    "\t\t\"\"\" Calculate the accuracy of the predictions.\n",
    "\t\tCalculates the accuracy by dividing the number of correct predictions by the total number of predictions.\n",
    "\n",
    "\t\tArgs:\n",
    "\t\t\ty_test (list): labels of test data\n",
    "\t\t\ty_pred (list): predicted labels of test data\n",
    "\n",
    "\t\tReturns:\n",
    "\t\t\tfloat: accuracy of the predictions\n",
    "\t\t\"\"\"\t\t\n",
    "\t\taccuracy: float = sum(y_test == y_pred) / len(y_test)\n",
    "\t\treturn accuracy\n",
    "\n",
    "\tdef distance(self, x1: list, x2: list) -> list[float]:\n",
    "\t\t\"\"\" Calculate the distance between two data points.\n",
    "\t\tFor each feature in the data point, calculate the difference between the features of the two data points.\n",
    "\t\tCalculate the square of the difference between the features of the two data points.\n",
    "\t\tSum the squares of the differences between the features of the two data points.\n",
    "\t\tCalculate the square root of the sum of the squares of the differences between the features of the two data points.\n",
    "\t\tReturn the distance between the two data points.\n",
    "\n",
    "\t\tArgs:\n",
    "\t\t\ty_test (list): labels of test data\n",
    "\t\t\ty_pred (list): predicted labels of test data\n",
    "\n",
    "\t\tReturns:\n",
    "\t\t\tfloat: accuracy of the predictions\n",
    "\t\t\"\"\"\t\n",
    "\t\treturn [((sum((x1 - x2)**2)) ** 0.5) for (x1) in (self.X_train)] # calculate the distance between the test data point and all training data points\n",
    "\n",
    "\tdef sort(self, distances: list, sorting_type: str = \"arg_sort\"):\n",
    "\t\t\"\"\" Sort the distances from smallest to largest.\n",
    "\t\tThe sorting type determines the method used to sort the distances.\n",
    "\t\tThe type passed determines the method used to sort the distances.\n",
    "\n",
    "\t\tArgs:\n",
    "\t\t\tdistances (list): distances to be sorted\n",
    "\t\t\tsorting_type (str): type of sorting to be used. Defaults to \"arg_sort\".\n",
    "\n",
    "\t\tReturns:\n",
    "\t\t\tlist: sorted distances\n",
    "\t\t\"\"\"\t\n",
    "\t\tif sorting_type == \"arg_sort\":\n",
    "\t\t\treturn Sorting.arg_sort(distances)\n",
    "\t\telif sorting_type == \"merge_sort\":\n",
    "\t\t\treturn Sorting.merge_sort(distances)\n",
    "\t\telif sorting_type == \"quick_sort\":\n",
    "\t\t\treturn Sorting.quick_sort(distances)\n",
    "\t\telif sorting_type == \"heap_sort\":\n",
    "\t\t\treturn Sorting.heap_sort(distances)\n",
    "\t\telif sorting_type == \"arg_partition\":\n",
    "\t\t\treturn Sorting.arg_partition(distances)\n",
    "\t\telse:\n",
    "\t\t\traise ValueError(\"Invalid sorting type\")"
   ]
  },
  {
   "cell_type": "markdown",
   "metadata": {},
   "source": [
    "### 1-Nearest Neighbour"
   ]
  },
  {
   "cell_type": "markdown",
   "metadata": {},
   "source": [
    "- Very similar to KNN but only works with 3 neighbours specifically"
   ]
  },
  {
   "cell_type": "code",
   "execution_count": 682,
   "metadata": {},
   "outputs": [],
   "source": [
    "class One_Nearest_Neighbours:\n",
    "\tdef __init__(self):\n",
    "\t\tself.k: int = 1\n",
    "\t\tself.X_train: list = None\n",
    "\t\tself.y_train: list = None\n",
    "\n",
    "\tdef fit(self, X_train: list, y_train: list) -> None:\n",
    "\t\t\"\"\" Fit training data.\n",
    "\n",
    "\t\tArgs:\n",
    "\t\t\tX_train (list): features of training data \n",
    "\t\t\ty_train (list): labels of training data\n",
    "\t\t\"\"\"\n",
    "\t\tself.X_train = X_train\n",
    "\t\tself.y_train = y_train\n",
    "\n",
    "\tdef predict(self, X_test: list) -> list[int]:\n",
    "\t\t\"\"\" Predict labels of test data. \n",
    "\t\tFinds the nearest neighbour for each test data point and returns the label of the nearest neighbour.\n",
    "\n",
    "\n",
    "\t\tArgs:\n",
    "\t\t\tX_test (list): features of test data \n",
    "\n",
    "\t\tReturns:\n",
    "\t\t\tlist[int]: labels of test data\n",
    "\t\t\"\"\"\t\t\n",
    "\t\tpredictions: list = []\n",
    "\t\tfor index, element in enumerate(X_test): # for each element in the test set \n",
    "\t\t\tpredictions.append(self._predict(element)) # predict the label of the element\n",
    "\t\treturn predictions\n",
    "\t\n",
    "\tdef _predict(self, x_test: list) -> int:\n",
    "\t\t\"\"\" Predict label of a single test data point.\n",
    "\t\tCalculates the distance between the test data point and all training data points and returns the label of the nearest neighbour.\n",
    "\t\tFinds the nearest neighbour by sorting the distances and returning the label of the first training data point.\n",
    "\t\tGets the label of the nearest neighbour by indexing the label of the training data point with the index of the nearest neighbour.\n",
    "\n",
    "\t\tArgs:\n",
    "\t\t\tx_test (list): features of a single test data point\n",
    "\n",
    "\t\tReturns:\n",
    "\t\t\tint: label of a single test data point\n",
    "\t\t\"\"\"\t\t\n",
    "\t\tdistances: list = self.distance(self.X_train, x_test) # calculate the distance between the test data point and all training data points\n",
    "\t\tk_indices: list = self.sort(distances, \"arg_sort\")[:self.k] # find the k nearest neighbours from the sorted distances\n",
    "\t\tk_nearest_labels: list = [self.y_train[i] for i in k_indices] # get the labels of the k nearest neighbours \n",
    "\t\tmost_common: list[tuple] = Counter(k_nearest_labels).most_common(1) # find the most common label among the k nearest neighbours\n",
    "\t\treturn most_common[0][0] # return the most common label\n",
    "\n",
    "\tdef score(self, X_test: list, y_test: list) -> float:\n",
    "\t\t\"\"\" Calculate the accuracy of the model.\n",
    "\t\tPredicts the labels of the test data and compares the predicted labels with the actual labels.\n",
    "\t\tCalculates the accuracy by dividing the number of correct predictions by the total number of predictions.\n",
    "\n",
    "\t\tArgs:\n",
    "\t\t\tX_test (list): features of test data\n",
    "\t\t\ty_test (list): labels of test data\n",
    "\n",
    "\t\tReturns:\n",
    "\t\t\tfloat: accuracy of the model\n",
    "\t\t\"\"\"\t\t\n",
    "\t\tpredictions: list = self.predict(X_test) # predict the labels of the test data\n",
    "\t\treturn self.accuracy_score(y_test, predictions) # calculate the accuracy of the predictions\n",
    "\n",
    "\tdef accuracy_score(self, y_test: list, y_pred: list) -> float:\n",
    "\t\t\"\"\" Calculate the accuracy of the predictions.\n",
    "\t\tCalculates the accuracy by dividing the number of correct predictions by the total number of predictions.\n",
    "\n",
    "\t\tArgs:\n",
    "\t\t\ty_test (list): labels of test data\n",
    "\t\t\ty_pred (list): predicted labels of test data\n",
    "\n",
    "\t\tReturns:\n",
    "\t\t\tfloat: accuracy of the predictions\n",
    "\t\t\"\"\"\t\t\n",
    "\t\taccuracy: float = sum(y_test == y_pred) / len(y_test) # calculate the accuracy by dividing the number of correct predictions by the total number of predictions\n",
    "\t\treturn accuracy \n",
    "\n",
    "\tdef distance(self, x1: list, x2: list) -> list[float]:\n",
    "\t\t\"\"\" Calculate the distance between two data points.\n",
    "\t\tFor each feature in the data point, calculate the difference between the features of the two data points.\n",
    "\t\tCalculate the square of the difference between the features of the two data points.\n",
    "\t\tSum the squares of the differences between the features of the two data points.\n",
    "\t\tCalculate the square root of the sum of the squares of the differences between the features of the two data points.\n",
    "\t\tReturn the distance between the two data points.\n",
    "\n",
    "\t\tArgs:\n",
    "\t\t\ty_test (list): labels of test data\n",
    "\t\t\ty_pred (list): predicted labels of test data\n",
    "\n",
    "\t\tReturns:\n",
    "\t\t\tfloat: accuracy of the predictions\n",
    "\t\t\"\"\"\t\n",
    "\t\treturn [((sum((x1 - x2)**2)) ** 0.5) for (x1) in (self.X_train)] # calculate the distance between the test data point and all training data points\n",
    "\n",
    "\tdef sort(self, distances: list, sorting_type: str = \"arg_sort\"):\n",
    "\t\t\"\"\" Sort the distances from smallest to largest.\n",
    "\t\tThe sorting type determines the method used to sort the distances.\n",
    "\t\tThe type passed determines the method used to sort the distances.\n",
    "\n",
    "\t\tArgs:\n",
    "\t\t\tdistances (list): distances to be sorted\n",
    "\t\t\tsorting_type (str): type of sorting to be used. Defaults to \"arg_sort\".\n",
    "\n",
    "\t\tReturns:\n",
    "\t\t\tlist: sorted distances\n",
    "\t\t\"\"\"\t\t\n",
    "\t\tif sorting_type == \"arg_sort\":\n",
    "\t\t\treturn Sorting.arg_sort(distances)\n",
    "\t\telif sorting_type == \"merge_sort\":\n",
    "\t\t\treturn Sorting.merge_sort(distances)\n",
    "\t\telif sorting_type == \"quick_sort\":\n",
    "\t\t\treturn Sorting.quick_sort(distances)"
   ]
  },
  {
   "cell_type": "markdown",
   "metadata": {},
   "source": [
    "### 3-Nearest Neighbours"
   ]
  },
  {
   "cell_type": "markdown",
   "metadata": {},
   "source": [
    "- Very similar to KNN but only works with 1 neighbours specifically"
   ]
  },
  {
   "cell_type": "code",
   "execution_count": 683,
   "metadata": {},
   "outputs": [],
   "source": [
    "class Three_Nearest_Neighbours:\n",
    "\tdef __init__(self):\n",
    "\t\tself.k: int = 3\n",
    "\t\tself.X_train: list = None\n",
    "\t\tself.y_train: list = None\n",
    "\n",
    "\tdef fit(self, X_train: list, y_train: list) -> None:\n",
    "\t\t\"\"\" Fit training data.\n",
    "\t\t\n",
    "\t\tArgs:\n",
    "\t\t\tX_train (list): features of training data \n",
    "\t\t\ty_train (list): labels of training data\n",
    "\t\t\"\"\"\n",
    "\t\tself.X_train = X_train\n",
    "\t\tself.y_train = y_train\n",
    "\n",
    "\tdef predict(self, X_test: list) -> list[int]:\n",
    "\t\t\"\"\" Predict labels of test data. \n",
    "\t\tFinds the nearest neighbour for each test data point and returns the label of the nearest neighbour.\n",
    "\n",
    "\n",
    "\t\tArgs:\n",
    "\t\t\tX_test (list): features of test data \n",
    "\n",
    "\t\tReturns:\n",
    "\t\t\tlist[int]: labels of test data\n",
    "\t\t\"\"\"\t\n",
    "\t\tpredictions: list = []\n",
    "\t\tfor index, element in enumerate(X_test): # for each element in the test set\n",
    "\t\t\tpredictions.append(self._predict(element)) # predict the label of the element\n",
    "\t\treturn predictions\n",
    "\t\n",
    "\tdef _predict(self, x_test: list) -> int:\n",
    "\t\t\"\"\" Predict label of a single test data point.\n",
    "\t\tCalculates the distance between the test data point and all training data points and returns the label of the nearest neighbour.\n",
    "\t\tFinds the nearest neighbour by sorting the distances and returning the label of the first training data point.\n",
    "\t\tGets the label of the nearest neighbour by indexing the label of the training data point with the index of the nearest neighbour.\n",
    "\n",
    "\t\tArgs:\n",
    "\t\t\tx_test (list): features of a single test data point\n",
    "\n",
    "\t\tReturns:\n",
    "\t\t\tint: label of a single test data point\n",
    "\t\t\"\"\"\t\n",
    "\t\tdistances: list = self.distance(self.X_train, x_test)\n",
    "\t\tk_indices: list = self.sort(distances, \"arg_sort\")[:self.k]\n",
    "\t\tk_nearest_labels: list = [self.y_train[i] for i in k_indices]\n",
    "\t\tmost_common: list[tuple] = Counter(k_nearest_labels).most_common(1)\n",
    "\t\treturn most_common[0][0]\n",
    "\n",
    "\tdef score(self, X_test: list, y_test: list) -> float:\n",
    "\t\t\"\"\" Calculate the accuracy of the model.\n",
    "\t\tPredicts the labels of the test data and compares the predicted labels with the actual labels.\n",
    "\t\tCalculates the accuracy by dividing the number of correct predictions by the total number of predictions.\n",
    "\n",
    "\t\tArgs:\n",
    "\t\t\tX_test (list): features of test data\n",
    "\t\t\ty_test (list): labels of test data\n",
    "\n",
    "\t\tReturns:\n",
    "\t\t\tfloat: accuracy of the model\n",
    "\t\t\"\"\"\t\t\n",
    "\t\tpredictions: list = self.predict(X_test)\n",
    "\t\treturn self.accuracy_score(y_test, predictions)\n",
    "\n",
    "\tdef accuracy_score(self, y_test, y_pred) -> float:\n",
    "\t\t\"\"\" Calculate the accuracy of the predictions.\n",
    "\t\tCalculates the accuracy by dividing the number of correct predictions by the total number of predictions.\n",
    "\n",
    "\t\tArgs:\n",
    "\t\t\ty_test (list): labels of test data\n",
    "\t\t\ty_pred (list): predicted labels of test data\n",
    "\n",
    "\t\tReturns:\n",
    "\t\t\tfloat: accuracy of the predictions\n",
    "\t\t\"\"\"\t\t\n",
    "\t\taccuracy: float = sum(y_test == y_pred) / len(y_test)\n",
    "\t\treturn accuracy\n",
    "\n",
    "\tdef distance(self, x1: list, x2: list) -> list[float]:\n",
    "\t\t\"\"\" Calculate the distance between two data points.\n",
    "\t\tFor each feature in the data point, calculate the difference between the features of the two data points.\n",
    "\t\tCalculate the square of the difference between the features of the two data points.\n",
    "\t\tSum the squares of the differences between the features of the two data points.\n",
    "\t\tCalculate the square root of the sum of the squares of the differences between the features of the two data points.\n",
    "\t\tReturn the distance between the two data points.\n",
    "\n",
    "\t\tArgs:\n",
    "\t\t\ty_test (list): labels of test data\n",
    "\t\t\ty_pred (list): predicted labels of test data\n",
    "\n",
    "\t\tReturns:\n",
    "\t\t\tfloat: accuracy of the predictions\n",
    "\t\t\"\"\"\t\t\n",
    "\t\treturn [((sum((x1 - x2)**2)) ** 0.5) for (x1) in (self.X_train)]\n",
    "\n",
    "\tdef sort(self, distances, sorting_type = \"arg_sort\"):\n",
    "\t\t\"\"\" Sort the distances from smallest to largest.\n",
    "\t\tThe sorting type determines the method used to sort the distances.\n",
    "\t\tThe type passed determines the method used to sort the distances.\n",
    "\n",
    "\t\tArgs:\n",
    "\t\t\tdistances (list): distances to be sorted\n",
    "\t\t\tsorting_type (str): type of sorting to be used. Defaults to \"arg_sort\".\n",
    "\n",
    "\t\tReturns:\n",
    "\t\t\tlist: sorted distances\n",
    "\t\t\"\"\"\t\t\n",
    "\t\tif sorting_type == \"arg_sort\":\n",
    "\t\t\treturn Sorting.arg_sort(distances)\n",
    "\t\telif sorting_type == \"merge_sort\":\n",
    "\t\t\treturn Sorting.merge_sort(distances)\n",
    "\t\telif sorting_type == \"quick_sort\":\n",
    "\t\t\treturn Sorting.quick_sort(distances)"
   ]
  },
  {
   "cell_type": "markdown",
   "metadata": {},
   "source": [
    "## Conformal Predictor"
   ]
  },
  {
   "cell_type": "markdown",
   "metadata": {},
   "source": [
    "- Complexity of $O(log(n^2))$\n",
    " $$ \\frac{distance to the nearest sample of a different class}{the distance to the nearest sample of the same class} $$\n",
    "- For each distance calculated, the class of the point is current point is checked against the other class\n",
    "  - If the classes are the same, then the variable tracking the closest distance between the same classes is update\n",
    "  - If the classes are different, then the variable tracking the closest distance between different classes is update\n",
    "- The `calculate_p_value` function calculates the p-values by using the formula for each distance between the same class and different class on by one (from the list)\n",
    "- The `calculate_alpha` function calculates the alpha value of the data by multiplying the the number of training data points by the desired rate (normally 5%)\n",
    "- The `calculate_conformal_prediction` function calculates the conformal prediction of each test point \n",
    "  - The shortest distances between the same classes and different classes are required along with the p-values\n",
    "  - For each test data point, calculate the p-value by dividing the distance between the test data point and the training data point by the sum of the distance between the test data point and the training data point and the distance between the test data point and the training data point (using formula)\n",
    "  - The predictions are added to a list if they are above alpha"
   ]
  },
  {
   "cell_type": "code",
   "execution_count": 684,
   "metadata": {},
   "outputs": [],
   "source": [
    "def calculate_distance(X_train: list, y_train: list) -> tuple[list[float]]:\n",
    "    \"\"\" Calculate the distance between each point in the training set and each point in the test set.\n",
    "    Updates the corresponding variables depending on whether they are the same class or different class. \n",
    "\n",
    "    Args:\n",
    "        X_train (list): features of training data\n",
    "        y_train (list): labels of training data\n",
    "\n",
    "    Returns:\n",
    "        tuple[list[float]]: shortest distance between same class and different class\n",
    "    \"\"\"    \n",
    "    train_length: int = X_train.shape[0] # get the number of training data points\n",
    "    same_class_dist, other_class_dist = [[math.inf for i in range(train_length)] for j in range(2)] # initialise the distances to infinity\n",
    "\n",
    "    for i in range(train_length - 1): # for each training data point\n",
    "        for j in range(i+1, train_length): # for each training data point\n",
    "            dist = np.sqrt(np.sum((X_train[i] - X_train[j]) ** 2)) # calculate the distance between the two training data points\n",
    "            if y_train[i] == y_train[j]: # if the two training data points are of the same class\n",
    "                if dist < same_class_dist[i]: # if the distance is less than the current minimum distance\n",
    "                    same_class_dist[i] = dist # update the minimum distance\n",
    "                if dist < same_class_dist[j]: # if the distance is less than the current minimum distance\n",
    "                    same_class_dist[j] = dist # update the minimum distance\n",
    "            else: # if the two training data points are of different classes\n",
    "                if dist < other_class_dist[i]: # if the distance is less than the current minimum distance\n",
    "                    other_class_dist[i] = dist # update the minimum distance\n",
    "                if dist < other_class_dist[j]: # if the distance is less than the current minimum distance\n",
    "                    other_class_dist[j] = dist # update the minimum distance\n",
    "    return same_class_dist, other_class_dist # return the minimum distances\n",
    "\n",
    "def calculate_p_value(same_class_dist: list[float], other_class_dist: list[float]) -> list[float]:\n",
    "    \"\"\" Calculate the p-value for each training data point.\n",
    "    For each element in the same class distance list, calculate the p-value by dividing the element by the corresponding element in the other class distance list (using formula). \n",
    "\n",
    "    Args:\n",
    "        same_class_dist (list[float]): _description_\n",
    "        other_class_dist (list[float]): _description_\n",
    "\n",
    "    Returns:\n",
    "        list[float]: _description_\n",
    "    \"\"\"    \n",
    "    p_values: list[float] = [] # initialise the p-values\n",
    "    for element_same, element_other in zip(same_class_dist, other_class_dist): # for each minimum distance\n",
    "        p_values.append(element_same / (element_other + element_same)) # calculate the p-value\n",
    "    return p_values \n",
    "\n",
    "def calculate_alpha(p_values: list[float], alpha: float) -> float:\n",
    "    \"\"\" Calculate the alpha value.\n",
    "    Alpha is calculated by multiplying the number of training data points by the alpha value passed.\n",
    "\n",
    "    Args:\n",
    "        p_values (list[float]): p-values of the training data points\n",
    "        alpha (float): alpha value\n",
    "\n",
    "    Returns:\n",
    "        float: alpha value\n",
    "    \"\"\"    \n",
    "    p_values.sort() # sort the p-values\n",
    "    return p_values[int(len(p_values) * alpha)] # return the alpha value\n",
    "\n",
    "def calculate_conformal_prediction(X_train: list, y_train: list, X_test: list, alpha: float) -> list[bool]: \n",
    "    \"\"\" Calculate the conformal prediction for each test data point.\n",
    "    Distances and p-values are calculated for each training data point.\n",
    "    For each test data point, calculate the p-value by dividing the distance between the test data point and the training data point by the sum of the distance between the test data point and the training data point and the distance between the test data point and the training data point (using formula).\n",
    "\n",
    "    Args:\n",
    "        X_train (list): features of training data\n",
    "        y_train (list): labels of training data\n",
    "        X_test (list): features of test data\n",
    "        alpha (float): alpha value\n",
    "\n",
    "    Returns:\n",
    "        list[bool]: predicted labels \n",
    "    \"\"\"    \n",
    "    same_class_dist, other_class_dist = calculate_distance(X_train, y_train) # calculate the minimum distances\n",
    "    p_values: list[float] = calculate_p_value(same_class_dist, other_class_dist) # calculate the p-values\n",
    "    alpha: float = calculate_alpha(p_values, alpha) # calculate the alpha value\n",
    "    predictions: list[bool] = [] \n",
    "    for index, element in enumerate(X_test): # for each test data point\n",
    "        dist = np.sqrt(np.sum((X_train - element) ** 2)) # calculate the distance between the test data point and all training data points\n",
    "        p_values = dist / (dist + other_class_dist) # calculate the p-values\n",
    "        predictions.append(p_values > alpha) # append the prediction to the list of predictions\n",
    "    return predictions\n",
    "\n",
    "def error_rate(y_test: list, predictions: list) -> float:\n",
    "    return sum(y_test != predictions) / len(y_test)"
   ]
  },
  {
   "cell_type": "markdown",
   "metadata": {},
   "source": [
    "# Useful Functions"
   ]
  },
  {
   "cell_type": "markdown",
   "metadata": {},
   "source": [
    "- This function prints some useful properties for a dataset after running some Nearest Neighbour algorithm\n",
    "- It prints:\n",
    "  - A list of predictions \n",
    "  - Accuracy of the model\n",
    "  - A table comparing the predicted data with the actual data\n",
    "  - Total number of errors"
   ]
  },
  {
   "cell_type": "code",
   "execution_count": 685,
   "metadata": {},
   "outputs": [],
   "source": [
    "def print_dataset_properties(predictions: list, accuracy: float, compare: DataFrame, total_number_of_errors_iris: int) -> None:\n",
    "\t\"\"\" Print the properties of the dataset.\n",
    "\tIt prints the predictions, accuracy, error rate, total errors and compares the labels predicted against actual labels.\n",
    "\n",
    "\tArgs:\n",
    "\t\tpredictions (list): predicted labels of test data\n",
    "\t\taccuracy (float): accuracy of the predictions\n",
    "\t\tcompare (DataFrame): containing the actual and predicted labels of the test data side by side in a table\n",
    "\t\ttotal_number_of_errors_iris (int): total number of errors in the predictions\n",
    "\t\"\"\"\t\n",
    "\tprint(\"Predictions: \", predictions)\n",
    "\tprint(\"Accuracy: \", accuracy)\n",
    "\tprint(\"Error Rate: \", 1 - accuracy)\n",
    "\tprint(\"Total Number of Errors: \", total_number_of_errors_iris)\n",
    "\tprint(\"Compare: \", compare)"
   ]
  },
  {
   "cell_type": "markdown",
   "metadata": {},
   "source": [
    "- This function checks whether 2 lists are the same by comparing each element one by one\n",
    "- It keeps track of the current elements being compared\n",
    "- As soon as an element is different, false is returned terminating the function\n",
    "- The loop will keep going as long as the elements are the same until there are no more element to compare in which case true is returned"
   ]
  },
  {
   "cell_type": "code",
   "execution_count": 686,
   "metadata": {},
   "outputs": [],
   "source": [
    "def compare_lists(list_1: list, list_2: list) -> bool:\n",
    "\t\"\"\" Compare two lists element by element.\n",
    "\tIterates through the lists and compares each element keeping track to whether they are the same\n",
    "\tAs soon as an element is not the same, the function returns False\n",
    "\n",
    "\tArgs:\n",
    "\t\tlist_1 (list): list to be compared\n",
    "\t\tlist_2 (list): list to be compared\n",
    "\n",
    "\tReturns:\n",
    "\t\tbool: whether the lists are the same\n",
    "\t\"\"\"\t\n",
    "\tcompare: bool = True\n",
    "\tfor x, y in zip(list_1, list_2):\n",
    "\t\tcompare = (x == y)\n",
    "\t\tif not compare:\n",
    "\t\t\treturn False\n",
    "\treturn compare"
   ]
  },
  {
   "cell_type": "markdown",
   "metadata": {},
   "source": [
    "- This function computes the mean/average of a list\n",
    "- It divides the total number of elements by the sum"
   ]
  },
  {
   "cell_type": "code",
   "execution_count": 687,
   "metadata": {},
   "outputs": [],
   "source": [
    "def mean(lst: list[int, float]) -> float:\n",
    "\t\"\"\" Calculate the mean of a list.\n",
    "\n",
    "\tArgs:\n",
    "\t\tlst (list[int, float]): list of numbers\n",
    "\n",
    "\tReturns:\n",
    "\t\tfloat: mean/average of the list\n",
    "\t\"\"\"\t\n",
    "\treturn sum(lst) / len(lst)"
   ]
  },
  {
   "cell_type": "markdown",
   "metadata": {},
   "source": [
    "# Datasets"
   ]
  },
  {
   "cell_type": "markdown",
   "metadata": {},
   "source": [
    "## Iris"
   ]
  },
  {
   "cell_type": "markdown",
   "metadata": {},
   "source": [
    "### Loading Dataset"
   ]
  },
  {
   "cell_type": "code",
   "execution_count": 688,
   "metadata": {},
   "outputs": [],
   "source": [
    "iris = load_iris()"
   ]
  },
  {
   "cell_type": "markdown",
   "metadata": {},
   "source": [
    "### Splitting Dataset"
   ]
  },
  {
   "cell_type": "code",
   "execution_count": 689,
   "metadata": {},
   "outputs": [],
   "source": [
    "X_train_iris, X_test_iris, y_train_iris, y_test_iris = train_test_split(iris['data'], iris['target'], random_state=55) # 75% training and 25% test "
   ]
  },
  {
   "cell_type": "markdown",
   "metadata": {},
   "source": [
    "### Checking Dataset"
   ]
  },
  {
   "cell_type": "markdown",
   "metadata": {},
   "source": [
    "- Prints the dimensions of the dataset after splitting"
   ]
  },
  {
   "cell_type": "code",
   "execution_count": 690,
   "metadata": {},
   "outputs": [],
   "source": [
    "# print(X_train_iris)\n",
    "# print(y_train_iris)"
   ]
  },
  {
   "cell_type": "markdown",
   "metadata": {},
   "source": [
    "### Checking Nearest Neighbours Algorithms"
   ]
  },
  {
   "cell_type": "markdown",
   "metadata": {},
   "source": [
    "#### K-Nearest Neighbours "
   ]
  },
  {
   "cell_type": "markdown",
   "metadata": {},
   "source": [
    "##### `K = 3`"
   ]
  },
  {
   "cell_type": "markdown",
   "metadata": {},
   "source": [
    "- The K-Nearest algorithm is initialized and 3 is passed as the number of neighbours required\n",
    "- The the 2 sets that need to be tested are passed (fit)"
   ]
  },
  {
   "cell_type": "code",
   "execution_count": 691,
   "metadata": {},
   "outputs": [],
   "source": [
    "k_nearest_neighbour_iris: K_Nearest_Neighbours = K_Nearest_Neighbours(k=3) # k = 3\n",
    "k_nearest_neighbour_iris.fit(X_train_iris, y_train_iris) # fit the model"
   ]
  },
  {
   "cell_type": "markdown",
   "metadata": {},
   "source": [
    "- Predict labels \n",
    "- Compare prediction with actual values \n",
    "- Compute accuracy of the prediction\n",
    "- Compute the error rate\n",
    "- Compute the total number of errors in the prediction"
   ]
  },
  {
   "cell_type": "code",
   "execution_count": 692,
   "metadata": {},
   "outputs": [],
   "source": [
    "predictions_iris: list = k_nearest_neighbour_iris.predict(X_test_iris) # predict the labels of the test data\n",
    "compare_iris: DataFrame = pd.DataFrame({'True Labels': y_test_iris, 'Predicted Labels': predictions_iris}) # compare the predicted labels with the actual labels\n",
    "accuracy_iris: float = k_nearest_neighbour_iris.score(X_test_iris, y_test_iris) # calculate the accuracy of the predictions\n",
    "error_rate_iris: float = 1 - accuracy_iris # calculate the error rate of the predictions\n",
    "total_number_of_errors_iris: int = sum(y_test_iris != predictions_iris) # calculate the total number of errors in the predictions"
   ]
  },
  {
   "cell_type": "code",
   "execution_count": 693,
   "metadata": {},
   "outputs": [
    {
     "name": "stdout",
     "output_type": "stream",
     "text": [
      "Predictions:  [0, 0, 0, 2, 2, 0, 2, 2, 0, 0, 0, 1, 2, 0, 2, 2, 1, 0, 1, 2, 1, 2, 1, 2, 1, 1, 2, 1, 2, 1, 0, 0, 2, 2, 0, 1, 1, 0]\n",
      "Accuracy:  0.9736842105263158\n",
      "Error Rate:  0.02631578947368418\n",
      "Total Number of Errors:  1\n",
      "Compare:      True Labels  Predicted Labels\n",
      "0             0                 0\n",
      "1             0                 0\n",
      "2             0                 0\n",
      "3             2                 2\n",
      "4             2                 2\n",
      "5             0                 0\n",
      "6             2                 2\n",
      "7             2                 2\n",
      "8             0                 0\n",
      "9             0                 0\n",
      "10            0                 0\n",
      "11            1                 1\n",
      "12            2                 2\n",
      "13            0                 0\n",
      "14            2                 2\n",
      "15            1                 2\n",
      "16            1                 1\n",
      "17            0                 0\n",
      "18            1                 1\n",
      "19            2                 2\n",
      "20            1                 1\n",
      "21            2                 2\n",
      "22            1                 1\n",
      "23            2                 2\n",
      "24            1                 1\n",
      "25            1                 1\n",
      "26            2                 2\n",
      "27            1                 1\n",
      "28            2                 2\n",
      "29            1                 1\n",
      "30            0                 0\n",
      "31            0                 0\n",
      "32            2                 2\n",
      "33            2                 2\n",
      "34            0                 0\n",
      "35            1                 1\n",
      "36            1                 1\n",
      "37            0                 0\n"
     ]
    }
   ],
   "source": [
    "print_dataset_properties(predictions_iris, accuracy_iris, compare_iris, total_number_of_errors_iris)"
   ]
  },
  {
   "cell_type": "markdown",
   "metadata": {},
   "source": [
    "##### `K = 1`"
   ]
  },
  {
   "cell_type": "markdown",
   "metadata": {},
   "source": [
    "- The K-Nearest algorithm is initialized and 1 is passed as the number of neighbours required\n",
    "- The the 2 sets that need to be tested are passed (fit)"
   ]
  },
  {
   "cell_type": "code",
   "execution_count": 694,
   "metadata": {},
   "outputs": [],
   "source": [
    "k_nearest_neighbour_iris: K_Nearest_Neighbours = K_Nearest_Neighbours(k=1)\n",
    "k_nearest_neighbour_iris.fit(X_train_iris, y_train_iris)"
   ]
  },
  {
   "cell_type": "markdown",
   "metadata": {},
   "source": [
    "- Predict labels \n",
    "- Compare prediction with actual values \n",
    "- Compute accuracy of the prediction\n",
    "- Compute the error rate\n",
    "- Compute the total number of errors in the prediction"
   ]
  },
  {
   "cell_type": "code",
   "execution_count": 695,
   "metadata": {},
   "outputs": [],
   "source": [
    "predictions_iris_k: list = k_nearest_neighbour_iris.predict(X_test_iris) # predict the labels of the test data\n",
    "compare_iris_k: DataFrame = pd.DataFrame({'True Labels': y_test_iris, 'Predicted Labels': predictions_iris_k}) # compare the predicted labels with the actual labels\n",
    "accuracy_iris_k: float = k_nearest_neighbour_iris.score(X_test_iris, y_test_iris) # calculate the accuracy of the predictions\n",
    "error_rate_iris_k: float = 1 - accuracy_iris_k # calculate the error rate of the predictions\n",
    "total_number_of_errors_iris_k: int = sum(y_test_iris != predictions_iris_k) # calculate the total number of errors in the predictions"
   ]
  },
  {
   "cell_type": "code",
   "execution_count": 696,
   "metadata": {},
   "outputs": [
    {
     "name": "stdout",
     "output_type": "stream",
     "text": [
      "Predictions:  [0, 0, 0, 2, 2, 0, 2, 2, 0, 0, 0, 1, 2, 0, 2, 2, 1, 0, 1, 2, 1, 2, 1, 2, 1, 1, 2, 1, 2, 1, 0, 0, 2, 2, 0, 1, 1, 0]\n",
      "Accuracy:  0.9736842105263158\n",
      "Error Rate:  0.02631578947368418\n",
      "Total Number of Errors:  1\n",
      "Compare:      True Labels  Predicted Labels\n",
      "0             0                 0\n",
      "1             0                 0\n",
      "2             0                 0\n",
      "3             2                 2\n",
      "4             2                 2\n",
      "5             0                 0\n",
      "6             2                 2\n",
      "7             2                 2\n",
      "8             0                 0\n",
      "9             0                 0\n",
      "10            0                 0\n",
      "11            1                 1\n",
      "12            2                 2\n",
      "13            0                 0\n",
      "14            2                 2\n",
      "15            1                 2\n",
      "16            1                 1\n",
      "17            0                 0\n",
      "18            1                 1\n",
      "19            2                 2\n",
      "20            1                 1\n",
      "21            2                 2\n",
      "22            1                 1\n",
      "23            2                 2\n",
      "24            1                 1\n",
      "25            1                 1\n",
      "26            2                 2\n",
      "27            1                 1\n",
      "28            2                 2\n",
      "29            1                 1\n",
      "30            0                 0\n",
      "31            0                 0\n",
      "32            2                 2\n",
      "33            2                 2\n",
      "34            0                 0\n",
      "35            1                 1\n",
      "36            1                 1\n",
      "37            0                 0\n"
     ]
    }
   ],
   "source": [
    "print_dataset_properties(predictions_iris_k, accuracy_iris_k, compare_iris_k, total_number_of_errors_iris_k)"
   ]
  },
  {
   "cell_type": "code",
   "execution_count": 697,
   "metadata": {},
   "outputs": [],
   "source": [
    "del k_nearest_neighbour_iris, predictions_iris, compare_iris, accuracy_iris, error_rate_iris"
   ]
  },
  {
   "cell_type": "markdown",
   "metadata": {},
   "source": [
    "#### 1-Nearest Neighbour"
   ]
  },
  {
   "cell_type": "markdown",
   "metadata": {},
   "source": [
    "- The 1-Nearest algorithm is initialized \n",
    "- The the 2 sets that need to be tested are passed (fit)"
   ]
  },
  {
   "cell_type": "code",
   "execution_count": 698,
   "metadata": {},
   "outputs": [],
   "source": [
    "one_nearest_neighbour_iris: One_Nearest_Neighbours = One_Nearest_Neighbours() \n",
    "one_nearest_neighbour_iris.fit(X_train_iris, y_train_iris) # fit the model"
   ]
  },
  {
   "cell_type": "markdown",
   "metadata": {},
   "source": [
    "- Predict labels \n",
    "- Compare prediction with actual values \n",
    "- Compute accuracy of the prediction\n",
    "- Compute the error rate\n",
    "- Compute the total number of errors in the prediction"
   ]
  },
  {
   "cell_type": "code",
   "execution_count": 699,
   "metadata": {},
   "outputs": [],
   "source": [
    "predictions_iris: list = one_nearest_neighbour_iris.predict(X_test_iris) # predict the labels of the test data\n",
    "compare_iris: DataFrame = pd.DataFrame({'True Labels': y_test_iris, 'Predicted Labels': predictions_iris}) # compare the predicted labels with the actual labels\n",
    "accuracy_iris: float = one_nearest_neighbour_iris.score(X_test_iris, y_test_iris) # calculate the accuracy of the predictions\n",
    "error_rate_iris: float = 1 - accuracy_iris # calculate the error rate of the predictions\n",
    "total_number_of_errors_iris: int = sum(y_test_iris != predictions_iris) # calculate the total number of errors in the predictions"
   ]
  },
  {
   "cell_type": "code",
   "execution_count": 700,
   "metadata": {},
   "outputs": [
    {
     "name": "stdout",
     "output_type": "stream",
     "text": [
      "Predictions:  [0, 0, 0, 2, 2, 0, 2, 2, 0, 0, 0, 1, 2, 0, 2, 2, 1, 0, 1, 2, 1, 2, 1, 2, 1, 1, 2, 1, 2, 1, 0, 0, 2, 2, 0, 1, 1, 0]\n",
      "Accuracy:  0.9736842105263158\n",
      "Error Rate:  0.02631578947368418\n",
      "Total Number of Errors:  1\n",
      "Compare:      True Labels  Predicted Labels\n",
      "0             0                 0\n",
      "1             0                 0\n",
      "2             0                 0\n",
      "3             2                 2\n",
      "4             2                 2\n",
      "5             0                 0\n",
      "6             2                 2\n",
      "7             2                 2\n",
      "8             0                 0\n",
      "9             0                 0\n",
      "10            0                 0\n",
      "11            1                 1\n",
      "12            2                 2\n",
      "13            0                 0\n",
      "14            2                 2\n",
      "15            1                 2\n",
      "16            1                 1\n",
      "17            0                 0\n",
      "18            1                 1\n",
      "19            2                 2\n",
      "20            1                 1\n",
      "21            2                 2\n",
      "22            1                 1\n",
      "23            2                 2\n",
      "24            1                 1\n",
      "25            1                 1\n",
      "26            2                 2\n",
      "27            1                 1\n",
      "28            2                 2\n",
      "29            1                 1\n",
      "30            0                 0\n",
      "31            0                 0\n",
      "32            2                 2\n",
      "33            2                 2\n",
      "34            0                 0\n",
      "35            1                 1\n",
      "36            1                 1\n",
      "37            0                 0\n"
     ]
    }
   ],
   "source": [
    "print_dataset_properties(predictions_iris, accuracy_iris, compare_iris, total_number_of_errors_iris)"
   ]
  },
  {
   "cell_type": "code",
   "execution_count": 701,
   "metadata": {},
   "outputs": [],
   "source": [
    "del one_nearest_neighbour_iris, predictions_iris, compare_iris, accuracy_iris, error_rate_iris"
   ]
  },
  {
   "cell_type": "markdown",
   "metadata": {},
   "source": [
    "#### 3-Nearest Neighbours"
   ]
  },
  {
   "cell_type": "markdown",
   "metadata": {},
   "source": [
    "- The 3-Nearest algorithm is initialized \n",
    "- The the 2 sets that need to be tested are passed (fit)"
   ]
  },
  {
   "cell_type": "code",
   "execution_count": 702,
   "metadata": {},
   "outputs": [],
   "source": [
    "three_nearest_neighbours_iris: Three_Nearest_Neighbours = Three_Nearest_Neighbours()\n",
    "three_nearest_neighbours_iris.fit(X_train_iris, y_train_iris)"
   ]
  },
  {
   "cell_type": "markdown",
   "metadata": {},
   "source": [
    "- Predict labels \n",
    "- Compare prediction with actual values \n",
    "- Compute accuracy of the prediction\n",
    "- Compute the error rate\n",
    "- Compute the total number of errors in the prediction"
   ]
  },
  {
   "cell_type": "code",
   "execution_count": 703,
   "metadata": {},
   "outputs": [],
   "source": [
    "predictions_iris: list = three_nearest_neighbours_iris.predict(X_test_iris) # predict the labels of the test data\n",
    "compare_iris: DataFrame = pd.DataFrame({'True Labels': y_test_iris, 'Predicted Labels': predictions_iris}) # compare the predicted labels with the actual labels\n",
    "accuracy_iris: float = three_nearest_neighbours_iris.score(X_test_iris, y_test_iris) # calculate the accuracy of the predictions\n",
    "error_rate_iris: float = 1 - accuracy_iris # calculate the error rate of the predictions\n",
    "total_number_of_errors_iris: int = sum(y_test_iris != predictions_iris) # calculate the total number of errors in the predictions"
   ]
  },
  {
   "cell_type": "code",
   "execution_count": 704,
   "metadata": {},
   "outputs": [
    {
     "name": "stdout",
     "output_type": "stream",
     "text": [
      "Predictions:  [0, 0, 0, 2, 2, 0, 2, 2, 0, 0, 0, 1, 2, 0, 2, 2, 1, 0, 1, 2, 1, 2, 1, 2, 1, 1, 2, 1, 2, 1, 0, 0, 2, 2, 0, 1, 1, 0]\n",
      "Accuracy:  0.9736842105263158\n",
      "Error Rate:  0.02631578947368418\n",
      "Total Number of Errors:  1\n",
      "Compare:      True Labels  Predicted Labels\n",
      "0             0                 0\n",
      "1             0                 0\n",
      "2             0                 0\n",
      "3             2                 2\n",
      "4             2                 2\n",
      "5             0                 0\n",
      "6             2                 2\n",
      "7             2                 2\n",
      "8             0                 0\n",
      "9             0                 0\n",
      "10            0                 0\n",
      "11            1                 1\n",
      "12            2                 2\n",
      "13            0                 0\n",
      "14            2                 2\n",
      "15            1                 2\n",
      "16            1                 1\n",
      "17            0                 0\n",
      "18            1                 1\n",
      "19            2                 2\n",
      "20            1                 1\n",
      "21            2                 2\n",
      "22            1                 1\n",
      "23            2                 2\n",
      "24            1                 1\n",
      "25            1                 1\n",
      "26            2                 2\n",
      "27            1                 1\n",
      "28            2                 2\n",
      "29            1                 1\n",
      "30            0                 0\n",
      "31            0                 0\n",
      "32            2                 2\n",
      "33            2                 2\n",
      "34            0                 0\n",
      "35            1                 1\n",
      "36            1                 1\n",
      "37            0                 0\n"
     ]
    }
   ],
   "source": [
    "print_dataset_properties(predictions_iris, accuracy_iris, compare_iris, total_number_of_errors_iris)"
   ]
  },
  {
   "cell_type": "code",
   "execution_count": 705,
   "metadata": {},
   "outputs": [],
   "source": [
    "del three_nearest_neighbours_iris, predictions_iris, compare_iris, accuracy_iris, error_rate_iris"
   ]
  },
  {
   "cell_type": "markdown",
   "metadata": {},
   "source": [
    "### Comparing Nearest Neighbours Algorithms"
   ]
  },
  {
   "cell_type": "markdown",
   "metadata": {},
   "source": [
    "#### K-Nearest Neighbour (`k = 1`) vs 1-Nearest Neighbour"
   ]
  },
  {
   "cell_type": "markdown",
   "metadata": {},
   "source": [
    "**K-Nearest Neighbour**"
   ]
  },
  {
   "cell_type": "code",
   "execution_count": 706,
   "metadata": {},
   "outputs": [],
   "source": [
    "k_nearest_neighbour_iris: K_Nearest_Neighbours = K_Nearest_Neighbours(k=1) \n",
    "k_nearest_neighbour_iris.fit(X_train_iris, y_train_iris) # fit the model\n",
    "\n",
    "predictions_iris_k: list = k_nearest_neighbour_iris.predict(X_test_iris) # predict the labels of the test data\n",
    "accuracy_iris_k: float = k_nearest_neighbour_iris.score(X_test_iris, y_test_iris) # calculate the accuracy of the predictions"
   ]
  },
  {
   "cell_type": "markdown",
   "metadata": {},
   "source": [
    "**1-Nearest Neighbour**"
   ]
  },
  {
   "cell_type": "code",
   "execution_count": 707,
   "metadata": {},
   "outputs": [],
   "source": [
    "one_nearest_neighbour_iris: One_Nearest_Neighbours = One_Nearest_Neighbours() \n",
    "one_nearest_neighbour_iris.fit(X_train_iris, y_train_iris) # fit the model\n",
    "\n",
    "predictions_iris_1: list = one_nearest_neighbour_iris.predict(X_test_iris) # predict the labels of the test data\n",
    "accuracy_iris_1: float = one_nearest_neighbour_iris.score(X_test_iris, y_test_iris) # calculate the accuracy of the predictions"
   ]
  },
  {
   "cell_type": "markdown",
   "metadata": {},
   "source": [
    "**Comparing Results**"
   ]
  },
  {
   "cell_type": "markdown",
   "metadata": {},
   "source": [
    "- Both the predictions and the accuracy return true which means that the KNN and 1NN work exactly the same way and return the same values"
   ]
  },
  {
   "cell_type": "code",
   "execution_count": 708,
   "metadata": {},
   "outputs": [
    {
     "name": "stdout",
     "output_type": "stream",
     "text": [
      "Predictions:  True\n",
      "Accuracy:  True\n"
     ]
    }
   ],
   "source": [
    "print(\"Predictions: \", predictions_iris_k == predictions_iris_1) # check if the predictions are the same\n",
    "print(\"Accuracy: \", accuracy_iris_k == accuracy_iris_1) # check if the accuracies are the same"
   ]
  },
  {
   "cell_type": "code",
   "execution_count": 709,
   "metadata": {},
   "outputs": [],
   "source": [
    "del k_nearest_neighbour_iris, predictions_iris_k, accuracy_iris_k, one_nearest_neighbour_iris, predictions_iris_1, accuracy_iris_1"
   ]
  },
  {
   "cell_type": "markdown",
   "metadata": {},
   "source": [
    "#### K-Nearest Neighbour (`k = 3`) vs 3-Nearest Neighbour"
   ]
  },
  {
   "cell_type": "markdown",
   "metadata": {},
   "source": [
    "**K-Nearest Neighbour**"
   ]
  },
  {
   "cell_type": "code",
   "execution_count": 710,
   "metadata": {},
   "outputs": [],
   "source": [
    "k_nearest_neighbour_iris: K_Nearest_Neighbours = K_Nearest_Neighbours(k=3)\n",
    "k_nearest_neighbour_iris.fit(X_train_iris, y_train_iris) # fit the model\n",
    "\n",
    "predictions_iris_k: list = k_nearest_neighbour_iris.predict(X_test_iris) # predict the labels of the test data\n",
    "accuracy_iris_k: float = k_nearest_neighbour_iris.score(X_test_iris, y_test_iris) # calculate the accuracy of the predictions"
   ]
  },
  {
   "cell_type": "markdown",
   "metadata": {},
   "source": [
    "**3-Nearest Neighbour**"
   ]
  },
  {
   "cell_type": "code",
   "execution_count": 711,
   "metadata": {},
   "outputs": [],
   "source": [
    "three_nearest_neighbour_iris: Three_Nearest_Neighbours = Three_Nearest_Neighbours() \n",
    "three_nearest_neighbour_iris.fit(X_train_iris, y_train_iris) # fit the model\n",
    "\n",
    "predictions_iris_3: list = three_nearest_neighbour_iris.predict(X_test_iris) # predict the labels of the test data\n",
    "accuracy_iris_3: float = three_nearest_neighbour_iris.score(X_test_iris, y_test_iris) # calculate the accuracy of the predictions"
   ]
  },
  {
   "cell_type": "markdown",
   "metadata": {},
   "source": [
    "**Comparing Results**"
   ]
  },
  {
   "cell_type": "markdown",
   "metadata": {},
   "source": [
    "- Both the predictions and the accuracy return true which means that the KNN and 3NN work exactly the same way and return the same values"
   ]
  },
  {
   "cell_type": "code",
   "execution_count": 712,
   "metadata": {},
   "outputs": [
    {
     "name": "stdout",
     "output_type": "stream",
     "text": [
      "Predictions:  True\n",
      "Accuracy:  True\n"
     ]
    }
   ],
   "source": [
    "print(\"Predictions: \", predictions_iris_k == predictions_iris_3) \n",
    "print(\"Accuracy: \", accuracy_iris_k == accuracy_iris_3)"
   ]
  },
  {
   "cell_type": "code",
   "execution_count": 713,
   "metadata": {},
   "outputs": [],
   "source": [
    "del k_nearest_neighbour_iris, predictions_iris_k, accuracy_iris_k, three_nearest_neighbour_iris, predictions_iris_3, accuracy_iris_3"
   ]
  },
  {
   "cell_type": "markdown",
   "metadata": {},
   "source": [
    "#### Comparing Custom K-Nearest Neighbour Algorithm to `scikit` Built-In Implementation"
   ]
  },
  {
   "cell_type": "markdown",
   "metadata": {},
   "source": [
    "**SciKit Learn Implementation**"
   ]
  },
  {
   "cell_type": "code",
   "execution_count": 714,
   "metadata": {},
   "outputs": [],
   "source": [
    "k_nearest_neighbour_scikit = KNeighborsClassifier(n_neighbors=1) \n",
    "k_nearest_neighbour_scikit.fit(X_train_iris, y_train_iris)\n",
    "\n",
    "prediction_iris_scikit = k_nearest_neighbour_scikit.predict(X_test_iris) # predict the labels of the test data\n",
    "accuracy_iris_scikit = k_nearest_neighbour_scikit.score(X_test_iris, y_test_iris) # calculate the accuracy of the predictions"
   ]
  },
  {
   "cell_type": "markdown",
   "metadata": {},
   "source": [
    "**Custom Implementation**"
   ]
  },
  {
   "cell_type": "code",
   "execution_count": 715,
   "metadata": {},
   "outputs": [],
   "source": [
    "k_nearest_neighbour_iris_custom: K_Nearest_Neighbours = K_Nearest_Neighbours(k=3)\n",
    "k_nearest_neighbour_iris_custom.fit(X_train_iris, y_train_iris)\n",
    "\n",
    "predictions_iris_custom: list = k_nearest_neighbour_iris_custom.predict(X_test_iris) # predict the labels of the test data\n",
    "accuracy_iris_custom: float = k_nearest_neighbour_iris_custom.score(X_test_iris, y_test_iris) # calculate the accuracy of the predictions"
   ]
  },
  {
   "cell_type": "markdown",
   "metadata": {},
   "source": [
    "**Comparing Results**"
   ]
  },
  {
   "cell_type": "markdown",
   "metadata": {},
   "source": [
    "- Both the predictions and the accuracy return true which means that the custom built KNN and the SciKit KNN work exactly the same way and return the same values"
   ]
  },
  {
   "cell_type": "code",
   "execution_count": 716,
   "metadata": {},
   "outputs": [
    {
     "name": "stdout",
     "output_type": "stream",
     "text": [
      "Predictions:  True\n",
      "Accuracy:  True\n"
     ]
    }
   ],
   "source": [
    "print(\"Predictions: \", compare_lists(prediction_iris_scikit, predictions_iris_custom))\n",
    "print(\"Accuracy: \", accuracy_iris_scikit == accuracy_iris_custom)"
   ]
  },
  {
   "cell_type": "markdown",
   "metadata": {},
   "source": [
    "**Performance**"
   ]
  },
  {
   "cell_type": "code",
   "execution_count": 717,
   "metadata": {},
   "outputs": [],
   "source": [
    "custom_time: float = timeit.timeit(\"k_nearest_neighbour_iris_custom.predict(X_test_iris)\", globals=globals(), number=100)\n",
    "scikit_time: float = timeit.timeit(\"k_nearest_neighbour_scikit.predict(X_test_iris)\", globals=globals(), number=100)"
   ]
  },
  {
   "cell_type": "code",
   "execution_count": 718,
   "metadata": {},
   "outputs": [
    {
     "name": "stdout",
     "output_type": "stream",
     "text": [
      "Custom Time:  1.6095409059998929\n",
      "Scikit Time:  0.18531388199971843\n"
     ]
    }
   ],
   "source": [
    "print(\"Custom Time: \", custom_time)\n",
    "print(\"Scikit Time: \", scikit_time)"
   ]
  },
  {
   "cell_type": "code",
   "execution_count": 719,
   "metadata": {},
   "outputs": [
    {
     "data": {
      "image/png": "[encoded data removed]",
      "text/plain": [
       "<Figure size 640x480 with 1 Axes>"
      ]
     },
     "metadata": {},
     "output_type": "display_data"
    }
   ],
   "source": [
    "plt.bar(['Custom', 'Scikit'], [custom_time, scikit_time])\n",
    "plt.title('Time taken to predict 100 samples')\n",
    "plt.ylabel('Time (s)')\n",
    "plt.show()"
   ]
  },
  {
   "cell_type": "code",
   "execution_count": 720,
   "metadata": {},
   "outputs": [],
   "source": [
    "del k_nearest_neighbour_scikit, prediction_iris_scikit, accuracy_iris_scikit, k_nearest_neighbour_iris_custom, predictions_iris_custom, accuracy_iris_custom, custom_time, scikit_time"
   ]
  },
  {
   "cell_type": "markdown",
   "metadata": {},
   "source": [
    "### Conformal Prediction"
   ]
  },
  {
   "cell_type": "code",
   "execution_count": 721,
   "metadata": {},
   "outputs": [],
   "source": [
    "same_class_dist, other_class_dist = calculate_distance(X_train_iris, y_train_iris) # calculate the distance between the same class and other class\n",
    "p_values: list[float] = calculate_p_value(same_class_dist, other_class_dist) # calculate the p-value of the distance between the same class and other class\n",
    "conformal_prediction_iris: list[bool] = calculate_conformal_prediction(X_train_iris, y_train_iris, X_test_iris, 0.05) # calculate the conformal prediction of the test data\n",
    "alpha: float = calculate_alpha(p_values, 0.05) # calculate the alpha value\n",
    "conformal_prediction_iris_alpha: list[bool] = calculate_conformal_prediction(X_train_iris, y_train_iris, X_test_iris, alpha) # calculate the conformal prediction of the test data"
   ]
  },
  {
   "cell_type": "code",
   "execution_count": 722,
   "metadata": {},
   "outputs": [
    {
     "name": "stdout",
     "output_type": "stream",
     "text": [
      "Average p-value:  0.20425887325065029\n",
      "Average false p-value for `alpha = 0.05` iris dataset:  0.04837387454120709\n",
      "Conformal prediction:  1.0\n",
      "Conformal prediction for `alpha = 0.05` iris dataset:  1.0\n"
     ]
    }
   ],
   "source": [
    "print(\"Average p-value: \", np.mean(p_values))\n",
    "print(\"Average false p-value for `alpha = 0.05` iris dataset: \", alpha)\n",
    "print(\"Conformal prediction: \", np.mean(conformal_prediction_iris))\n",
    "print(\"Conformal prediction for `alpha = 0.05` iris dataset: \", np.mean(conformal_prediction_iris_alpha))"
   ]
  },
  {
   "cell_type": "code",
   "execution_count": 723,
   "metadata": {},
   "outputs": [],
   "source": [
    "del same_class_dist, other_class_dist, p_values, conformal_prediction_iris, alpha, conformal_prediction_iris_alpha"
   ]
  },
  {
   "cell_type": "markdown",
   "metadata": {},
   "source": [
    "## Ionosphere"
   ]
  },
  {
   "cell_type": "markdown",
   "metadata": {},
   "source": [
    "### Loading Dataset"
   ]
  },
  {
   "cell_type": "code",
   "execution_count": 724,
   "metadata": {},
   "outputs": [],
   "source": [
    "X_ionosphere = np.genfromtxt(\"ionosphere.txt\", delimiter=',', dtype='int') \n",
    "X_ionosphere = X_ionosphere[:, :-1] \n",
    "y_ionosphere = np.genfromtxt(\"ionosphere.txt\", delimiter=',', dtype='int')\n",
    "y_ionosphere = y_ionosphere[:, -1]"
   ]
  },
  {
   "cell_type": "markdown",
   "metadata": {},
   "source": [
    "### Splitting Dataset"
   ]
  },
  {
   "cell_type": "code",
   "execution_count": 725,
   "metadata": {},
   "outputs": [],
   "source": [
    "X_train_ionosphere, X_test_ionosphere, y_train_ionosphere, y_test_ionosphere = train_test_split(X_ionosphere, y_ionosphere, random_state=55)"
   ]
  },
  {
   "cell_type": "markdown",
   "metadata": {},
   "source": [
    "### Checking Dataset"
   ]
  },
  {
   "cell_type": "code",
   "execution_count": 726,
   "metadata": {},
   "outputs": [
    {
     "name": "stdout",
     "output_type": "stream",
     "text": [
      "Iris Training Set Features Size:  (351, 34)\n",
      "Iris Training Set Labels Size:    (351,)\n"
     ]
    }
   ],
   "source": [
    "print(\"Iris Training Set Features Size: \", X_ionosphere.shape)\n",
    "print(\"Iris Training Set Labels Size:   \", y_ionosphere.shape)"
   ]
  },
  {
   "cell_type": "code",
   "execution_count": 727,
   "metadata": {},
   "outputs": [],
   "source": [
    "# print(X_ionosphere)\n",
    "# print(y_ionosphere)"
   ]
  },
  {
   "cell_type": "markdown",
   "metadata": {},
   "source": [
    "### Checking Nearest Neighbours Algorithms"
   ]
  },
  {
   "cell_type": "markdown",
   "metadata": {},
   "source": [
    "#### K-Nearest Neighbours"
   ]
  },
  {
   "cell_type": "markdown",
   "metadata": {},
   "source": [
    "##### `K = 3`"
   ]
  },
  {
   "cell_type": "markdown",
   "metadata": {},
   "source": [
    "- The K-Nearest algorithm is initialized and 3 is passed as the number of neighbours required\n",
    "- The the 2 sets that need to be tested are passed (fit)"
   ]
  },
  {
   "cell_type": "code",
   "execution_count": 728,
   "metadata": {},
   "outputs": [],
   "source": [
    "k_nearest_neighbour_ionosphere: K_Nearest_Neighbours = K_Nearest_Neighbours(k=3)\n",
    "k_nearest_neighbour_ionosphere.fit(X_ionosphere, y_ionosphere)"
   ]
  },
  {
   "cell_type": "markdown",
   "metadata": {},
   "source": [
    "- Predict labels \n",
    "- Compare prediction with actual values \n",
    "- Compute accuracy of the prediction\n",
    "- Compute the error rate\n",
    "- Compute the total number of errors in the prediction"
   ]
  },
  {
   "cell_type": "code",
   "execution_count": 729,
   "metadata": {},
   "outputs": [],
   "source": [
    "predictions_ionosphere: list = k_nearest_neighbour_ionosphere.predict(X_ionosphere)\n",
    "compare_ionosphere: DataFrame = pd.DataFrame({'True Labels': y_ionosphere, 'Predicted Labels': predictions_ionosphere})\n",
    "accuracy_ionosphere: float = k_nearest_neighbour_ionosphere.score(X_ionosphere, y_ionosphere)\n",
    "error_rate_ionosphere: float = 1 - accuracy_ionosphere\n",
    "total_number_of_errors_ionosphere: int = sum(compare_ionosphere['True Labels'] != compare_ionosphere['Predicted Labels'])"
   ]
  },
  {
   "cell_type": "code",
   "execution_count": 730,
   "metadata": {},
   "outputs": [
    {
     "name": "stdout",
     "output_type": "stream",
     "text": [
      "Predictions:  [1, 1, 1, -1, 1, -1, 1, -1, 1, -1, 1, -1, 1, -1, 1, -1, 1, -1, 1, -1, 1, -1, 1, -1, 1, 1, 1, -1, 1, -1, 1, -1, 1, -1, 1, 1, 1, -1, 1, 1, 1, -1, 1, -1, 1, -1, 1, -1, 1, -1, 1, -1, 1, -1, 1, -1, 1, -1, 1, -1, 1, -1, 1, -1, 1, 1, 1, -1, 1, -1, 1, -1, 1, -1, 1, -1, 1, -1, 1, -1, 1, -1, 1, 1, 1, -1, 1, -1, 1, 1, 1, 1, 1, -1, 1, 1, 1, 1, 1, 1, -1, 1, -1, 1, -1, -1, -1, 1, -1, 1, -1, 1, -1, 1, -1, 1, 1, 1, 1, -1, 1, 1, 1, 1, -1, 1, 1, 1, -1, 1, -1, 1, -1, 1, -1, 1, 1, 1, 1, 1, 1, 1, -1, 1, 1, 1, -1, 1, -1, 1, 1, 1, 1, 1, 1, 1, -1, 1, 1, 1, 1, 1, -1, 1, -1, 1, -1, 1, -1, 1, -1, 1, -1, 1, -1, 1, 1, 1, -1, 1, -1, 1, -1, 1, -1, 1, -1, 1, -1, 1, -1, 1, -1, 1, -1, 1, -1, 1, 1, -1, -1, 1, -1, 1, -1, 1, -1, 1, -1, 1, -1, 1, -1, 1, -1, 1, -1, 1, -1, 1, -1, 1, -1, 1, -1, 1, -1, 1, -1, 1, -1, 1, -1, 1, -1, 1, 1, 1, 1, 1, -1, 1, -1, 1, -1, 1, -1, 1, -1, 1, -1, 1, -1, 1, 1, 1, 1, 1, 1, 1, 1, 1, 1, 1, 1, 1, 1, 1, 1, 1, 1, 1, 1, 1, 1, 1, 1, 1, 1, 1, 1, 1, 1, 1, 1, 1, 1, 1, 1, 1, 1, 1, 1, 1, 1, 1, 1, 1, 1, 1, 1, 1, 1, 1, 1, 1, 1, 1, 1, 1, 1, 1, 1, 1, 1, 1, 1, 1, 1, 1, 1, 1, 1, 1, 1, 1, 1, 1, 1, 1, 1, 1, 1, 1, 1, 1, 1, 1, 1, 1, 1, 1, 1, 1, 1, 1, 1, 1, 1, 1, 1]\n",
      "Accuracy:  0.9116809116809117\n",
      "Error Rate:  0.0883190883190883\n",
      "Total Number of Errors:  31\n",
      "Compare:       True Labels  Predicted Labels\n",
      "0              1                 1\n",
      "1             -1                 1\n",
      "2              1                 1\n",
      "3             -1                -1\n",
      "4              1                 1\n",
      "..           ...               ...\n",
      "346            1                 1\n",
      "347            1                 1\n",
      "348            1                 1\n",
      "349            1                 1\n",
      "350            1                 1\n",
      "\n",
      "[351 rows x 2 columns]\n"
     ]
    }
   ],
   "source": [
    "print_dataset_properties(predictions_ionosphere, accuracy_ionosphere, compare_ionosphere, total_number_of_errors_ionosphere)"
   ]
  },
  {
   "cell_type": "markdown",
   "metadata": {},
   "source": [
    "##### `K = 1`"
   ]
  },
  {
   "cell_type": "markdown",
   "metadata": {},
   "source": [
    "- The K-Nearest algorithm is initialized and 1 is passed as the number of neighbours required\n",
    "- The the 2 sets that need to be tested are passed (fit)"
   ]
  },
  {
   "cell_type": "code",
   "execution_count": 731,
   "metadata": {},
   "outputs": [],
   "source": [
    "k_nearest_neighbour_ionosphere: K_Nearest_Neighbours = K_Nearest_Neighbours(k=1)\n",
    "k_nearest_neighbour_ionosphere.fit(X_ionosphere, y_ionosphere)"
   ]
  },
  {
   "cell_type": "markdown",
   "metadata": {},
   "source": [
    "- Predict labels \n",
    "- Compare prediction with actual values \n",
    "- Compute accuracy of the prediction\n",
    "- Compute the error rate\n",
    "- Compute the total number of errors in the prediction"
   ]
  },
  {
   "cell_type": "code",
   "execution_count": 732,
   "metadata": {},
   "outputs": [],
   "source": [
    "predictions_ionosphere: list = k_nearest_neighbour_ionosphere.predict(X_ionosphere)\n",
    "compare_ionosphere: DataFrame = pd.DataFrame({'True Labels': y_ionosphere, 'Predicted Labels': predictions_ionosphere})\n",
    "accuracy_ionosphere: float = k_nearest_neighbour_ionosphere.score(X_ionosphere, y_ionosphere)\n",
    "error_rate_ionosphere: float = 1 - accuracy_ionosphere\n",
    "total_number_of_errors_ionosphere: int = sum(compare_ionosphere['True Labels'] != compare_ionosphere['Predicted Labels'])"
   ]
  },
  {
   "cell_type": "code",
   "execution_count": 733,
   "metadata": {},
   "outputs": [
    {
     "name": "stdout",
     "output_type": "stream",
     "text": [
      "Predictions:  [1, -1, 1, -1, 1, -1, 1, -1, 1, -1, 1, -1, 1, -1, 1, -1, 1, -1, 1, -1, 1, -1, 1, -1, 1, -1, 1, -1, 1, -1, 1, -1, 1, -1, 1, -1, 1, -1, 1, -1, 1, -1, 1, -1, 1, -1, 1, -1, 1, -1, 1, -1, 1, -1, 1, -1, 1, -1, -1, -1, 1, -1, 1, -1, 1, -1, 1, -1, 1, -1, 1, -1, 1, -1, 1, -1, 1, -1, 1, -1, -1, -1, 1, -1, 1, -1, 1, -1, 1, 1, 1, 1, 1, -1, 1, -1, 1, 1, -1, 1, -1, 1, -1, 1, -1, 1, -1, 1, -1, 1, -1, 1, -1, 1, -1, 1, -1, 1, 1, 1, 1, 1, -1, 1, -1, 1, -1, 1, -1, 1, -1, 1, -1, 1, -1, 1, -1, 1, -1, 1, 1, 1, -1, 1, -1, 1, -1, 1, -1, 1, 1, 1, -1, 1, 1, 1, -1, 1, -1, 1, -1, 1, -1, 1, -1, 1, -1, 1, -1, 1, -1, 1, -1, 1, -1, -1, -1, 1, -1, 1, -1, 1, -1, 1, -1, 1, -1, 1, -1, 1, -1, 1, -1, 1, -1, 1, -1, 1, -1, 1, -1, 1, -1, 1, -1, 1, -1, 1, -1, 1, -1, 1, -1, 1, -1, 1, -1, 1, -1, 1, -1, 1, -1, 1, -1, 1, -1, 1, -1, 1, -1, 1, -1, 1, -1, 1, 1, 1, -1, 1, -1, 1, -1, 1, -1, 1, -1, 1, -1, 1, -1, 1, -1, 1, 1, 1, 1, 1, 1, 1, 1, 1, 1, 1, 1, 1, 1, 1, 1, 1, 1, 1, 1, 1, 1, 1, 1, 1, 1, 1, 1, 1, 1, 1, 1, 1, 1, 1, 1, 1, 1, 1, 1, 1, 1, 1, 1, 1, 1, 1, 1, 1, 1, 1, 1, 1, 1, 1, 1, 1, 1, 1, -1, 1, 1, 1, 1, 1, 1, 1, 1, 1, 1, 1, 1, 1, 1, 1, 1, 1, 1, 1, 1, 1, 1, 1, 1, 1, 1, 1, 1, 1, 1, 1, 1, 1, 1, 1, 1, 1, 1]\n",
      "Accuracy:  0.9658119658119658\n",
      "Error Rate:  0.03418803418803418\n",
      "Total Number of Errors:  12\n",
      "Compare:       True Labels  Predicted Labels\n",
      "0              1                 1\n",
      "1             -1                -1\n",
      "2              1                 1\n",
      "3             -1                -1\n",
      "4              1                 1\n",
      "..           ...               ...\n",
      "346            1                 1\n",
      "347            1                 1\n",
      "348            1                 1\n",
      "349            1                 1\n",
      "350            1                 1\n",
      "\n",
      "[351 rows x 2 columns]\n"
     ]
    }
   ],
   "source": [
    "print_dataset_properties(predictions_ionosphere, accuracy_ionosphere, compare_ionosphere, total_number_of_errors_ionosphere)"
   ]
  },
  {
   "cell_type": "code",
   "execution_count": 734,
   "metadata": {},
   "outputs": [],
   "source": [
    "del k_nearest_neighbour_ionosphere, predictions_ionosphere, compare_ionosphere, accuracy_ionosphere, error_rate_ionosphere"
   ]
  },
  {
   "cell_type": "markdown",
   "metadata": {},
   "source": [
    "#### 1 Nearest Neighbour"
   ]
  },
  {
   "cell_type": "markdown",
   "metadata": {},
   "source": [
    "- The 1-Nearest algorithm is initialized\n",
    "- The the 2 sets that need to be tested are passed (fit)"
   ]
  },
  {
   "cell_type": "code",
   "execution_count": 735,
   "metadata": {},
   "outputs": [],
   "source": [
    "one_nearest_neighbour_ionosphere: One_Nearest_Neighbours = One_Nearest_Neighbours()\n",
    "one_nearest_neighbour_ionosphere.fit(X_ionosphere, y_ionosphere)"
   ]
  },
  {
   "cell_type": "markdown",
   "metadata": {},
   "source": [
    "- Predict labels \n",
    "- Compare prediction with actual values \n",
    "- Compute accuracy of the prediction\n",
    "- Compute the error rate\n",
    "- Compute the total number of errors in the prediction"
   ]
  },
  {
   "cell_type": "code",
   "execution_count": 736,
   "metadata": {},
   "outputs": [],
   "source": [
    "predictions_ionosphere: list = one_nearest_neighbour_ionosphere.predict(X_ionosphere)\n",
    "compare_ionosphere = pd.DataFrame({'True Labels': y_ionosphere, 'Predicted Labels': predictions_ionosphere})\n",
    "accuracy_ionosphere: float = one_nearest_neighbour_ionosphere.score(X_ionosphere, y_ionosphere)\n",
    "error_rate_ionosphere: float = 1 - accuracy_ionosphere\n",
    "total_number_of_errors_ionosphere: int = sum(compare_ionosphere['True Labels'] != compare_ionosphere['Predicted Labels'])"
   ]
  },
  {
   "cell_type": "code",
   "execution_count": 737,
   "metadata": {},
   "outputs": [
    {
     "name": "stdout",
     "output_type": "stream",
     "text": [
      "Predictions:  [1, -1, 1, -1, 1, -1, 1, -1, 1, -1, 1, -1, 1, -1, 1, -1, 1, -1, 1, -1, 1, -1, 1, -1, 1, -1, 1, -1, 1, -1, 1, -1, 1, -1, 1, -1, 1, -1, 1, -1, 1, -1, 1, -1, 1, -1, 1, -1, 1, -1, 1, -1, 1, -1, 1, -1, 1, -1, -1, -1, 1, -1, 1, -1, 1, -1, 1, -1, 1, -1, 1, -1, 1, -1, 1, -1, 1, -1, 1, -1, -1, -1, 1, -1, 1, -1, 1, -1, 1, 1, 1, 1, 1, -1, 1, -1, 1, 1, -1, 1, -1, 1, -1, 1, -1, 1, -1, 1, -1, 1, -1, 1, -1, 1, -1, 1, -1, 1, 1, 1, 1, 1, -1, 1, -1, 1, -1, 1, -1, 1, -1, 1, -1, 1, -1, 1, -1, 1, -1, 1, 1, 1, -1, 1, -1, 1, -1, 1, -1, 1, 1, 1, -1, 1, 1, 1, -1, 1, -1, 1, -1, 1, -1, 1, -1, 1, -1, 1, -1, 1, -1, 1, -1, 1, -1, -1, -1, 1, -1, 1, -1, 1, -1, 1, -1, 1, -1, 1, -1, 1, -1, 1, -1, 1, -1, 1, -1, 1, -1, 1, -1, 1, -1, 1, -1, 1, -1, 1, -1, 1, -1, 1, -1, 1, -1, 1, -1, 1, -1, 1, -1, 1, -1, 1, -1, 1, -1, 1, -1, 1, -1, 1, -1, 1, -1, 1, 1, 1, -1, 1, -1, 1, -1, 1, -1, 1, -1, 1, -1, 1, -1, 1, -1, 1, 1, 1, 1, 1, 1, 1, 1, 1, 1, 1, 1, 1, 1, 1, 1, 1, 1, 1, 1, 1, 1, 1, 1, 1, 1, 1, 1, 1, 1, 1, 1, 1, 1, 1, 1, 1, 1, 1, 1, 1, 1, 1, 1, 1, 1, 1, 1, 1, 1, 1, 1, 1, 1, 1, 1, 1, 1, 1, -1, 1, 1, 1, 1, 1, 1, 1, 1, 1, 1, 1, 1, 1, 1, 1, 1, 1, 1, 1, 1, 1, 1, 1, 1, 1, 1, 1, 1, 1, 1, 1, 1, 1, 1, 1, 1, 1, 1]\n",
      "Accuracy:  0.9658119658119658\n",
      "Error Rate:  0.03418803418803418\n",
      "Total Number of Errors:  12\n",
      "Compare:       True Labels  Predicted Labels\n",
      "0              1                 1\n",
      "1             -1                -1\n",
      "2              1                 1\n",
      "3             -1                -1\n",
      "4              1                 1\n",
      "..           ...               ...\n",
      "346            1                 1\n",
      "347            1                 1\n",
      "348            1                 1\n",
      "349            1                 1\n",
      "350            1                 1\n",
      "\n",
      "[351 rows x 2 columns]\n"
     ]
    }
   ],
   "source": [
    "print_dataset_properties(predictions_ionosphere, accuracy_ionosphere, compare_ionosphere, total_number_of_errors_ionosphere)"
   ]
  },
  {
   "cell_type": "code",
   "execution_count": 738,
   "metadata": {},
   "outputs": [],
   "source": [
    "del one_nearest_neighbour_ionosphere, predictions_ionosphere, compare_ionosphere, accuracy_ionosphere, error_rate_ionosphere"
   ]
  },
  {
   "cell_type": "markdown",
   "metadata": {},
   "source": [
    "#### 3 Nearest Neighbour"
   ]
  },
  {
   "cell_type": "markdown",
   "metadata": {},
   "source": [
    "- The 3-Nearest algorithm is initialized\n",
    "- The the 2 sets that need to be tested are passed (fit)"
   ]
  },
  {
   "cell_type": "code",
   "execution_count": 739,
   "metadata": {},
   "outputs": [],
   "source": [
    "three_nearest_neighbours_ionosphere: Three_Nearest_Neighbours = Three_Nearest_Neighbours()\n",
    "three_nearest_neighbours_ionosphere.fit(X_ionosphere, y_ionosphere)"
   ]
  },
  {
   "cell_type": "markdown",
   "metadata": {},
   "source": [
    "- Predict labels \n",
    "- Compare prediction with actual values \n",
    "- Compute accuracy of the prediction\n",
    "- Compute the error rate\n",
    "- Compute the total number of errors in the prediction"
   ]
  },
  {
   "cell_type": "code",
   "execution_count": 740,
   "metadata": {},
   "outputs": [],
   "source": [
    "predictions_ionosphere: list = three_nearest_neighbours_ionosphere.predict(X_ionosphere)\n",
    "compare_ionosphere: DataFrame = pd.DataFrame({'True Labels': y_ionosphere, 'Predicted Labels': predictions_ionosphere})\n",
    "accuracy_ionosphere: float = three_nearest_neighbours_ionosphere.score(X_ionosphere, y_ionosphere)\n",
    "error_rate_ionosphere: float = 1 - accuracy_ionosphere\n",
    "total_number_of_errors_ionosphere: int = sum(compare_ionosphere['True Labels'] != compare_ionosphere['Predicted Labels'])"
   ]
  },
  {
   "cell_type": "code",
   "execution_count": 741,
   "metadata": {},
   "outputs": [
    {
     "name": "stdout",
     "output_type": "stream",
     "text": [
      "Predictions:  [1, 1, 1, -1, 1, -1, 1, -1, 1, -1, 1, -1, 1, -1, 1, -1, 1, -1, 1, -1, 1, -1, 1, -1, 1, 1, 1, -1, 1, -1, 1, -1, 1, -1, 1, 1, 1, -1, 1, 1, 1, -1, 1, -1, 1, -1, 1, -1, 1, -1, 1, -1, 1, -1, 1, -1, 1, -1, 1, -1, 1, -1, 1, -1, 1, 1, 1, -1, 1, -1, 1, -1, 1, -1, 1, -1, 1, -1, 1, -1, 1, -1, 1, 1, 1, -1, 1, -1, 1, 1, 1, 1, 1, -1, 1, 1, 1, 1, 1, 1, -1, 1, -1, 1, -1, -1, -1, 1, -1, 1, -1, 1, -1, 1, -1, 1, 1, 1, 1, -1, 1, 1, 1, 1, -1, 1, 1, 1, -1, 1, -1, 1, -1, 1, -1, 1, 1, 1, 1, 1, 1, 1, -1, 1, 1, 1, -1, 1, -1, 1, 1, 1, 1, 1, 1, 1, -1, 1, 1, 1, 1, 1, -1, 1, -1, 1, -1, 1, -1, 1, -1, 1, -1, 1, -1, 1, 1, 1, -1, 1, -1, 1, -1, 1, -1, 1, -1, 1, -1, 1, -1, 1, -1, 1, -1, 1, -1, 1, 1, -1, -1, 1, -1, 1, -1, 1, -1, 1, -1, 1, -1, 1, -1, 1, -1, 1, -1, 1, -1, 1, -1, 1, -1, 1, -1, 1, -1, 1, -1, 1, -1, 1, -1, 1, -1, 1, 1, 1, 1, 1, -1, 1, -1, 1, -1, 1, -1, 1, -1, 1, -1, 1, -1, 1, 1, 1, 1, 1, 1, 1, 1, 1, 1, 1, 1, 1, 1, 1, 1, 1, 1, 1, 1, 1, 1, 1, 1, 1, 1, 1, 1, 1, 1, 1, 1, 1, 1, 1, 1, 1, 1, 1, 1, 1, 1, 1, 1, 1, 1, 1, 1, 1, 1, 1, 1, 1, 1, 1, 1, 1, 1, 1, 1, 1, 1, 1, 1, 1, 1, 1, 1, 1, 1, 1, 1, 1, 1, 1, 1, 1, 1, 1, 1, 1, 1, 1, 1, 1, 1, 1, 1, 1, 1, 1, 1, 1, 1, 1, 1, 1, 1]\n",
      "Accuracy:  0.9116809116809117\n",
      "Error Rate:  0.0883190883190883\n",
      "Total Number of Errors:  31\n",
      "Compare:       True Labels  Predicted Labels\n",
      "0              1                 1\n",
      "1             -1                 1\n",
      "2              1                 1\n",
      "3             -1                -1\n",
      "4              1                 1\n",
      "..           ...               ...\n",
      "346            1                 1\n",
      "347            1                 1\n",
      "348            1                 1\n",
      "349            1                 1\n",
      "350            1                 1\n",
      "\n",
      "[351 rows x 2 columns]\n"
     ]
    }
   ],
   "source": [
    "print_dataset_properties(predictions_ionosphere, accuracy_ionosphere, compare_ionosphere, total_number_of_errors_ionosphere)"
   ]
  },
  {
   "cell_type": "code",
   "execution_count": 742,
   "metadata": {},
   "outputs": [],
   "source": [
    "del three_nearest_neighbours_ionosphere, predictions_ionosphere, compare_ionosphere, accuracy_ionosphere, error_rate_ionosphere"
   ]
  },
  {
   "cell_type": "markdown",
   "metadata": {},
   "source": [
    "### Comparing Nearest Neighbour Algorithms"
   ]
  },
  {
   "cell_type": "markdown",
   "metadata": {},
   "source": [
    "#### K-Nearest Neighbour (`k = 1`) vs 1-Nearest Neighbour "
   ]
  },
  {
   "cell_type": "markdown",
   "metadata": {},
   "source": [
    "**K-Nearest Neighbour**"
   ]
  },
  {
   "cell_type": "code",
   "execution_count": 743,
   "metadata": {},
   "outputs": [],
   "source": [
    "k_nearest_neighbour_ionosphere: K_Nearest_Neighbours = K_Nearest_Neighbours(k=1)\n",
    "k_nearest_neighbour_ionosphere.fit(X_train_ionosphere, y_train_ionosphere)\n",
    "\n",
    "predictions_ionosphere_k: list = k_nearest_neighbour_ionosphere.predict(X_test_ionosphere)\n",
    "accuracy_iris_k: float = k_nearest_neighbour_ionosphere.score(X_test_ionosphere, y_test_ionosphere)"
   ]
  },
  {
   "cell_type": "markdown",
   "metadata": {},
   "source": [
    "**One Nearest Neighbour**"
   ]
  },
  {
   "cell_type": "code",
   "execution_count": 744,
   "metadata": {},
   "outputs": [],
   "source": [
    "one_nearest_neighbour_ionosphere: One_Nearest_Neighbours = One_Nearest_Neighbours()\n",
    "one_nearest_neighbour_ionosphere.fit(X_train_ionosphere, y_train_ionosphere)\n",
    "\n",
    "predictions_ionosphere_1: list = one_nearest_neighbour_ionosphere.predict(X_test_ionosphere)\n",
    "accuracy_ionosphere_1: float = one_nearest_neighbour_ionosphere.score(X_test_ionosphere, y_test_ionosphere)"
   ]
  },
  {
   "cell_type": "markdown",
   "metadata": {},
   "source": [
    "**Comparing Results**"
   ]
  },
  {
   "cell_type": "markdown",
   "metadata": {},
   "source": [
    "- Both the predictions and the accuracy return true which means that the KNN and 1NN work exactly the same way and return the same values"
   ]
  },
  {
   "cell_type": "code",
   "execution_count": 745,
   "metadata": {},
   "outputs": [
    {
     "name": "stdout",
     "output_type": "stream",
     "text": [
      "Predictions:  True\n",
      "Accuracy:  True\n"
     ]
    }
   ],
   "source": [
    "print(\"Predictions: \", compare_lists(predictions_ionosphere_k, predictions_ionosphere_1))\n",
    "print(\"Accuracy: \", accuracy_iris_k == accuracy_ionosphere_1)"
   ]
  },
  {
   "cell_type": "code",
   "execution_count": 746,
   "metadata": {},
   "outputs": [],
   "source": [
    "del k_nearest_neighbour_ionosphere, predictions_ionosphere_k, accuracy_iris_k, one_nearest_neighbour_ionosphere, predictions_ionosphere_1, accuracy_ionosphere_1"
   ]
  },
  {
   "cell_type": "markdown",
   "metadata": {},
   "source": [
    "#### K-Nearest Neighbour (`k = 3`) vs 3-Nearest Neighbour"
   ]
  },
  {
   "cell_type": "markdown",
   "metadata": {},
   "source": [
    "**K-Nearest Neighbour**"
   ]
  },
  {
   "cell_type": "code",
   "execution_count": 747,
   "metadata": {},
   "outputs": [],
   "source": [
    "k_nearest_neighbour_ionosphere: K_Nearest_Neighbours = K_Nearest_Neighbours(k=3)\n",
    "k_nearest_neighbour_ionosphere.fit(X_train_ionosphere, y_train_ionosphere)\n",
    "\n",
    "predictions_ionosphere_k: list = k_nearest_neighbour_ionosphere.predict(X_test_ionosphere)\n",
    "accuracy_iris_k: float = k_nearest_neighbour_ionosphere.score(X_test_ionosphere, y_test_ionosphere)"
   ]
  },
  {
   "cell_type": "markdown",
   "metadata": {},
   "source": [
    "**3-Nearest Neighbour**"
   ]
  },
  {
   "cell_type": "code",
   "execution_count": 748,
   "metadata": {},
   "outputs": [],
   "source": [
    "three_nearest_neighbours_ionosphere: Three_Nearest_Neighbours = Three_Nearest_Neighbours()\n",
    "three_nearest_neighbours_ionosphere.fit(X_train_ionosphere, y_train_ionosphere)\n",
    "\n",
    "predictions_ionosphere_3: list = three_nearest_neighbours_ionosphere.predict(X_test_ionosphere)\n",
    "accuracy_ionosphere_3: float = three_nearest_neighbours_ionosphere.score(X_test_ionosphere, y_test_ionosphere)"
   ]
  },
  {
   "cell_type": "markdown",
   "metadata": {},
   "source": [
    "**Comparing Results**"
   ]
  },
  {
   "cell_type": "markdown",
   "metadata": {},
   "source": [
    "- Both the predictions and the accuracy return true which means that the KNN and 3NN work exactly the same way and return the same values"
   ]
  },
  {
   "cell_type": "code",
   "execution_count": 749,
   "metadata": {},
   "outputs": [
    {
     "name": "stdout",
     "output_type": "stream",
     "text": [
      "Predictions:  True\n",
      "Accuracy:  True\n"
     ]
    }
   ],
   "source": [
    "print(\"Predictions: \", compare_lists(predictions_ionosphere_k, predictions_ionosphere_3))\n",
    "print(\"Accuracy: \", accuracy_iris_k == accuracy_ionosphere_3)"
   ]
  },
  {
   "cell_type": "code",
   "execution_count": 750,
   "metadata": {},
   "outputs": [],
   "source": [
    "del k_nearest_neighbour_ionosphere, predictions_ionosphere_k, accuracy_iris_k, three_nearest_neighbours_ionosphere, predictions_ionosphere_3, accuracy_ionosphere_3"
   ]
  },
  {
   "cell_type": "markdown",
   "metadata": {},
   "source": [
    "#### Comparing Custom K-Nearest Neighbour Algorithm to `scikit` Built-In Implementation"
   ]
  },
  {
   "cell_type": "markdown",
   "metadata": {},
   "source": [
    "**SciKit Learn Implementation**"
   ]
  },
  {
   "cell_type": "code",
   "execution_count": 751,
   "metadata": {},
   "outputs": [],
   "source": [
    "k_nearest_neighbour_ionosphere_scikit: KNeighborsClassifier = KNeighborsClassifier(n_neighbors=3)\n",
    "k_nearest_neighbour_ionosphere_scikit.fit(X_train_ionosphere, y_train_ionosphere)\n",
    "\n",
    "predictions_ionosphere_scikit: list = k_nearest_neighbour_ionosphere_scikit.predict(X_test_ionosphere)\n",
    "accuracy_ionosphere_scikit: float = k_nearest_neighbour_ionosphere_scikit.score(X_test_ionosphere, y_test_ionosphere)"
   ]
  },
  {
   "cell_type": "markdown",
   "metadata": {},
   "source": [
    "**Custom Implementation**"
   ]
  },
  {
   "cell_type": "code",
   "execution_count": 752,
   "metadata": {},
   "outputs": [],
   "source": [
    "k_nearest_neighbour_ionosphere_custom: K_Nearest_Neighbours = K_Nearest_Neighbours(k=3)\n",
    "k_nearest_neighbour_ionosphere_custom.fit(X_train_ionosphere, y_train_ionosphere)\n",
    "\n",
    "predictions_ionosphere_custom: list = k_nearest_neighbour_ionosphere_custom.predict(X_test_ionosphere)\n",
    "accuracy_ionosphere_custom: float = k_nearest_neighbour_ionosphere_custom.score(X_test_ionosphere, y_test_ionosphere)"
   ]
  },
  {
   "cell_type": "markdown",
   "metadata": {},
   "source": [
    "**Comparing Results**"
   ]
  },
  {
   "cell_type": "markdown",
   "metadata": {},
   "source": [
    "- Both the predictions and the accuracy return true which means that the custom KNN and the SciKit KNN work exactly the same way and return the same values"
   ]
  },
  {
   "cell_type": "code",
   "execution_count": 753,
   "metadata": {},
   "outputs": [
    {
     "name": "stdout",
     "output_type": "stream",
     "text": [
      "Predictions:  True\n",
      "Accuracy:  True\n"
     ]
    }
   ],
   "source": [
    "print(\"Predictions: \", compare_lists(predictions_ionosphere_scikit, predictions_ionosphere_custom))\n",
    "print(\"Accuracy: \", accuracy_ionosphere_scikit == accuracy_ionosphere_custom)"
   ]
  },
  {
   "cell_type": "code",
   "execution_count": 754,
   "metadata": {},
   "outputs": [],
   "source": [
    "del k_nearest_neighbour_ionosphere_scikit, predictions_ionosphere_scikit, accuracy_ionosphere_scikit, k_nearest_neighbour_ionosphere_custom, predictions_ionosphere_custom, accuracy_ionosphere_custom"
   ]
  },
  {
   "cell_type": "markdown",
   "metadata": {},
   "source": [
    "### Conformal Prediction"
   ]
  },
  {
   "cell_type": "code",
   "execution_count": 755,
   "metadata": {},
   "outputs": [
    {
     "name": "stderr",
     "output_type": "stream",
     "text": [
      "/tmp/ipykernel_4398/2363363583.py:43: RuntimeWarning: invalid value encountered in double_scalars\n",
      "  p_values.append(element_same / (element_other + element_same)) # calculate the p-value\n"
     ]
    }
   ],
   "source": [
    "same_class_dist, other_class_dist = calculate_distance(X_train_ionosphere, y_train_ionosphere)\n",
    "p_values: list[float] = calculate_p_value(same_class_dist, other_class_dist)\n",
    "conformal_prediction_iris: list[bool] = calculate_conformal_prediction(X_train_ionosphere, y_train_ionosphere, X_test_ionosphere, 0.05)\n",
    "alpha: float = calculate_alpha(p_values, 0.05)\n",
    "conformal_prediction_iris_alpha: list[bool] = calculate_conformal_prediction(X_train_ionosphere, y_train_ionosphere, X_test_ionosphere, alpha)"
   ]
  },
  {
   "cell_type": "code",
   "execution_count": 756,
   "metadata": {},
   "outputs": [
    {
     "name": "stdout",
     "output_type": "stream",
     "text": [
      "Average p-value:  nan\n",
      "Average false p-value for `alpha = 0.05` iris dataset:  0.4142135623730951\n",
      "Conformal prediction:  1.0\n",
      "Conformal prediction for `alpha = 0.05` iris dataset:  1.0\n"
     ]
    }
   ],
   "source": [
    "print(\"Average p-value: \", np.mean(p_values))\n",
    "print(\"Average false p-value for `alpha = 0.05` iris dataset: \", alpha)\n",
    "print(\"Conformal prediction: \", np.mean(conformal_prediction_iris))\n",
    "print(\"Conformal prediction for `alpha = 0.05` iris dataset: \", np.mean(conformal_prediction_iris_alpha))"
   ]
  },
  {
   "cell_type": "markdown",
   "metadata": {},
   "source": [
    "# Comparing Sorting Algorithms"
   ]
  },
  {
   "cell_type": "code",
   "execution_count": 757,
   "metadata": {},
   "outputs": [],
   "source": [
    "import random\n",
    "import timeit"
   ]
  },
  {
   "cell_type": "code",
   "execution_count": 758,
   "metadata": {},
   "outputs": [],
   "source": [
    "random_numbers: list[float] = [random.random() for _ in range(100)]"
   ]
  },
  {
   "cell_type": "code",
   "execution_count": 759,
   "metadata": {},
   "outputs": [],
   "source": [
    "arg_sort: float = timeit.timeit(\"Sorting.arg_sort(random_numbers.copy())\", globals=globals(), number=1000)\n",
    "merge_sort: float = timeit.timeit(\"Sorting.merge_sort(random_numbers.copy())\", globals=globals(), number=1000)\n",
    "quick_sort: float = timeit.timeit(\"Sorting.quick_sort(random_numbers.copy())\", globals=globals(), number=1000)\n",
    "heap_sort: float = timeit.timeit(\"Sorting.heap_sort(random_numbers.copy())\", globals=globals(), number=1000)\n",
    "bubble_sort: float = timeit.timeit(\"Sorting.bubble_sort(random_numbers.copy())\", globals=globals(), number=1000)\n",
    "selection_sort: float = timeit.timeit(\"Sorting.selection_sort(random_numbers.copy())\", globals=globals(), number=1000)\n",
    "insertion_sort: float = timeit.timeit(\"Sorting.insertion_sort(random_numbers.copy())\", globals=globals(), number=1000)\n",
    "arg_partition: float = timeit.timeit(\"Sorting.arg_partition(random_numbers.copy())\", globals=globals(), number=1000)"
   ]
  },
  {
   "cell_type": "code",
   "execution_count": 760,
   "metadata": {},
   "outputs": [
    {
     "name": "stdout",
     "output_type": "stream",
     "text": [
      "Arg Sort:\t 0.019066060000113794\n",
      "Merge Sort:\t 0.44802967700024965\n",
      "Quick Sort:\t 0.12433780499986824\n",
      "Heap Sort:\t 0.43476001299995914\n",
      "Bubble Sort:\t 0.8432678399999531\n",
      "Selection Sort:\t 0.7945888689996536\n",
      "Insertion Sort:\t 1.6463141310000537\n",
      "Arg Partition:\t 0.025157534000300075\n"
     ]
    }
   ],
   "source": [
    "print(\"Arg Sort:\\t\", arg_sort)\n",
    "print(\"Merge Sort:\\t\", merge_sort)\n",
    "print(\"Quick Sort:\\t\", quick_sort)\n",
    "print(\"Heap Sort:\\t\", heap_sort)\n",
    "print(\"Bubble Sort:\\t\", bubble_sort)\n",
    "print(\"Selection Sort:\\t\", selection_sort)\n",
    "print(\"Insertion Sort:\\t\", insertion_sort)\n",
    "print(\"Arg Partition:\\t\", arg_partition)"
   ]
  },
  {
   "cell_type": "code",
   "execution_count": 761,
   "metadata": {},
   "outputs": [
    {
     "data": {
      "image/png": "[encoded data removed]",
      "text/plain": [
       "<Figure size 1000x1000 with 1 Axes>"
      ]
     },
     "metadata": {},
     "output_type": "display_data"
    }
   ],
   "source": [
    "plt.figure(figsize=(10, 10))\n",
    "plt.title(\"Time Complexity of Sorting Algorithms\")\n",
    "plt.xlabel(\"Algorithm\")\n",
    "plt.ylabel(\"Time (s)\")\n",
    "plt.bar([\"arg_sort\", \"merge_sort\", \"quick_sort\", \"heap_sort\", \"bubble_sort\", \"selection_sort\", \"insertion_sort\", \"arg_partition\"], [arg_sort, merge_sort, quick_sort, heap_sort, bubble_sort, selection_sort, insertion_sort, arg_partition])\n",
    "plt.show()"
   ]
  },
  {
   "cell_type": "markdown",
   "metadata": {},
   "source": [
    "- The results clearly show that the arg_sort and arg_partition algorithms are the most efficient"
   ]
  }
 ],
 "metadata": {
  "kernelspec": {
   "display_name": "Python 3.10.7 ('anaconda-pOKeClin-py3.10')",
   "language": "python",
   "name": "python3"
  },
  "language_info": {
   "codemirror_mode": {
    "name": "ipython",
    "version": 3
   },
   "file_extension": ".py",
   "mimetype": "text/x-python",
   "name": "python",
   "nbconvert_exporter": "python",
   "pygments_lexer": "ipython3",
   "version": "3.10.7"
  },
  "orig_nbformat": 4,
  "vscode": {
   "interpreter": {
    "hash": "1d6ff4c17b0f926f3435e2604897e7630e7b57ea2fee9d98b1dac9eecef6094c"
   }
  }
 },
 "nbformat": 4,
 "nbformat_minor": 2
}
