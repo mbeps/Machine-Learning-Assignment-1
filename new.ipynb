{
 "cells": [
  {
   "cell_type": "code",
   "execution_count": 82,
   "metadata": {},
   "outputs": [],
   "source": [
    "import pandas as pd\n",
    "from pandas import DataFrame\n",
    "from sklearn.datasets import load_iris\n",
    "from sklearn.model_selection import train_test_split\n",
    "import numpy as np\n",
    "from collections import Counter\n",
    "from math import sqrt\n",
    "from numpy import ndarray\n",
    "import math\n",
    "import matplotlib.pyplot as plt"
   ]
  },
  {
   "cell_type": "code",
   "execution_count": 83,
   "metadata": {},
   "outputs": [],
   "source": [
    "from sklearn.neighbors import KNeighborsClassifier # used only for comparing with the custom implementation"
   ]
  },
  {
   "cell_type": "markdown",
   "metadata": {},
   "source": [
    "# Algorithms"
   ]
  },
  {
   "cell_type": "markdown",
   "metadata": {},
   "source": [
    "## Sorting Algorithms"
   ]
  },
  {
   "cell_type": "code",
   "execution_count": 84,
   "metadata": {},
   "outputs": [],
   "source": [
    "class Sorting:\n",
    "\t@staticmethod\n",
    "\tdef arg_sort(seq: list) -> list:\n",
    "\t\t# return np.argsort(seq)\n",
    "\t\treturn sorted(range(len(seq)), key=seq.__getitem__)\n",
    "\n",
    "\t@staticmethod\n",
    "\tdef merge_sort(seq: list) -> list:\n",
    "\t\tif len(seq) <= 1:\n",
    "\t\t\treturn seq\n",
    "\t\tmid = len(seq) // 2\n",
    "\t\tleft = Sorting.merge_sort(seq[:mid])\n",
    "\t\tright = Sorting.merge_sort(seq[mid:])\n",
    "\t\treturn Sorting.merge(left, right)\n",
    "\n",
    "\t@staticmethod\n",
    "\tdef merge(left: list, right: list) -> list:\n",
    "\t\tresult = []\n",
    "\t\twhile len(left) > 0 and len(right) > 0:\n",
    "\t\t\tif left[0] <= right[0]:\n",
    "\t\t\t\tresult.append(left.pop(0))\n",
    "\t\t\telse:\n",
    "\t\t\t\tresult.append(right.pop(0))\n",
    "\t\tif len(left) > 0:\n",
    "\t\t\tresult.extend(left)\n",
    "\t\tif len(right) > 0:\n",
    "\t\t\tresult.extend(right)\n",
    "\t\treturn result\n",
    "\n",
    "\t@staticmethod\n",
    "\tdef quick_sort(seq: list) -> list:\n",
    "\t\tif len(seq) <= 1:\n",
    "\t\t\treturn seq\n",
    "\t\tpivot = seq.pop()\n",
    "\t\tleft = []\n",
    "\t\tright = []\n",
    "\t\tfor item in seq:\n",
    "\t\t\tif item <= pivot:\n",
    "\t\t\t\tleft.append(item)\n",
    "\t\t\telse:\n",
    "\t\t\t\tright.append(item)\n",
    "\t\treturn Sorting.quick_sort(left) + [pivot] + Sorting.quick_sort(right)\n",
    "\n",
    "\t@staticmethod\n",
    "\tdef bubble_sort(seq: list) -> list:\n",
    "\t\tfor i in range(len(seq)):\n",
    "\t\t\tfor j in range(i + 1, len(seq)):\n",
    "\t\t\t\tif seq[i] > seq[j]:\n",
    "\t\t\t\t\tseq[i], seq[j] = seq[j], seq[i]\n",
    "\t\treturn seq\n",
    "\n",
    "\t@staticmethod\n",
    "\tdef selection_sort(seq: list) -> list:\n",
    "\t\tfor i in range(len(seq)):\n",
    "\t\t\tmin_index = i\n",
    "\t\t\tfor j in range(i + 1, len(seq)):\n",
    "\t\t\t\tif seq[j] < seq[min_index]:\n",
    "\t\t\t\t\tmin_index = j\n",
    "\t\t\tseq[i], seq[min_index] = seq[min_index], seq[i]\n",
    "\t\treturn seq\n",
    "\n",
    "\t@staticmethod\n",
    "\tdef insertion_sort(seq: list) -> list:\n",
    "\t\tfor i in range(1, len(seq)):\n",
    "\t\t\tj = i\n",
    "\t\t\twhile j > 0 and seq[j] < seq[j - 1]:\n",
    "\t\t\t\tseq[j], seq[j - 1] = seq[j - 1], seq[j]\n",
    "\t\t\t\tj -= 1\n",
    "\t\treturn seq\n",
    "\n",
    "\t@staticmethod\n",
    "\tdef heap_sort(seq: list) -> list:\n",
    "\t\theap = []\n",
    "\t\tfor item in seq:\n",
    "\t\t\theap.append(item)\n",
    "\t\t\tSorting.sift_up(heap, len(heap) - 1)\n",
    "\t\tresult = []\n",
    "\t\twhile len(heap) > 0:\n",
    "\t\t\tresult.append(heap[0])\n",
    "\t\t\theap[0] = heap[-1]\n",
    "\t\t\theap.pop()\n",
    "\t\t\tSorting.sift_down(heap, 0)\n",
    "\t\treturn result\t\n",
    "\n",
    "\t@staticmethod\n",
    "\tdef sift_up(heap: list, index: int) -> None:\n",
    "\t\twhile index > 0:\n",
    "\t\t\tparent = (index - 1) // 2\n",
    "\t\t\tif heap[parent] < heap[index]:\n",
    "\t\t\t\theap[parent], heap[index] = heap[index], heap[parent]\n",
    "\t\t\t\tindex = parent\n",
    "\t\t\telse:\n",
    "\t\t\t\tbreak\n",
    "\n",
    "\t@staticmethod\n",
    "\tdef sift_down(heap: list, index: int) -> None:\n",
    "\t\twhile 2 * index + 1 < len(heap):\n",
    "\t\t\tleft = 2 * index + 1\n",
    "\t\t\tright = 2 * index + 2\n",
    "\t\t\tchild = left\n",
    "\t\t\tif right < len(heap) and heap[right] > heap[left]:\n",
    "\t\t\t\tchild = right\n",
    "\t\t\tif heap[index] < heap[child]:\n",
    "\t\t\t\theap[index], heap[child] = heap[child], heap[index]\n",
    "\t\t\t\tindex = child\n",
    "\t\t\telse:\n",
    "\t\t\t\tbreak\n",
    "\n",
    "\t@staticmethod\n",
    "\tdef arg_partition(seq: list) -> list:\n",
    "\t\treturn np.argpartition(seq, 0)"
   ]
  },
  {
   "cell_type": "markdown",
   "metadata": {},
   "source": [
    "## Nearest Neighbour Algorithms"
   ]
  },
  {
   "cell_type": "markdown",
   "metadata": {},
   "source": [
    "### 1-Nearest Neighbour"
   ]
  },
  {
   "cell_type": "code",
   "execution_count": 85,
   "metadata": {},
   "outputs": [],
   "source": [
    "class One_Nearest_Neighbours:\n",
    "\tdef __init__(self):\n",
    "\t\tself.k: int = 1\n",
    "\t\tself.X_train: list = None\n",
    "\t\tself.y_train: list = None\n",
    "\n",
    "\tdef fit(self, X_train: list, y_train: list) -> None:\n",
    "\t\tself.X_train = X_train\n",
    "\t\tself.y_train = y_train\n",
    "\n",
    "\tdef predict(self, X_test: list) -> list[int]:\n",
    "\t\tpredictions: list = []\n",
    "\t\tfor index, element in enumerate(X_test):\n",
    "\t\t\tpredictions.append(self._predict(element))\n",
    "\t\treturn predictions\n",
    "\t\n",
    "\tdef _predict(self, x_test: list) -> int:\n",
    "\t\tdistances: list = self.distance(self.X_train, x_test)\n",
    "\t\tk_indices: list = self.sort(distances, \"arg_sort\")[:self.k]\n",
    "\t\tk_nearest_labels: list = [self.y_train[i] for i in k_indices]\n",
    "\t\tmost_common: list[tuple] = Counter(k_nearest_labels).most_common(1)\n",
    "\t\treturn most_common[0][0]\n",
    "\n",
    "\tdef score(self, X_test: list, y_test: list) -> float:\n",
    "\t\tpredictions: list = self.predict(X_test)\n",
    "\t\treturn self.accuracy_score(y_test, predictions)\n",
    "\n",
    "\tdef accuracy_score(self, y_test, y_pred) -> float:\n",
    "\t\taccuracy: float = sum(y_test == y_pred) / len(y_test)\n",
    "\t\treturn accuracy\n",
    "\n",
    "\tdef distance(self, x1: list, x2: list) -> list[float]:\n",
    "\t\treturn [((sum((x1 - x2)**2)) ** 0.5) for (x1) in (self.X_train)]\n",
    "\n",
    "\tdef sort(self, distances, sorting_type = \"arg_sort\"):\n",
    "\t\tif sorting_type == \"arg_sort\":\n",
    "\t\t\treturn Sorting.arg_sort(distances)\n",
    "\t\telif sorting_type == \"merge_sort\":\n",
    "\t\t\treturn Sorting.merge_sort(distances)\n",
    "\t\telif sorting_type == \"quick_sort\":\n",
    "\t\t\treturn Sorting.quick_sort(distances)"
   ]
  },
  {
   "cell_type": "markdown",
   "metadata": {},
   "source": [
    "### 3-Nearest Neighbours"
   ]
  },
  {
   "cell_type": "code",
   "execution_count": 86,
   "metadata": {},
   "outputs": [],
   "source": [
    "class Three_Nearest_Neighbours:\n",
    "\tdef __init__(self):\n",
    "\t\tself.k: int = 3\n",
    "\t\tself.X_train: list = None\n",
    "\t\tself.y_train: list = None\n",
    "\n",
    "\tdef fit(self, X_train: list, y_train: list) -> None:\n",
    "\t\tself.X_train = X_train\n",
    "\t\tself.y_train = y_train\n",
    "\n",
    "\tdef predict(self, X_test: list) -> list[int]:\n",
    "\t\tpredictions: list = []\n",
    "\t\tfor index, element in enumerate(X_test):\n",
    "\t\t\tpredictions.append(self._predict(element))\n",
    "\t\treturn predictions\n",
    "\t\n",
    "\tdef _predict(self, x_test: list) -> int:\n",
    "\t\tdistances: list = self.distance(self.X_train, x_test)\n",
    "\t\tk_indices: list = self.sort(distances, \"arg_sort\")[:self.k]\n",
    "\t\tk_nearest_labels: list = [self.y_train[i] for i in k_indices]\n",
    "\t\tmost_common: list[tuple] = Counter(k_nearest_labels).most_common(1)\n",
    "\t\treturn most_common[0][0]\n",
    "\n",
    "\tdef score(self, X_test: list, y_test: list) -> float:\n",
    "\t\tpredictions: list = self.predict(X_test)\n",
    "\t\treturn self.accuracy_score(y_test, predictions)\n",
    "\n",
    "\tdef accuracy_score(self, y_test, y_pred) -> float:\n",
    "\t\taccuracy: float = sum(y_test == y_pred) / len(y_test)\n",
    "\t\treturn accuracy\n",
    "\n",
    "\tdef distance(self, x1: list, x2: list) -> list[float]:\n",
    "\t\treturn [((sum((x1 - x2)**2)) ** 0.5) for (x1) in (self.X_train)]\n",
    "\n",
    "\tdef sort(self, distances, sorting_type = \"arg_sort\"):\n",
    "\t\tif sorting_type == \"arg_sort\":\n",
    "\t\t\treturn Sorting.arg_sort(distances)\n",
    "\t\telif sorting_type == \"merge_sort\":\n",
    "\t\t\treturn Sorting.merge_sort(distances)\n",
    "\t\telif sorting_type == \"quick_sort\":\n",
    "\t\t\treturn Sorting.quick_sort(distances)"
   ]
  },
  {
   "cell_type": "markdown",
   "metadata": {},
   "source": [
    "### K-Nearest Neighbour"
   ]
  },
  {
   "cell_type": "code",
   "execution_count": 87,
   "metadata": {},
   "outputs": [],
   "source": [
    "class K_Nearest_Neighbours:\n",
    "\tdef __init__(self, k: int):\n",
    "\t\tself.k: int = k\n",
    "\t\tself.X_train: list = None\n",
    "\t\tself.y_train: list = None\n",
    "\n",
    "\tdef fit(self, X_train: list, y_train: list) -> None:\n",
    "\t\tself.X_train = X_train\n",
    "\t\tself.y_train = y_train\n",
    "\n",
    "\tdef predict(self, X_test: list) -> list[int]:\n",
    "\t\tpredictions: list = []\n",
    "\t\tfor index, element in enumerate(X_test):\n",
    "\t\t\tpredictions.append(self._predict(element))\n",
    "\t\treturn predictions\n",
    "\t\n",
    "\tdef _predict(self, x_test: list) -> int:\n",
    "\t\tdistances: list = self.distance(self.X_train, x_test)\n",
    "\t\tk_indices: list = self.sort(distances, \"arg_sort\")[:self.k]\n",
    "\t\tk_nearest_labels: list = [self.y_train[i] for i in k_indices]\n",
    "\t\tmost_common: list[tuple] = Counter(k_nearest_labels).most_common(1)\n",
    "\t\treturn most_common[0][0]\n",
    "\n",
    "\tdef score(self, X_test: list, y_test: list) -> float:\n",
    "\t\tpredictions: list = self.predict(X_test)\n",
    "\t\treturn self.accuracy_score(y_test, predictions)\n",
    "\n",
    "\tdef accuracy_score(self, y_test, y_pred) -> float:\n",
    "\t\taccuracy: float = sum(y_test == y_pred) / len(y_test)\n",
    "\t\treturn accuracy\n",
    "\n",
    "\tdef distance(self, x1: list, x2: list) -> list[float]:\n",
    "\t\treturn [((sum((x1 - x2)**2)) ** 0.5) for (x1) in (self.X_train)]\n",
    "\n",
    "\tdef sort(self, distances, sorting_type = \"arg_sort\"):\n",
    "\t\tif sorting_type == \"arg_sort\":\n",
    "\t\t\treturn Sorting.arg_sort(distances)\n",
    "\t\telif sorting_type == \"merge_sort\":\n",
    "\t\t\treturn Sorting.merge_sort(distances)\n",
    "\t\telif sorting_type == \"quick_sort\":\n",
    "\t\t\treturn Sorting.quick_sort(distances)"
   ]
  },
  {
   "cell_type": "markdown",
   "metadata": {},
   "source": [
    "## Conformal Predictor"
   ]
  },
  {
   "cell_type": "code",
   "execution_count": 88,
   "metadata": {},
   "outputs": [],
   "source": [
    "def calculate_distance(X_train: list, y_train: list) -> tuple[list[float]]:\n",
    "    train_length: int = X_train.shape[0]\n",
    "    same_class_dist, other_class_dist = [[math.inf for i in range(train_length)] for j in range(2)]\n",
    "\n",
    "    for i in range(train_length-1):\n",
    "        for j in range(i+1, train_length):\n",
    "            dist = np.sqrt(np.sum((X_train[i] - X_train[j])**2))\n",
    "            if y_train[i] == y_train[j]:\n",
    "                if dist < same_class_dist[i]:\n",
    "                    same_class_dist[i] = dist\n",
    "                if dist < same_class_dist[j]:\n",
    "                    same_class_dist[j] = dist\n",
    "            else:\n",
    "                if dist < other_class_dist[i]:\n",
    "                    other_class_dist[i] = dist\n",
    "                if dist < other_class_dist[j]:\n",
    "                    other_class_dist[j] = dist\n",
    "    return same_class_dist, other_class_dist\n",
    "\n",
    "def calculate_p_value(same_class_dist: list[float], other_class_dist: list[float]) -> list[float]:\n",
    "    p_values: list[float] = [] \n",
    "    for element_same, element_other in zip(same_class_dist, other_class_dist):\n",
    "        p_values.append(element_same / (element_other + element_same))\n",
    "    return p_values\n",
    "\n",
    "def calculate_alpha(p_values: list[float], alpha: float) -> float:\n",
    "    p_values.sort()\n",
    "    return p_values[int(len(p_values) * alpha)]\n",
    "\n",
    "def calculate_conformal_prediction(X_train: list, y_train: list, X_test: list, alpha: float) -> list[bool]:\n",
    "    same_class_dist, other_class_dist = calculate_distance(X_train, y_train)\n",
    "    p_values: list[float] = calculate_p_value(same_class_dist, other_class_dist)\n",
    "    alpha: float = calculate_alpha(p_values, alpha)\n",
    "    predictions: list[bool] = []\n",
    "    for i in range(len(X_test)):\n",
    "        dist = np.sqrt(np.sum((X_train - X_test[i])**2))\n",
    "        p_values = dist / (dist + other_class_dist)\n",
    "        predictions.append(p_values > alpha)\n",
    "    return predictions\n",
    "\n",
    "def error_rate(y_test: list, predictions: list) -> float:\n",
    "    return sum(y_test != predictions) / len(y_test)"
   ]
  },
  {
   "cell_type": "markdown",
   "metadata": {},
   "source": [
    "# Useful Functions"
   ]
  },
  {
   "cell_type": "code",
   "execution_count": 89,
   "metadata": {},
   "outputs": [],
   "source": [
    "def print_dataset_properties(predictions: list, accuracy: float, compare: DataFrame) -> None:\n",
    "\tprint(\"Predictions: \", predictions)\n",
    "\tprint(\"Accuracy: \", accuracy)\n",
    "\tprint(\"Error Rate: \", 1 - accuracy)\n",
    "\tprint(\"Compare: \", compare)"
   ]
  },
  {
   "cell_type": "code",
   "execution_count": 90,
   "metadata": {},
   "outputs": [],
   "source": [
    "def compare_lists(list_1: list, list_2: list) -> bool:\n",
    "\tcompare: bool = True\n",
    "\tfor custom, scikit in zip(list_1, list_2):\n",
    "\t\tcompare = (custom == scikit)\n",
    "\t\tif not compare:\n",
    "\t\t\tbreak\n",
    "\treturn compare"
   ]
  },
  {
   "cell_type": "code",
   "execution_count": 91,
   "metadata": {},
   "outputs": [],
   "source": [
    "def mean(lst: list[int, float]) -> float:\n",
    "\treturn sum(lst) / len(lst)\n"
   ]
  },
  {
   "cell_type": "markdown",
   "metadata": {},
   "source": [
    "# Datasets"
   ]
  },
  {
   "cell_type": "markdown",
   "metadata": {},
   "source": [
    "## Iris"
   ]
  },
  {
   "cell_type": "markdown",
   "metadata": {},
   "source": [
    "### Loading Dataset"
   ]
  },
  {
   "cell_type": "code",
   "execution_count": 92,
   "metadata": {},
   "outputs": [],
   "source": [
    "iris = load_iris()"
   ]
  },
  {
   "cell_type": "markdown",
   "metadata": {},
   "source": [
    "### Splitting Dataset"
   ]
  },
  {
   "cell_type": "code",
   "execution_count": 93,
   "metadata": {},
   "outputs": [],
   "source": [
    "X_train_iris, X_test_iris, y_train_iris, y_test_iris = train_test_split(iris['data'], iris['target'], random_state=2022) # 75% training and 25% test "
   ]
  },
  {
   "cell_type": "markdown",
   "metadata": {},
   "source": [
    "### Checking Dataset"
   ]
  },
  {
   "cell_type": "code",
   "execution_count": 94,
   "metadata": {},
   "outputs": [
    {
     "name": "stdout",
     "output_type": "stream",
     "text": [
      "Iris Training Set Features Size:  (112, 4)\n",
      "Iris Training Set Labels Size:    (112,)\n",
      "Iris Testing Set Features Size:   (38, 4)\n",
      "Iris Testing Set Labels Size:     (38,)\n"
     ]
    }
   ],
   "source": [
    "print(\"Iris Training Set Features Size: \", X_train_iris.shape)\n",
    "print(\"Iris Training Set Labels Size:   \", y_train_iris.shape)\n",
    "print(\"Iris Testing Set Features Size:  \", X_test_iris.shape)\n",
    "print(\"Iris Testing Set Labels Size:    \", y_test_iris.shape)"
   ]
  },
  {
   "cell_type": "code",
   "execution_count": 95,
   "metadata": {},
   "outputs": [
    {
     "name": "stdout",
     "output_type": "stream",
     "text": [
      "[[5.1 3.8 1.9 0.4]\n",
      " [5.2 2.7 3.9 1.4]\n",
      " [6.5 3.  5.2 2. ]\n",
      " [5.6 3.  4.5 1.5]\n",
      " [4.9 2.4 3.3 1. ]\n",
      " [7.3 2.9 6.3 1.8]\n",
      " [6.9 3.1 5.4 2.1]\n",
      " [6.3 3.4 5.6 2.4]\n",
      " [7.1 3.  5.9 2.1]\n",
      " [6.9 3.2 5.7 2.3]\n",
      " [4.6 3.1 1.5 0.2]\n",
      " [5.9 3.  5.1 1.8]\n",
      " [6.  2.9 4.5 1.5]\n",
      " [6.2 3.4 5.4 2.3]\n",
      " [6.7 3.1 5.6 2.4]\n",
      " [6.4 2.8 5.6 2.2]\n",
      " [4.6 3.6 1.  0.2]\n",
      " [7.  3.2 4.7 1.4]\n",
      " [5.4 3.  4.5 1.5]\n",
      " [5.1 3.8 1.5 0.3]\n",
      " [6.1 2.8 4.  1.3]\n",
      " [5.  3.2 1.2 0.2]\n",
      " [5.  3.5 1.3 0.3]\n",
      " [5.7 2.8 4.1 1.3]\n",
      " [6.5 2.8 4.6 1.5]\n",
      " [5.  2.  3.5 1. ]\n",
      " [7.7 3.8 6.7 2.2]\n",
      " [6.7 3.  5.2 2.3]\n",
      " [6.7 3.1 4.7 1.5]\n",
      " [6.1 2.8 4.7 1.2]\n",
      " [7.2 3.6 6.1 2.5]\n",
      " [5.  3.  1.6 0.2]\n",
      " [5.4 3.7 1.5 0.2]\n",
      " [5.  3.6 1.4 0.2]\n",
      " [5.2 4.1 1.5 0.1]\n",
      " [6.  2.2 4.  1. ]\n",
      " [6.5 3.2 5.1 2. ]\n",
      " [6.7 3.1 4.4 1.4]\n",
      " [5.  3.4 1.5 0.2]\n",
      " [5.  3.4 1.6 0.4]\n",
      " [5.4 3.4 1.5 0.4]\n",
      " [6.1 3.  4.9 1.8]\n",
      " [5.9 3.2 4.8 1.8]\n",
      " [4.9 3.1 1.5 0.1]\n",
      " [5.2 3.4 1.4 0.2]\n",
      " [5.7 2.8 4.5 1.3]\n",
      " [5.  3.3 1.4 0.2]\n",
      " [4.6 3.2 1.4 0.2]\n",
      " [6.5 3.  5.8 2.2]\n",
      " [4.7 3.2 1.6 0.2]\n",
      " [6.9 3.1 5.1 2.3]\n",
      " [6.4 3.2 4.5 1.5]\n",
      " [6.3 2.7 4.9 1.8]\n",
      " [7.7 3.  6.1 2.3]\n",
      " [4.9 2.5 4.5 1.7]\n",
      " [5.8 2.7 5.1 1.9]\n",
      " [5.8 2.7 5.1 1.9]\n",
      " [5.1 2.5 3.  1.1]\n",
      " [6.7 2.5 5.8 1.8]\n",
      " [4.7 3.2 1.3 0.2]\n",
      " [5.1 3.8 1.6 0.2]\n",
      " [6.6 3.  4.4 1.4]\n",
      " [6.7 3.3 5.7 2.1]\n",
      " [5.9 3.  4.2 1.5]\n",
      " [5.1 3.7 1.5 0.4]\n",
      " [6.  3.  4.8 1.8]\n",
      " [5.1 3.3 1.7 0.5]\n",
      " [6.1 2.9 4.7 1.4]\n",
      " [6.1 2.6 5.6 1.4]\n",
      " [6.  2.2 5.  1.5]\n",
      " [5.6 2.9 3.6 1.3]\n",
      " [6.8 3.2 5.9 2.3]\n",
      " [4.4 3.2 1.3 0.2]\n",
      " [6.9 3.1 4.9 1.5]\n",
      " [6.7 3.  5.  1.7]\n",
      " [4.3 3.  1.1 0.1]\n",
      " [5.7 2.9 4.2 1.3]\n",
      " [5.8 4.  1.2 0.2]\n",
      " [6.8 2.8 4.8 1.4]\n",
      " [5.5 2.6 4.4 1.2]\n",
      " [5.7 2.5 5.  2. ]\n",
      " [4.8 3.  1.4 0.3]\n",
      " [4.8 3.  1.4 0.1]\n",
      " [6.  2.7 5.1 1.6]\n",
      " [7.7 2.8 6.7 2. ]\n",
      " [5.8 2.8 5.1 2.4]\n",
      " [6.3 3.3 4.7 1.6]\n",
      " [6.5 3.  5.5 1.8]\n",
      " [4.9 3.6 1.4 0.1]\n",
      " [6.  3.4 4.5 1.6]\n",
      " [6.3 2.3 4.4 1.3]\n",
      " [5.5 2.4 3.7 1. ]\n",
      " [5.7 4.4 1.5 0.4]\n",
      " [7.4 2.8 6.1 1.9]\n",
      " [6.2 2.9 4.3 1.3]\n",
      " [5.4 3.9 1.3 0.4]\n",
      " [5.  2.3 3.3 1. ]\n",
      " [6.3 2.5 4.9 1.5]\n",
      " [5.3 3.7 1.5 0.2]\n",
      " [5.6 2.7 4.2 1.3]\n",
      " [6.2 2.8 4.8 1.8]\n",
      " [4.8 3.4 1.6 0.2]\n",
      " [5.2 3.5 1.5 0.2]\n",
      " [5.5 4.2 1.4 0.2]\n",
      " [4.5 2.3 1.3 0.3]\n",
      " [5.5 2.3 4.  1.3]\n",
      " [6.7 3.3 5.7 2.5]\n",
      " [4.8 3.4 1.9 0.2]\n",
      " [5.7 3.8 1.7 0.3]\n",
      " [5.6 3.  4.1 1.3]\n",
      " [6.8 3.  5.5 2.1]\n",
      " [7.2 3.2 6.  1.8]]\n",
      "[0 1 2 1 1 2 2 2 2 2 0 2 1 2 2 2 0 1 1 0 1 0 0 1 1 1 2 2 1 1 2 0 0 0 0 1 2\n",
      " 1 0 0 0 2 1 0 0 1 0 0 2 0 2 1 2 2 2 2 2 1 2 0 0 1 2 1 0 2 0 1 2 2 1 2 0 1\n",
      " 1 0 1 0 1 1 2 0 0 1 2 2 1 2 0 1 1 1 0 2 1 0 1 1 0 1 2 0 0 0 0 1 2 0 0 1 2\n",
      " 2]\n"
     ]
    }
   ],
   "source": [
    "print(X_train_iris)\n",
    "print(y_train_iris)"
   ]
  },
  {
   "cell_type": "markdown",
   "metadata": {},
   "source": [
    "### Checking Nearest Neighbours Algorithms"
   ]
  },
  {
   "cell_type": "markdown",
   "metadata": {},
   "source": [
    "#### K-Nearest Neighbours "
   ]
  },
  {
   "cell_type": "markdown",
   "metadata": {},
   "source": [
    "##### `K = 3`"
   ]
  },
  {
   "cell_type": "code",
   "execution_count": 96,
   "metadata": {},
   "outputs": [],
   "source": [
    "k_nearest_neighbour_iris: K_Nearest_Neighbours = K_Nearest_Neighbours(k=3)\n",
    "k_nearest_neighbour_iris.fit(X_train_iris, y_train_iris)"
   ]
  },
  {
   "cell_type": "code",
   "execution_count": 97,
   "metadata": {},
   "outputs": [],
   "source": [
    "predictions_iris: list = k_nearest_neighbour_iris.predict(X_test_iris)\n",
    "compare_iris: DataFrame = pd.DataFrame({'True Labels': y_test_iris, 'Predicted Labels': predictions_iris})\n",
    "accuracy_iris: float = k_nearest_neighbour_iris.score(X_test_iris, y_test_iris)\n",
    "error_rate_iris: float = 1 - accuracy_iris"
   ]
  },
  {
   "cell_type": "code",
   "execution_count": 98,
   "metadata": {},
   "outputs": [
    {
     "name": "stdout",
     "output_type": "stream",
     "text": [
      "Predictions:  [2, 2, 0, 2, 0, 0, 1, 1, 0, 1, 1, 2, 1, 2, 2, 0, 1, 2, 2, 1, 0, 0, 2, 0, 2, 1, 2, 0, 1, 2, 0, 1, 1, 0, 1, 0, 0, 1]\n",
      "Accuracy:  0.9736842105263158\n",
      "Error Rate:  0.02631578947368418\n",
      "Compare:      True Labels  Predicted Labels\n",
      "0             2                 2\n",
      "1             2                 2\n",
      "2             0                 0\n",
      "3             2                 2\n",
      "4             0                 0\n",
      "5             0                 0\n",
      "6             1                 1\n",
      "7             1                 1\n",
      "8             0                 0\n",
      "9             1                 1\n",
      "10            1                 1\n",
      "11            2                 2\n",
      "12            1                 1\n",
      "13            2                 2\n",
      "14            2                 2\n",
      "15            0                 0\n",
      "16            1                 1\n",
      "17            2                 2\n",
      "18            2                 2\n",
      "19            1                 1\n",
      "20            0                 0\n",
      "21            0                 0\n",
      "22            2                 2\n",
      "23            0                 0\n",
      "24            2                 2\n",
      "25            2                 1\n",
      "26            2                 2\n",
      "27            0                 0\n",
      "28            1                 1\n",
      "29            2                 2\n",
      "30            0                 0\n",
      "31            1                 1\n",
      "32            1                 1\n",
      "33            0                 0\n",
      "34            1                 1\n",
      "35            0                 0\n",
      "36            0                 0\n",
      "37            1                 1\n"
     ]
    }
   ],
   "source": [
    "print_dataset_properties(predictions_iris, accuracy_iris, compare_iris)"
   ]
  },
  {
   "cell_type": "markdown",
   "metadata": {},
   "source": [
    "##### `K = 1`"
   ]
  },
  {
   "cell_type": "code",
   "execution_count": 99,
   "metadata": {},
   "outputs": [],
   "source": [
    "k_nearest_neighbour_iris: K_Nearest_Neighbours = K_Nearest_Neighbours(k=1)\n",
    "k_nearest_neighbour_iris.fit(X_train_iris, y_train_iris)"
   ]
  },
  {
   "cell_type": "code",
   "execution_count": 100,
   "metadata": {},
   "outputs": [],
   "source": [
    "predictions_iris_k: list = k_nearest_neighbour_iris.predict(X_test_iris)\n",
    "compare_iris_k: DataFrame = pd.DataFrame({'True Labels': y_test_iris, 'Predicted Labels': predictions_iris_k})\n",
    "accuracy_iris_k: float = k_nearest_neighbour_iris.score(X_test_iris, y_test_iris)\n",
    "error_rate_iris_k: float = 1 - accuracy_iris_k"
   ]
  },
  {
   "cell_type": "code",
   "execution_count": 101,
   "metadata": {},
   "outputs": [
    {
     "name": "stdout",
     "output_type": "stream",
     "text": [
      "Predictions:  [2, 2, 0, 2, 0, 0, 1, 1, 0, 1, 1, 2, 1, 2, 2, 0, 1, 2, 2, 1, 0, 0, 2, 0, 2, 1, 2, 0, 1, 2, 0, 1, 1, 0, 1, 0, 0, 1]\n",
      "Accuracy:  0.9736842105263158\n",
      "Error Rate:  0.02631578947368418\n",
      "Compare:      True Labels  Predicted Labels\n",
      "0             2                 2\n",
      "1             2                 2\n",
      "2             0                 0\n",
      "3             2                 2\n",
      "4             0                 0\n",
      "5             0                 0\n",
      "6             1                 1\n",
      "7             1                 1\n",
      "8             0                 0\n",
      "9             1                 1\n",
      "10            1                 1\n",
      "11            2                 2\n",
      "12            1                 1\n",
      "13            2                 2\n",
      "14            2                 2\n",
      "15            0                 0\n",
      "16            1                 1\n",
      "17            2                 2\n",
      "18            2                 2\n",
      "19            1                 1\n",
      "20            0                 0\n",
      "21            0                 0\n",
      "22            2                 2\n",
      "23            0                 0\n",
      "24            2                 2\n",
      "25            2                 1\n",
      "26            2                 2\n",
      "27            0                 0\n",
      "28            1                 1\n",
      "29            2                 2\n",
      "30            0                 0\n",
      "31            1                 1\n",
      "32            1                 1\n",
      "33            0                 0\n",
      "34            1                 1\n",
      "35            0                 0\n",
      "36            0                 0\n",
      "37            1                 1\n"
     ]
    }
   ],
   "source": [
    "print_dataset_properties(predictions_iris_k, accuracy_iris_k, compare_iris_k)"
   ]
  },
  {
   "cell_type": "code",
   "execution_count": 102,
   "metadata": {},
   "outputs": [],
   "source": [
    "del k_nearest_neighbour_iris, predictions_iris, compare_iris, accuracy_iris, error_rate_iris"
   ]
  },
  {
   "cell_type": "markdown",
   "metadata": {},
   "source": [
    "#### 1-Nearest Neighbour"
   ]
  },
  {
   "cell_type": "code",
   "execution_count": 103,
   "metadata": {},
   "outputs": [],
   "source": [
    "one_nearest_neighbour_iris: One_Nearest_Neighbours = One_Nearest_Neighbours()\n",
    "one_nearest_neighbour_iris.fit(X_train_iris, y_train_iris)"
   ]
  },
  {
   "cell_type": "code",
   "execution_count": 104,
   "metadata": {},
   "outputs": [],
   "source": [
    "predictions_iris: list = one_nearest_neighbour_iris.predict(X_test_iris)\n",
    "compare_iris: DataFrame = pd.DataFrame({'True Labels': y_test_iris, 'Predicted Labels': predictions_iris})\n",
    "accuracy_iris: float = one_nearest_neighbour_iris.score(X_test_iris, y_test_iris)\n",
    "error_rate_iris: float = 1 - accuracy_iris"
   ]
  },
  {
   "cell_type": "code",
   "execution_count": 105,
   "metadata": {},
   "outputs": [
    {
     "name": "stdout",
     "output_type": "stream",
     "text": [
      "Predictions:  [2, 2, 0, 2, 0, 0, 1, 1, 0, 1, 1, 2, 1, 2, 2, 0, 1, 2, 2, 1, 0, 0, 2, 0, 2, 1, 2, 0, 1, 2, 0, 1, 1, 0, 1, 0, 0, 1]\n",
      "Accuracy:  0.9736842105263158\n",
      "Error Rate:  0.02631578947368418\n",
      "Compare:      True Labels  Predicted Labels\n",
      "0             2                 2\n",
      "1             2                 2\n",
      "2             0                 0\n",
      "3             2                 2\n",
      "4             0                 0\n",
      "5             0                 0\n",
      "6             1                 1\n",
      "7             1                 1\n",
      "8             0                 0\n",
      "9             1                 1\n",
      "10            1                 1\n",
      "11            2                 2\n",
      "12            1                 1\n",
      "13            2                 2\n",
      "14            2                 2\n",
      "15            0                 0\n",
      "16            1                 1\n",
      "17            2                 2\n",
      "18            2                 2\n",
      "19            1                 1\n",
      "20            0                 0\n",
      "21            0                 0\n",
      "22            2                 2\n",
      "23            0                 0\n",
      "24            2                 2\n",
      "25            2                 1\n",
      "26            2                 2\n",
      "27            0                 0\n",
      "28            1                 1\n",
      "29            2                 2\n",
      "30            0                 0\n",
      "31            1                 1\n",
      "32            1                 1\n",
      "33            0                 0\n",
      "34            1                 1\n",
      "35            0                 0\n",
      "36            0                 0\n",
      "37            1                 1\n"
     ]
    }
   ],
   "source": [
    "print_dataset_properties(predictions_iris, accuracy_iris, compare_iris)"
   ]
  },
  {
   "cell_type": "code",
   "execution_count": 106,
   "metadata": {},
   "outputs": [],
   "source": [
    "del one_nearest_neighbour_iris, predictions_iris, compare_iris, accuracy_iris, error_rate_iris"
   ]
  },
  {
   "cell_type": "markdown",
   "metadata": {},
   "source": [
    "#### 3-Nearest Neighbours"
   ]
  },
  {
   "cell_type": "code",
   "execution_count": 107,
   "metadata": {},
   "outputs": [],
   "source": [
    "three_nearest_neighbours_iris: Three_Nearest_Neighbours = Three_Nearest_Neighbours()\n",
    "three_nearest_neighbours_iris.fit(X_train_iris, y_train_iris)"
   ]
  },
  {
   "cell_type": "code",
   "execution_count": 108,
   "metadata": {},
   "outputs": [],
   "source": [
    "predictions_iris: list = three_nearest_neighbours_iris.predict(X_test_iris)\n",
    "compare_iris: DataFrame = pd.DataFrame({'True Labels': y_test_iris, 'Predicted Labels': predictions_iris})\n",
    "accuracy_iris: float = three_nearest_neighbours_iris.score(X_test_iris, y_test_iris)\n",
    "error_rate_iris: float = 1 - accuracy_iris"
   ]
  },
  {
   "cell_type": "code",
   "execution_count": 109,
   "metadata": {},
   "outputs": [
    {
     "name": "stdout",
     "output_type": "stream",
     "text": [
      "Predictions:  [2, 2, 0, 2, 0, 0, 1, 1, 0, 1, 1, 2, 1, 2, 2, 0, 1, 2, 2, 1, 0, 0, 2, 0, 2, 1, 2, 0, 1, 2, 0, 1, 1, 0, 1, 0, 0, 1]\n",
      "Accuracy:  0.9736842105263158\n",
      "Error Rate:  0.02631578947368418\n",
      "Compare:      True Labels  Predicted Labels\n",
      "0             2                 2\n",
      "1             2                 2\n",
      "2             0                 0\n",
      "3             2                 2\n",
      "4             0                 0\n",
      "5             0                 0\n",
      "6             1                 1\n",
      "7             1                 1\n",
      "8             0                 0\n",
      "9             1                 1\n",
      "10            1                 1\n",
      "11            2                 2\n",
      "12            1                 1\n",
      "13            2                 2\n",
      "14            2                 2\n",
      "15            0                 0\n",
      "16            1                 1\n",
      "17            2                 2\n",
      "18            2                 2\n",
      "19            1                 1\n",
      "20            0                 0\n",
      "21            0                 0\n",
      "22            2                 2\n",
      "23            0                 0\n",
      "24            2                 2\n",
      "25            2                 1\n",
      "26            2                 2\n",
      "27            0                 0\n",
      "28            1                 1\n",
      "29            2                 2\n",
      "30            0                 0\n",
      "31            1                 1\n",
      "32            1                 1\n",
      "33            0                 0\n",
      "34            1                 1\n",
      "35            0                 0\n",
      "36            0                 0\n",
      "37            1                 1\n"
     ]
    }
   ],
   "source": [
    "print_dataset_properties(predictions_iris, accuracy_iris, compare_iris)"
   ]
  },
  {
   "cell_type": "code",
   "execution_count": 110,
   "metadata": {},
   "outputs": [],
   "source": [
    "del three_nearest_neighbours_iris, predictions_iris, compare_iris, accuracy_iris, error_rate_iris"
   ]
  },
  {
   "cell_type": "markdown",
   "metadata": {},
   "source": [
    "### Comparing Nearest Neighbours Algorithms"
   ]
  },
  {
   "cell_type": "markdown",
   "metadata": {},
   "source": [
    "#### K-Nearest Neighbour (`k = 1`) vs 1-Nearest Neighbour"
   ]
  },
  {
   "cell_type": "code",
   "execution_count": 111,
   "metadata": {},
   "outputs": [],
   "source": [
    "k_nearest_neighbour_iris: K_Nearest_Neighbours = K_Nearest_Neighbours(k=1)\n",
    "k_nearest_neighbour_iris.fit(X_train_iris, y_train_iris)\n",
    "\n",
    "predictions_iris_k: list = k_nearest_neighbour_iris.predict(X_test_iris)\n",
    "accuracy_iris_k: float = k_nearest_neighbour_iris.score(X_test_iris, y_test_iris)"
   ]
  },
  {
   "cell_type": "code",
   "execution_count": 112,
   "metadata": {},
   "outputs": [],
   "source": [
    "one_nearest_neighbour_iris: One_Nearest_Neighbours = One_Nearest_Neighbours()\n",
    "one_nearest_neighbour_iris.fit(X_train_iris, y_train_iris)\n",
    "\n",
    "predictions_iris_1: list = one_nearest_neighbour_iris.predict(X_test_iris)\n",
    "accuracy_iris_1: float = one_nearest_neighbour_iris.score(X_test_iris, y_test_iris)"
   ]
  },
  {
   "cell_type": "code",
   "execution_count": 113,
   "metadata": {},
   "outputs": [
    {
     "name": "stdout",
     "output_type": "stream",
     "text": [
      "Predictions:  True\n",
      "Accuracy:  True\n"
     ]
    }
   ],
   "source": [
    "print(\"Predictions: \", predictions_iris_k == predictions_iris_1)\n",
    "print(\"Accuracy: \", accuracy_iris_k == accuracy_iris_1)"
   ]
  },
  {
   "cell_type": "code",
   "execution_count": 114,
   "metadata": {},
   "outputs": [],
   "source": [
    "del k_nearest_neighbour_iris, predictions_iris_k, accuracy_iris_k, one_nearest_neighbour_iris, predictions_iris_1, accuracy_iris_1"
   ]
  },
  {
   "cell_type": "markdown",
   "metadata": {},
   "source": [
    "#### K-Nearest Neighbour (`k = 3`) vs 3-Nearest Neighbour"
   ]
  },
  {
   "cell_type": "code",
   "execution_count": 115,
   "metadata": {},
   "outputs": [],
   "source": [
    "k_nearest_neighbour_iris: K_Nearest_Neighbours = K_Nearest_Neighbours(k=3)\n",
    "k_nearest_neighbour_iris.fit(X_train_iris, y_train_iris)\n",
    "\n",
    "predictions_iris_k: list = k_nearest_neighbour_iris.predict(X_test_iris)\n",
    "accuracy_iris_k: float = k_nearest_neighbour_iris.score(X_test_iris, y_test_iris)"
   ]
  },
  {
   "cell_type": "code",
   "execution_count": 116,
   "metadata": {},
   "outputs": [],
   "source": [
    "three_nearest_neighbour_iris: Three_Nearest_Neighbours = Three_Nearest_Neighbours()\n",
    "three_nearest_neighbour_iris.fit(X_train_iris, y_train_iris)\n",
    "\n",
    "predictions_iris_3: list = three_nearest_neighbour_iris.predict(X_test_iris)\n",
    "accuracy_iris_3: float = three_nearest_neighbour_iris.score(X_test_iris, y_test_iris)"
   ]
  },
  {
   "cell_type": "code",
   "execution_count": 117,
   "metadata": {},
   "outputs": [
    {
     "name": "stdout",
     "output_type": "stream",
     "text": [
      "Predictions:  True\n",
      "Accuracy:  True\n"
     ]
    }
   ],
   "source": [
    "print(\"Predictions: \", predictions_iris_k == predictions_iris_3)\n",
    "print(\"Accuracy: \", accuracy_iris_k == accuracy_iris_3)"
   ]
  },
  {
   "cell_type": "code",
   "execution_count": 118,
   "metadata": {},
   "outputs": [],
   "source": [
    "del k_nearest_neighbour_iris, predictions_iris_k, accuracy_iris_k, three_nearest_neighbour_iris, predictions_iris_3, accuracy_iris_3"
   ]
  },
  {
   "cell_type": "markdown",
   "metadata": {},
   "source": [
    "#### Comparing Custom K-Nearest Neighbour Algorithm to `scikit` Built-In Implementation"
   ]
  },
  {
   "cell_type": "code",
   "execution_count": 119,
   "metadata": {},
   "outputs": [],
   "source": [
    "k_nearest_neighbour_scikit = KNeighborsClassifier(n_neighbors=1) \n",
    "k_nearest_neighbour_scikit.fit(X_train_iris, y_train_iris)\n",
    "\n",
    "prediction_iris_scikit = k_nearest_neighbour_scikit.predict(X_test_iris)\n",
    "accuracy_iris_scikit = k_nearest_neighbour_scikit.score(X_test_iris, y_test_iris)"
   ]
  },
  {
   "cell_type": "code",
   "execution_count": 120,
   "metadata": {},
   "outputs": [],
   "source": [
    "k_nearest_neighbour_iris_custom: K_Nearest_Neighbours = K_Nearest_Neighbours(k=3)\n",
    "k_nearest_neighbour_iris_custom.fit(X_train_iris, y_train_iris)\n",
    "\n",
    "predictions_iris_custom: list = k_nearest_neighbour_iris_custom.predict(X_test_iris)\n",
    "accuracy_iris_custom: float = k_nearest_neighbour_iris_custom.score(X_test_iris, y_test_iris)"
   ]
  },
  {
   "cell_type": "code",
   "execution_count": 121,
   "metadata": {},
   "outputs": [
    {
     "name": "stdout",
     "output_type": "stream",
     "text": [
      "Predictions:  True\n",
      "Accuracy:  True\n"
     ]
    }
   ],
   "source": [
    "print(\"Predictions: \", compare_lists(prediction_iris_scikit, predictions_iris_custom))\n",
    "print(\"Accuracy: \", accuracy_iris_scikit == accuracy_iris_custom)"
   ]
  },
  {
   "cell_type": "code",
   "execution_count": 122,
   "metadata": {},
   "outputs": [],
   "source": [
    "del k_nearest_neighbour_scikit, prediction_iris_scikit, accuracy_iris_scikit, k_nearest_neighbour_iris_custom, predictions_iris_custom, accuracy_iris_custom"
   ]
  },
  {
   "cell_type": "markdown",
   "metadata": {},
   "source": [
    "### Conformal Prediction"
   ]
  },
  {
   "cell_type": "code",
   "execution_count": 123,
   "metadata": {},
   "outputs": [],
   "source": [
    "same_class_dist, other_class_dist = calculate_distance(X_train_iris, y_train_iris)\n",
    "p_values: list[float] = calculate_p_value(same_class_dist, other_class_dist)\n",
    "conformal_prediction_iris: list[bool] = calculate_conformal_prediction(X_train_iris, y_train_iris, X_test_iris, 0.05)\n",
    "alpha: float = calculate_alpha(p_values, 0.05)\n",
    "conformal_prediction_iris_alpha: list[bool] = calculate_conformal_prediction(X_train_iris, y_train_iris, X_test_iris, alpha)"
   ]
  },
  {
   "cell_type": "code",
   "execution_count": 124,
   "metadata": {},
   "outputs": [
    {
     "name": "stdout",
     "output_type": "stream",
     "text": [
      "Average p-value:  0.22701569783776976\n",
      "Average false p-value for `alpha = 0.05` iris dataset:  0.06192235189296758\n",
      "Conformal prediction:  1.0\n",
      "Conformal prediction for `alpha = 0.05` iris dataset:  1.0\n"
     ]
    }
   ],
   "source": [
    "print(\"Average p-value: \", np.mean(p_values))\n",
    "print(\"Average false p-value for `alpha = 0.05` iris dataset: \", alpha)\n",
    "print(\"Conformal prediction: \", np.mean(conformal_prediction_iris))\n",
    "print(\"Conformal prediction for `alpha = 0.05` iris dataset: \", np.mean(conformal_prediction_iris_alpha))"
   ]
  },
  {
   "cell_type": "code",
   "execution_count": 125,
   "metadata": {},
   "outputs": [],
   "source": [
    "del same_class_dist, other_class_dist, p_values, conformal_prediction_iris, alpha, conformal_prediction_iris_alpha"
   ]
  },
  {
   "cell_type": "markdown",
   "metadata": {},
   "source": [
    "## Ionosphere"
   ]
  },
  {
   "cell_type": "markdown",
   "metadata": {},
   "source": [
    "### Loading Dataset"
   ]
  },
  {
   "cell_type": "code",
   "execution_count": 126,
   "metadata": {},
   "outputs": [],
   "source": [
    "X_ionosphere = np.genfromtxt(\"ionosphere.txt\", delimiter=',', dtype='int') \n",
    "X_ionosphere = X_ionosphere[:, :-1] \n",
    "y_ionosphere = np.genfromtxt(\"ionosphere.txt\", delimiter=',', dtype='int')\n",
    "y_ionosphere = y_ionosphere[:, -1]"
   ]
  },
  {
   "cell_type": "markdown",
   "metadata": {},
   "source": [
    "### Splitting Dataset"
   ]
  },
  {
   "cell_type": "code",
   "execution_count": 127,
   "metadata": {},
   "outputs": [],
   "source": [
    "X_train_ionosphere, X_test_ionosphere, y_train_ionosphere, y_test_ionosphere = train_test_split(X_ionosphere, y_ionosphere, random_state=2022)"
   ]
  },
  {
   "cell_type": "markdown",
   "metadata": {},
   "source": [
    "### Checking Dataset"
   ]
  },
  {
   "cell_type": "code",
   "execution_count": 128,
   "metadata": {},
   "outputs": [
    {
     "name": "stdout",
     "output_type": "stream",
     "text": [
      "Iris Training Set Features Size:  (351, 34)\n",
      "Iris Training Set Labels Size:    (351,)\n"
     ]
    }
   ],
   "source": [
    "print(\"Iris Training Set Features Size: \", X_ionosphere.shape)\n",
    "print(\"Iris Training Set Labels Size:   \", y_ionosphere.shape)"
   ]
  },
  {
   "cell_type": "code",
   "execution_count": 129,
   "metadata": {},
   "outputs": [
    {
     "name": "stdout",
     "output_type": "stream",
     "text": [
      "[[ 1  0 -1 ... -1 -1 -1]\n",
      " [ 1  0  1 ... -1 -1 -1]\n",
      " [ 1  0  1 ... -1 -1 -1]\n",
      " ...\n",
      " [ 1  0 -1 ... -1 -1 -1]\n",
      " [ 1  0 -1 ... -1 -1 -1]\n",
      " [ 1  0 -1 ... -1 -1 -1]]\n",
      "[ 1 -1  1 -1  1 -1  1 -1  1 -1  1 -1  1 -1  1 -1  1 -1  1 -1  1 -1  1 -1\n",
      "  1 -1  1 -1  1 -1  1 -1  1 -1  1 -1  1 -1  1 -1  1 -1  1 -1  1 -1  1 -1\n",
      "  1 -1  1 -1  1 -1  1 -1  1 -1  1 -1  1 -1  1 -1  1 -1  1 -1  1 -1  1 -1\n",
      "  1 -1  1 -1  1 -1  1 -1  1 -1  1 -1  1 -1  1 -1  1 -1  1 -1  1 -1  1 -1\n",
      "  1  1 -1  1 -1  1 -1  1 -1  1 -1  1 -1  1 -1  1 -1  1 -1  1 -1  1 -1  1\n",
      " -1  1 -1  1 -1  1 -1  1 -1  1 -1  1 -1  1 -1  1 -1  1 -1  1 -1  1 -1  1\n",
      " -1  1 -1  1 -1  1 -1  1 -1  1 -1  1 -1  1 -1  1 -1  1 -1  1 -1  1 -1  1\n",
      " -1  1 -1  1 -1  1 -1  1 -1  1 -1  1 -1  1 -1  1 -1  1 -1  1 -1  1 -1  1\n",
      " -1  1 -1  1 -1  1 -1  1 -1  1 -1  1 -1  1 -1  1 -1  1 -1  1 -1  1 -1  1\n",
      " -1  1 -1  1 -1  1 -1  1 -1  1 -1  1 -1  1 -1  1 -1  1 -1  1 -1  1 -1  1\n",
      " -1  1 -1  1 -1  1 -1  1 -1  1 -1  1 -1  1  1  1  1  1  1  1  1  1  1  1\n",
      "  1  1  1  1  1  1  1  1  1  1  1  1  1  1  1  1  1  1  1  1  1  1  1  1\n",
      "  1  1  1  1  1  1  1  1  1  1  1  1  1  1  1  1  1  1  1  1  1  1  1  1\n",
      "  1  1  1  1  1  1  1  1  1  1  1  1  1  1  1  1  1  1  1  1  1  1  1  1\n",
      "  1  1  1  1  1  1  1  1  1  1  1  1  1  1  1]\n"
     ]
    }
   ],
   "source": [
    "print(X_ionosphere)\n",
    "print(y_ionosphere)"
   ]
  },
  {
   "cell_type": "markdown",
   "metadata": {},
   "source": [
    "### Checking Nearest Neighbours Algorithms"
   ]
  },
  {
   "cell_type": "markdown",
   "metadata": {},
   "source": [
    "#### K-Nearest Neighbours"
   ]
  },
  {
   "cell_type": "code",
   "execution_count": 130,
   "metadata": {},
   "outputs": [],
   "source": [
    "k_nearest_neighbour_ionosphere: K_Nearest_Neighbours = K_Nearest_Neighbours(k=3)\n",
    "k_nearest_neighbour_ionosphere.fit(X_ionosphere, y_ionosphere)\n",
    "predictions_ionosphere: list = k_nearest_neighbour_ionosphere.predict(X_ionosphere)\n",
    "compare_ionosphere: DataFrame = pd.DataFrame({'True Labels': y_ionosphere, 'Predicted Labels': predictions_ionosphere})\n",
    "accuracy_ionosphere: float = k_nearest_neighbour_ionosphere.score(X_ionosphere, y_ionosphere)\n",
    "error_rate_ionosphere: float = 1 - accuracy_ionosphere"
   ]
  },
  {
   "cell_type": "code",
   "execution_count": 131,
   "metadata": {},
   "outputs": [
    {
     "name": "stdout",
     "output_type": "stream",
     "text": [
      "Predictions:  [1, 1, 1, -1, 1, -1, 1, -1, 1, -1, 1, -1, 1, -1, 1, -1, 1, -1, 1, -1, 1, -1, 1, -1, 1, 1, 1, -1, 1, -1, 1, -1, 1, -1, 1, 1, 1, -1, 1, 1, 1, -1, 1, -1, 1, -1, 1, -1, 1, -1, 1, -1, 1, -1, 1, -1, 1, -1, 1, -1, 1, -1, 1, -1, 1, 1, 1, -1, 1, -1, 1, -1, 1, -1, 1, -1, 1, -1, 1, -1, 1, -1, 1, 1, 1, -1, 1, -1, 1, 1, 1, 1, 1, -1, 1, 1, 1, 1, 1, 1, -1, 1, -1, 1, -1, -1, -1, 1, -1, 1, -1, 1, -1, 1, -1, 1, 1, 1, 1, -1, 1, 1, 1, 1, -1, 1, 1, 1, -1, 1, -1, 1, -1, 1, -1, 1, 1, 1, 1, 1, 1, 1, -1, 1, 1, 1, -1, 1, -1, 1, 1, 1, 1, 1, 1, 1, -1, 1, 1, 1, 1, 1, -1, 1, -1, 1, -1, 1, -1, 1, -1, 1, -1, 1, -1, 1, 1, 1, -1, 1, -1, 1, -1, 1, -1, 1, -1, 1, -1, 1, -1, 1, -1, 1, -1, 1, -1, 1, 1, -1, -1, 1, -1, 1, -1, 1, -1, 1, -1, 1, -1, 1, -1, 1, -1, 1, -1, 1, -1, 1, -1, 1, -1, 1, -1, 1, -1, 1, -1, 1, -1, 1, -1, 1, -1, 1, 1, 1, 1, 1, -1, 1, -1, 1, -1, 1, -1, 1, -1, 1, -1, 1, -1, 1, 1, 1, 1, 1, 1, 1, 1, 1, 1, 1, 1, 1, 1, 1, 1, 1, 1, 1, 1, 1, 1, 1, 1, 1, 1, 1, 1, 1, 1, 1, 1, 1, 1, 1, 1, 1, 1, 1, 1, 1, 1, 1, 1, 1, 1, 1, 1, 1, 1, 1, 1, 1, 1, 1, 1, 1, 1, 1, 1, 1, 1, 1, 1, 1, 1, 1, 1, 1, 1, 1, 1, 1, 1, 1, 1, 1, 1, 1, 1, 1, 1, 1, 1, 1, 1, 1, 1, 1, 1, 1, 1, 1, 1, 1, 1, 1, 1]\n",
      "Accuracy:  0.9116809116809117\n",
      "Error Rate:  0.0883190883190883\n",
      "Compare:       True Labels  Predicted Labels\n",
      "0              1                 1\n",
      "1             -1                 1\n",
      "2              1                 1\n",
      "3             -1                -1\n",
      "4              1                 1\n",
      "..           ...               ...\n",
      "346            1                 1\n",
      "347            1                 1\n",
      "348            1                 1\n",
      "349            1                 1\n",
      "350            1                 1\n",
      "\n",
      "[351 rows x 2 columns]\n"
     ]
    }
   ],
   "source": [
    "print_dataset_properties(predictions_ionosphere, accuracy_ionosphere, compare_ionosphere)"
   ]
  },
  {
   "cell_type": "code",
   "execution_count": 132,
   "metadata": {},
   "outputs": [],
   "source": [
    "del k_nearest_neighbour_ionosphere, predictions_ionosphere, compare_ionosphere, accuracy_ionosphere, error_rate_ionosphere"
   ]
  },
  {
   "cell_type": "markdown",
   "metadata": {},
   "source": [
    "#### 1 Nearest Neighbour"
   ]
  },
  {
   "cell_type": "code",
   "execution_count": 133,
   "metadata": {},
   "outputs": [],
   "source": [
    "one_nearest_neighbour_ionosphere: One_Nearest_Neighbours = One_Nearest_Neighbours()\n",
    "one_nearest_neighbour_ionosphere.fit(X_ionosphere, y_ionosphere)\n",
    "predictions_ionosphere: list = one_nearest_neighbour_ionosphere.predict(X_ionosphere)\n",
    "compare_ionosphere = pd.DataFrame({'True Labels': y_ionosphere, 'Predicted Labels': predictions_ionosphere})\n",
    "accuracy_ionosphere: float = one_nearest_neighbour_ionosphere.score(X_ionosphere, y_ionosphere)\n",
    "error_rate_ionosphere: float = 1 - accuracy_ionosphere"
   ]
  },
  {
   "cell_type": "code",
   "execution_count": 134,
   "metadata": {},
   "outputs": [
    {
     "name": "stdout",
     "output_type": "stream",
     "text": [
      "Predictions:  [1, -1, 1, -1, 1, -1, 1, -1, 1, -1, 1, -1, 1, -1, 1, -1, 1, -1, 1, -1, 1, -1, 1, -1, 1, -1, 1, -1, 1, -1, 1, -1, 1, -1, 1, -1, 1, -1, 1, -1, 1, -1, 1, -1, 1, -1, 1, -1, 1, -1, 1, -1, 1, -1, 1, -1, 1, -1, -1, -1, 1, -1, 1, -1, 1, -1, 1, -1, 1, -1, 1, -1, 1, -1, 1, -1, 1, -1, 1, -1, -1, -1, 1, -1, 1, -1, 1, -1, 1, 1, 1, 1, 1, -1, 1, -1, 1, 1, -1, 1, -1, 1, -1, 1, -1, 1, -1, 1, -1, 1, -1, 1, -1, 1, -1, 1, -1, 1, 1, 1, 1, 1, -1, 1, -1, 1, -1, 1, -1, 1, -1, 1, -1, 1, -1, 1, -1, 1, -1, 1, 1, 1, -1, 1, -1, 1, -1, 1, -1, 1, 1, 1, -1, 1, 1, 1, -1, 1, -1, 1, -1, 1, -1, 1, -1, 1, -1, 1, -1, 1, -1, 1, -1, 1, -1, -1, -1, 1, -1, 1, -1, 1, -1, 1, -1, 1, -1, 1, -1, 1, -1, 1, -1, 1, -1, 1, -1, 1, -1, 1, -1, 1, -1, 1, -1, 1, -1, 1, -1, 1, -1, 1, -1, 1, -1, 1, -1, 1, -1, 1, -1, 1, -1, 1, -1, 1, -1, 1, -1, 1, -1, 1, -1, 1, -1, 1, 1, 1, -1, 1, -1, 1, -1, 1, -1, 1, -1, 1, -1, 1, -1, 1, -1, 1, 1, 1, 1, 1, 1, 1, 1, 1, 1, 1, 1, 1, 1, 1, 1, 1, 1, 1, 1, 1, 1, 1, 1, 1, 1, 1, 1, 1, 1, 1, 1, 1, 1, 1, 1, 1, 1, 1, 1, 1, 1, 1, 1, 1, 1, 1, 1, 1, 1, 1, 1, 1, 1, 1, 1, 1, 1, 1, -1, 1, 1, 1, 1, 1, 1, 1, 1, 1, 1, 1, 1, 1, 1, 1, 1, 1, 1, 1, 1, 1, 1, 1, 1, 1, 1, 1, 1, 1, 1, 1, 1, 1, 1, 1, 1, 1, 1]\n",
      "Accuracy:  0.9658119658119658\n",
      "Error Rate:  0.03418803418803418\n",
      "Compare:       True Labels  Predicted Labels\n",
      "0              1                 1\n",
      "1             -1                -1\n",
      "2              1                 1\n",
      "3             -1                -1\n",
      "4              1                 1\n",
      "..           ...               ...\n",
      "346            1                 1\n",
      "347            1                 1\n",
      "348            1                 1\n",
      "349            1                 1\n",
      "350            1                 1\n",
      "\n",
      "[351 rows x 2 columns]\n"
     ]
    }
   ],
   "source": [
    "print_dataset_properties(predictions_ionosphere, accuracy_ionosphere, compare_ionosphere)"
   ]
  },
  {
   "cell_type": "code",
   "execution_count": 135,
   "metadata": {},
   "outputs": [],
   "source": [
    "del one_nearest_neighbour_ionosphere, predictions_ionosphere, compare_ionosphere, accuracy_ionosphere, error_rate_ionosphere"
   ]
  },
  {
   "cell_type": "markdown",
   "metadata": {},
   "source": [
    "#### 3 Nearest Neighbour"
   ]
  },
  {
   "cell_type": "code",
   "execution_count": 136,
   "metadata": {},
   "outputs": [],
   "source": [
    "three_nearest_neighbours_ionosphere: Three_Nearest_Neighbours = Three_Nearest_Neighbours()\n",
    "three_nearest_neighbours_ionosphere.fit(X_ionosphere, y_ionosphere)\n",
    "predictions_ionosphere: list = three_nearest_neighbours_ionosphere.predict(X_ionosphere)\n",
    "compare_ionosphere: DataFrame = pd.DataFrame({'True Labels': y_ionosphere, 'Predicted Labels': predictions_ionosphere})\n",
    "accuracy_ionosphere: float = three_nearest_neighbours_ionosphere.score(X_ionosphere, y_ionosphere)\n",
    "error_rate_ionosphere: float = 1 - accuracy_ionosphere"
   ]
  },
  {
   "cell_type": "code",
   "execution_count": 137,
   "metadata": {},
   "outputs": [
    {
     "name": "stdout",
     "output_type": "stream",
     "text": [
      "Predictions:  [1, 1, 1, -1, 1, -1, 1, -1, 1, -1, 1, -1, 1, -1, 1, -1, 1, -1, 1, -1, 1, -1, 1, -1, 1, 1, 1, -1, 1, -1, 1, -1, 1, -1, 1, 1, 1, -1, 1, 1, 1, -1, 1, -1, 1, -1, 1, -1, 1, -1, 1, -1, 1, -1, 1, -1, 1, -1, 1, -1, 1, -1, 1, -1, 1, 1, 1, -1, 1, -1, 1, -1, 1, -1, 1, -1, 1, -1, 1, -1, 1, -1, 1, 1, 1, -1, 1, -1, 1, 1, 1, 1, 1, -1, 1, 1, 1, 1, 1, 1, -1, 1, -1, 1, -1, -1, -1, 1, -1, 1, -1, 1, -1, 1, -1, 1, 1, 1, 1, -1, 1, 1, 1, 1, -1, 1, 1, 1, -1, 1, -1, 1, -1, 1, -1, 1, 1, 1, 1, 1, 1, 1, -1, 1, 1, 1, -1, 1, -1, 1, 1, 1, 1, 1, 1, 1, -1, 1, 1, 1, 1, 1, -1, 1, -1, 1, -1, 1, -1, 1, -1, 1, -1, 1, -1, 1, 1, 1, -1, 1, -1, 1, -1, 1, -1, 1, -1, 1, -1, 1, -1, 1, -1, 1, -1, 1, -1, 1, 1, -1, -1, 1, -1, 1, -1, 1, -1, 1, -1, 1, -1, 1, -1, 1, -1, 1, -1, 1, -1, 1, -1, 1, -1, 1, -1, 1, -1, 1, -1, 1, -1, 1, -1, 1, -1, 1, 1, 1, 1, 1, -1, 1, -1, 1, -1, 1, -1, 1, -1, 1, -1, 1, -1, 1, 1, 1, 1, 1, 1, 1, 1, 1, 1, 1, 1, 1, 1, 1, 1, 1, 1, 1, 1, 1, 1, 1, 1, 1, 1, 1, 1, 1, 1, 1, 1, 1, 1, 1, 1, 1, 1, 1, 1, 1, 1, 1, 1, 1, 1, 1, 1, 1, 1, 1, 1, 1, 1, 1, 1, 1, 1, 1, 1, 1, 1, 1, 1, 1, 1, 1, 1, 1, 1, 1, 1, 1, 1, 1, 1, 1, 1, 1, 1, 1, 1, 1, 1, 1, 1, 1, 1, 1, 1, 1, 1, 1, 1, 1, 1, 1, 1]\n",
      "Accuracy:  0.9116809116809117\n",
      "Error Rate:  0.0883190883190883\n",
      "Compare:       True Labels  Predicted Labels\n",
      "0              1                 1\n",
      "1             -1                 1\n",
      "2              1                 1\n",
      "3             -1                -1\n",
      "4              1                 1\n",
      "..           ...               ...\n",
      "346            1                 1\n",
      "347            1                 1\n",
      "348            1                 1\n",
      "349            1                 1\n",
      "350            1                 1\n",
      "\n",
      "[351 rows x 2 columns]\n"
     ]
    }
   ],
   "source": [
    "print_dataset_properties(predictions_ionosphere, accuracy_ionosphere, compare_ionosphere)"
   ]
  },
  {
   "cell_type": "code",
   "execution_count": 138,
   "metadata": {},
   "outputs": [],
   "source": [
    "del three_nearest_neighbours_ionosphere, predictions_ionosphere, compare_ionosphere, accuracy_ionosphere, error_rate_ionosphere"
   ]
  },
  {
   "cell_type": "markdown",
   "metadata": {},
   "source": [
    "### Comparing Nearest Neighbour Algorithms"
   ]
  },
  {
   "cell_type": "markdown",
   "metadata": {},
   "source": [
    "#### K-Nearest Neighbour (`k = 1`) vs 1-Nearest Neighbour "
   ]
  },
  {
   "cell_type": "code",
   "execution_count": 139,
   "metadata": {},
   "outputs": [],
   "source": [
    "k_nearest_neighbour_ionosphere: K_Nearest_Neighbours = K_Nearest_Neighbours(k=1)\n",
    "k_nearest_neighbour_ionosphere.fit(X_train_ionosphere, y_train_ionosphere)\n",
    "\n",
    "predictions_ionosphere_k: list = k_nearest_neighbour_ionosphere.predict(X_test_ionosphere)\n",
    "accuracy_iris_k: float = k_nearest_neighbour_ionosphere.score(X_test_ionosphere, y_test_ionosphere)"
   ]
  },
  {
   "cell_type": "code",
   "execution_count": 140,
   "metadata": {},
   "outputs": [],
   "source": [
    "one_nearest_neighbour_ionosphere: One_Nearest_Neighbours = One_Nearest_Neighbours()\n",
    "one_nearest_neighbour_ionosphere.fit(X_train_ionosphere, y_train_ionosphere)\n",
    "\n",
    "predictions_ionosphere_1: list = one_nearest_neighbour_ionosphere.predict(X_test_ionosphere)\n",
    "accuracy_ionosphere_1: float = one_nearest_neighbour_ionosphere.score(X_test_ionosphere, y_test_ionosphere)"
   ]
  },
  {
   "cell_type": "code",
   "execution_count": 141,
   "metadata": {},
   "outputs": [
    {
     "name": "stdout",
     "output_type": "stream",
     "text": [
      "Predictions:  True\n",
      "Accuracy:  True\n"
     ]
    }
   ],
   "source": [
    "print(\"Predictions: \", compare_lists(predictions_ionosphere_k, predictions_ionosphere_1))\n",
    "print(\"Accuracy: \", accuracy_iris_k == accuracy_ionosphere_1)"
   ]
  },
  {
   "cell_type": "code",
   "execution_count": 142,
   "metadata": {},
   "outputs": [],
   "source": [
    "del k_nearest_neighbour_ionosphere, predictions_ionosphere_k, accuracy_iris_k, one_nearest_neighbour_ionosphere, predictions_ionosphere_1, accuracy_ionosphere_1"
   ]
  },
  {
   "cell_type": "markdown",
   "metadata": {},
   "source": [
    "#### K-Nearest Neighbour (`k = 3`) vs 3-Nearest Neighbour"
   ]
  },
  {
   "cell_type": "code",
   "execution_count": 143,
   "metadata": {},
   "outputs": [],
   "source": [
    "k_nearest_neighbour_ionosphere: K_Nearest_Neighbours = K_Nearest_Neighbours(k=3)\n",
    "k_nearest_neighbour_ionosphere.fit(X_train_ionosphere, y_train_ionosphere)\n",
    "\n",
    "predictions_ionosphere_k: list = k_nearest_neighbour_ionosphere.predict(X_test_ionosphere)\n",
    "accuracy_iris_k: float = k_nearest_neighbour_ionosphere.score(X_test_ionosphere, y_test_ionosphere)"
   ]
  },
  {
   "cell_type": "code",
   "execution_count": 144,
   "metadata": {},
   "outputs": [],
   "source": [
    "three_nearest_neighbours_ionosphere: Three_Nearest_Neighbours = Three_Nearest_Neighbours()\n",
    "three_nearest_neighbours_ionosphere.fit(X_train_ionosphere, y_train_ionosphere)\n",
    "\n",
    "predictions_ionosphere_3: list = three_nearest_neighbours_ionosphere.predict(X_test_ionosphere)\n",
    "accuracy_ionosphere_3: float = three_nearest_neighbours_ionosphere.score(X_test_ionosphere, y_test_ionosphere)"
   ]
  },
  {
   "cell_type": "code",
   "execution_count": 145,
   "metadata": {},
   "outputs": [
    {
     "name": "stdout",
     "output_type": "stream",
     "text": [
      "Predictions:  True\n",
      "Accuracy:  True\n"
     ]
    }
   ],
   "source": [
    "print(\"Predictions: \", compare_lists(predictions_ionosphere_k, predictions_ionosphere_3))\n",
    "print(\"Accuracy: \", accuracy_iris_k == accuracy_ionosphere_3)"
   ]
  },
  {
   "cell_type": "code",
   "execution_count": 146,
   "metadata": {},
   "outputs": [],
   "source": [
    "del k_nearest_neighbour_ionosphere, predictions_ionosphere_k, accuracy_iris_k, three_nearest_neighbours_ionosphere, predictions_ionosphere_3, accuracy_ionosphere_3"
   ]
  },
  {
   "cell_type": "markdown",
   "metadata": {},
   "source": [
    "#### Comparing Custom K-Nearest Neighbour Algorithm to `scikit` Built-In Implementation"
   ]
  },
  {
   "cell_type": "code",
   "execution_count": 147,
   "metadata": {},
   "outputs": [],
   "source": [
    "k_nearest_neighbour_ionosphere_scikit: KNeighborsClassifier = KNeighborsClassifier(n_neighbors=3)\n",
    "k_nearest_neighbour_ionosphere_scikit.fit(X_train_ionosphere, y_train_ionosphere)\n",
    "\n",
    "predictions_ionosphere_scikit: list = k_nearest_neighbour_ionosphere_scikit.predict(X_test_ionosphere)\n",
    "accuracy_ionosphere_scikit: float = k_nearest_neighbour_ionosphere_scikit.score(X_test_ionosphere, y_test_ionosphere)"
   ]
  },
  {
   "cell_type": "code",
   "execution_count": 148,
   "metadata": {},
   "outputs": [],
   "source": [
    "k_nearest_neighbour_ionosphere_custom: K_Nearest_Neighbours = K_Nearest_Neighbours(k=3)\n",
    "k_nearest_neighbour_ionosphere_custom.fit(X_train_ionosphere, y_train_ionosphere)\n",
    "\n",
    "predictions_ionosphere_custom: list = k_nearest_neighbour_ionosphere_custom.predict(X_test_ionosphere)\n",
    "accuracy_ionosphere_custom: float = k_nearest_neighbour_ionosphere_custom.score(X_test_ionosphere, y_test_ionosphere)"
   ]
  },
  {
   "cell_type": "code",
   "execution_count": 149,
   "metadata": {},
   "outputs": [
    {
     "name": "stdout",
     "output_type": "stream",
     "text": [
      "Predictions:  True\n",
      "Accuracy:  True\n"
     ]
    }
   ],
   "source": [
    "print(\"Predictions: \", compare_lists(predictions_ionosphere_scikit, predictions_ionosphere_custom))\n",
    "print(\"Accuracy: \", accuracy_ionosphere_scikit == accuracy_ionosphere_custom)"
   ]
  },
  {
   "cell_type": "code",
   "execution_count": 150,
   "metadata": {},
   "outputs": [],
   "source": [
    "del k_nearest_neighbour_ionosphere_scikit, predictions_ionosphere_scikit, accuracy_ionosphere_scikit, k_nearest_neighbour_ionosphere_custom, predictions_ionosphere_custom, accuracy_ionosphere_custom"
   ]
  },
  {
   "cell_type": "markdown",
   "metadata": {},
   "source": [
    "### Conformal Prediction"
   ]
  },
  {
   "cell_type": "code",
   "execution_count": 151,
   "metadata": {},
   "outputs": [
    {
     "name": "stderr",
     "output_type": "stream",
     "text": [
      "/tmp/ipykernel_77768/2625238511.py:23: RuntimeWarning: invalid value encountered in double_scalars\n",
      "  p_values.append(element_same / (element_other + element_same))\n"
     ]
    }
   ],
   "source": [
    "same_class_dist, other_class_dist = calculate_distance(X_train_ionosphere, y_train_ionosphere)\n",
    "p_values: list[float] = calculate_p_value(same_class_dist, other_class_dist)\n",
    "conformal_prediction_iris: list[bool] = calculate_conformal_prediction(X_train_ionosphere, y_train_ionosphere, X_test_ionosphere, 0.05)\n",
    "alpha: float = calculate_alpha(p_values, 0.05)\n",
    "conformal_prediction_iris_alpha: list[bool] = calculate_conformal_prediction(X_train_ionosphere, y_train_ionosphere, X_test_ionosphere, alpha)"
   ]
  },
  {
   "cell_type": "code",
   "execution_count": 152,
   "metadata": {},
   "outputs": [
    {
     "name": "stdout",
     "output_type": "stream",
     "text": [
      "Average p-value:  nan\n",
      "Average false p-value for `alpha = 0.05` iris dataset:  0.5\n",
      "Conformal prediction:  1.0\n",
      "Conformal prediction for `alpha = 0.05` iris dataset:  0.0\n"
     ]
    }
   ],
   "source": [
    "print(\"Average p-value: \", np.mean(p_values))\n",
    "print(\"Average false p-value for `alpha = 0.05` iris dataset: \", alpha)\n",
    "print(\"Conformal prediction: \", np.mean(conformal_prediction_iris))\n",
    "print(\"Conformal prediction for `alpha = 0.05` iris dataset: \", np.mean(conformal_prediction_iris_alpha))"
   ]
  },
  {
   "cell_type": "markdown",
   "metadata": {},
   "source": [
    "# Comparing Sorting Algorithms"
   ]
  },
  {
   "cell_type": "code",
   "execution_count": 153,
   "metadata": {},
   "outputs": [],
   "source": [
    "import random\n",
    "import timeit"
   ]
  },
  {
   "cell_type": "code",
   "execution_count": 154,
   "metadata": {},
   "outputs": [],
   "source": [
    "random_numbers: list[float] = [random.random() for _ in range(100)]"
   ]
  },
  {
   "cell_type": "code",
   "execution_count": 155,
   "metadata": {},
   "outputs": [],
   "source": [
    "arg_sort: float = timeit.timeit(\"Sorting.arg_sort(random_numbers.copy())\", globals=globals(), number=1000)\n",
    "merge_sort: float = timeit.timeit(\"Sorting.merge_sort(random_numbers.copy())\", globals=globals(), number=1000)\n",
    "quick_sort: float = timeit.timeit(\"Sorting.quick_sort(random_numbers.copy())\", globals=globals(), number=1000)\n",
    "heap_sort: float = timeit.timeit(\"Sorting.heap_sort(random_numbers.copy())\", globals=globals(), number=1000)\n",
    "bubble_sort: float = timeit.timeit(\"Sorting.bubble_sort(random_numbers.copy())\", globals=globals(), number=1000)\n",
    "selection_sort: float = timeit.timeit(\"Sorting.selection_sort(random_numbers.copy())\", globals=globals(), number=1000)\n",
    "insertion_sort: float = timeit.timeit(\"Sorting.insertion_sort(random_numbers.copy())\", globals=globals(), number=1000)\n",
    "arg_partition: float = timeit.timeit(\"Sorting.arg_partition(random_numbers.copy())\", globals=globals(), number=1000)"
   ]
  },
  {
   "cell_type": "code",
   "execution_count": 156,
   "metadata": {},
   "outputs": [
    {
     "name": "stdout",
     "output_type": "stream",
     "text": [
      "Arg Sort:\t 0.02424218400119571\n",
      "Merge Sort:\t 0.8567613490013173\n",
      "Quick Sort:\t 0.316780254997866\n",
      "Heap Sort:\t 1.0349149859976023\n",
      "Bubble Sort:\t 2.041292007001175\n",
      "Selection Sort:\t 1.286797533997742\n",
      "Insertion Sort:\t 1.9608707959996536\n",
      "Arg Partition:\t 0.03717840000172146\n"
     ]
    }
   ],
   "source": [
    "print(\"Arg Sort:\\t\", arg_sort)\n",
    "print(\"Merge Sort:\\t\", merge_sort)\n",
    "print(\"Quick Sort:\\t\", quick_sort)\n",
    "print(\"Heap Sort:\\t\", heap_sort)\n",
    "print(\"Bubble Sort:\\t\", bubble_sort)\n",
    "print(\"Selection Sort:\\t\", selection_sort)\n",
    "print(\"Insertion Sort:\\t\", insertion_sort)\n",
    "print(\"Arg Partition:\\t\", arg_partition)"
   ]
  },
  {
   "cell_type": "code",
   "execution_count": 157,
   "metadata": {},
   "outputs": [
    {
     "data": {
      "image/png": "[encoded data removed]",
      "text/plain": [
       "<Figure size 1000x1000 with 1 Axes>"
      ]
     },
     "metadata": {},
     "output_type": "display_data"
    }
   ],
   "source": [
    "plt.figure(figsize=(10, 10))\n",
    "plt.title(\"Time Complexity of Sorting Algorithms\")\n",
    "plt.xlabel(\"Algorithm\")\n",
    "plt.ylabel(\"Time (s)\")\n",
    "plt.bar([\"arg_sort\", \"merge_sort\", \"quick_sort\", \"heap_sort\", \"bubble_sort\", \"selection_sort\", \"insertion_sort\", \"arg_partition\"], [arg_sort, merge_sort, quick_sort, heap_sort, bubble_sort, selection_sort, insertion_sort, arg_partition])\n",
    "plt.show()"
   ]
  }
 ],
 "metadata": {
  "kernelspec": {
   "display_name": "Python 3.10.7 ('anaconda-pOKeClin-py3.10')",
   "language": "python",
   "name": "python3"
  },
  "language_info": {
   "codemirror_mode": {
    "name": "ipython",
    "version": 3
   },
   "file_extension": ".py",
   "mimetype": "text/x-python",
   "name": "python",
   "nbconvert_exporter": "python",
   "pygments_lexer": "ipython3",
   "version": "3.10.7"
  },
  "orig_nbformat": 4,
  "vscode": {
   "interpreter": {
    "hash": "1d6ff4c17b0f926f3435e2604897e7630e7b57ea2fee9d98b1dac9eecef6094c"
   }
  }
 },
 "nbformat": 4,
 "nbformat_minor": 2
}
