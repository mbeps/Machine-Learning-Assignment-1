{
 "cells": [
  {
   "cell_type": "code",
   "execution_count": null,
   "metadata": {},
   "outputs": [],
   "source": [
    "import pandas as pd\n",
    "from sklearn.datasets import load_iris\n",
    "from sklearn.model_selection import train_test_split\n",
    "import numpy as np\n",
    "from collections import Counter\n",
    "from math import sqrt\n",
    "from numpy import ndarray"
   ]
  },
  {
   "cell_type": "markdown",
   "metadata": {},
   "source": [
    "# Algorithms"
   ]
  },
  {
   "cell_type": "markdown",
   "metadata": {},
   "source": [
    "## Sorting Algorithms"
   ]
  },
  {
   "cell_type": "code",
   "execution_count": null,
   "metadata": {},
   "outputs": [],
   "source": [
    "class Sorting:\n",
    "\t@staticmethod\n",
    "\tdef arg_sort(seq: list) -> list:\n",
    "\t\t# return np.argsort(seq)\n",
    "\t\treturn sorted(range(len(seq)), key=seq.__getitem__)\n",
    "\n",
    "\t@staticmethod\n",
    "\tdef merge_sort(seq: list) -> list:\n",
    "\t\tif len(seq) <= 1:\n",
    "\t\t\treturn seq\n",
    "\t\tmid = len(seq) // 2\n",
    "\t\tleft = Sorting.merge_sort(seq[:mid])\n",
    "\t\tright = Sorting.merge_sort(seq[mid:])\n",
    "\t\treturn Sorting.merge(left, right)\n",
    "\n",
    "\t@staticmethod\n",
    "\tdef merge(left: list, right: list) -> list:\n",
    "\t\tresult = []\n",
    "\t\twhile len(left) > 0 and len(right) > 0:\n",
    "\t\t\tif left[0] <= right[0]:\n",
    "\t\t\t\tresult.append(left.pop(0))\n",
    "\t\t\telse:\n",
    "\t\t\t\tresult.append(right.pop(0))\n",
    "\t\tif len(left) > 0:\n",
    "\t\t\tresult.extend(left)\n",
    "\t\tif len(right) > 0:\n",
    "\t\t\tresult.extend(right)\n",
    "\t\treturn result\n",
    "\n",
    "\t@staticmethod\n",
    "\tdef quick_sort(seq: list) -> list:\n",
    "\t\tif len(seq) <= 1:\n",
    "\t\t\treturn seq\n",
    "\t\tpivot = seq.pop()\n",
    "\t\tleft = []\n",
    "\t\tright = []\n",
    "\t\tfor item in seq:\n",
    "\t\t\tif item <= pivot:\n",
    "\t\t\t\tleft.append(item)\n",
    "\t\t\telse:\n",
    "\t\t\t\tright.append(item)\n",
    "\t\treturn Sorting.quick_sort(left) + [pivot] + Sorting.quick_sort(right)\n",
    "\n",
    "\t@staticmethod\n",
    "\tdef bubble_sort(seq: list) -> list:\n",
    "\t\tfor i in range(len(seq)):\n",
    "\t\t\tfor j in range(i + 1, len(seq)):\n",
    "\t\t\t\tif seq[i] > seq[j]:\n",
    "\t\t\t\t\tseq[i], seq[j] = seq[j], seq[i]\n",
    "\t\treturn seq\n",
    "\n",
    "\t@staticmethod\n",
    "\tdef selection_sort(seq: list) -> list:\n",
    "\t\tfor i in range(len(seq)):\n",
    "\t\t\tmin_index = i\n",
    "\t\t\tfor j in range(i + 1, len(seq)):\n",
    "\t\t\t\tif seq[j] < seq[min_index]:\n",
    "\t\t\t\t\tmin_index = j\n",
    "\t\t\tseq[i], seq[min_index] = seq[min_index], seq[i]\n",
    "\t\treturn seq\n",
    "\n",
    "\t@staticmethod\n",
    "\tdef insertion_sort(seq: list) -> list:\n",
    "\t\tfor i in range(1, len(seq)):\n",
    "\t\t\tj = i\n",
    "\t\t\twhile j > 0 and seq[j] < seq[j - 1]:\n",
    "\t\t\t\tseq[j], seq[j - 1] = seq[j - 1], seq[j]\n",
    "\t\t\t\tj -= 1\n",
    "\t\treturn seq\n",
    "\n",
    "\t@staticmethod\n",
    "\tdef heap_sort(seq: list) -> list:\n",
    "\t\theap = []\n",
    "\t\tfor item in seq:\n",
    "\t\t\theap.append(item)\n",
    "\t\t\tSorting.sift_up(heap, len(heap) - 1)\n",
    "\t\tresult = []\n",
    "\t\twhile len(heap) > 0:\n",
    "\t\t\tresult.append(heap[0])\n",
    "\t\t\theap[0] = heap[-1]\n",
    "\t\t\theap.pop()\n",
    "\t\t\tSorting.sift_down(heap, 0)\n",
    "\t\treturn result\t"
   ]
  },
  {
   "cell_type": "markdown",
   "metadata": {},
   "source": [
    "## 1 Nearest Neighbour"
   ]
  },
  {
   "cell_type": "code",
   "execution_count": null,
   "metadata": {},
   "outputs": [],
   "source": [
    "class OneNN:\n",
    "\tdef __init__(self):\n",
    "\t\tself.k: int = 1\n",
    "\t\tself.X_train: list = None\n",
    "\t\tself.y_train: list = None\n",
    "\n",
    "\tdef fit(self, X_train: list, y_train: list) -> None:\n",
    "\t\tself.X_train = X_train\n",
    "\t\tself.y_train = y_train\n",
    "\n",
    "\tdef predict(self, X_test: list) -> list[int]:\n",
    "\t\tpredictions: list = []\n",
    "\t\tfor index, element in enumerate(X_test):\n",
    "\t\t\tpredictions.append(self._predict(element))\n",
    "\t\treturn predictions\n",
    "\t\n",
    "\tdef _predict(self, x_test: list) -> int:\n",
    "\t\tdistances: list = self.distance(self.X_train, x_test)\n",
    "\t\tk_indices: list = self.sort(distances, \"arg_sort\")[:self.k]\n",
    "\t\tk_nearest_labels: list = [self.y_train[i] for i in k_indices]\n",
    "\t\tmost_common: list[tuple] = Counter(k_nearest_labels).most_common(1)\n",
    "\t\treturn most_common[0][0]\n",
    "\n",
    "\tdef score(self, X_test: list, y_test: list) -> float:\n",
    "\t\tpredictions: list = self.predict(X_test)\n",
    "\t\treturn self.accuracy_score(y_test, predictions)\n",
    "\n",
    "\tdef accuracy_score(self, y_test, y_pred) -> float:\n",
    "\t\taccuracy: float = sum(y_test == y_pred) / len(y_test)\n",
    "\t\treturn accuracy\n",
    "\n",
    "\tdef distance(self, x1: list, x2: list) -> list[float]:\n",
    "\t\treturn [((sum((x1 - x2)**2)) ** 0.5) for (x1) in (self.X_train)]\n",
    "\n",
    "\tdef sort(self, distances, sorting_type = \"arg_sort\"):\n",
    "\t\tif sorting_type == \"arg_sort\":\n",
    "\t\t\treturn Sorting.arg_sort(distances)\n",
    "\t\telif sorting_type == \"merge_sort\":\n",
    "\t\t\treturn Sorting.merge_sort(distances)\n",
    "\t\telif sorting_type == \"quick_sort\":\n",
    "\t\t\treturn Sorting.quick_sort(distances)"
   ]
  },
  {
   "cell_type": "markdown",
   "metadata": {},
   "source": [
    "## 3 Nearest Neighbours"
   ]
  },
  {
   "cell_type": "code",
   "execution_count": null,
   "metadata": {},
   "outputs": [],
   "source": [
    "class ThreeNN:\n",
    "\tdef __init__(self):\n",
    "\t\tself.k: int = 3\n",
    "\t\tself.X_train: list = None\n",
    "\t\tself.y_train: list = None\n",
    "\n",
    "\tdef fit(self, X_train: list, y_train: list) -> None:\n",
    "\t\tself.X_train = X_train\n",
    "\t\tself.y_train = y_train\n",
    "\n",
    "\tdef predict(self, X_test: list) -> list[int]:\n",
    "\t\tpredictions: list = []\n",
    "\t\tfor index, element in enumerate(X_test):\n",
    "\t\t\tpredictions.append(self._predict(element))\n",
    "\t\treturn predictions\n",
    "\t\n",
    "\tdef _predict(self, x_test: list) -> int:\n",
    "\t\tdistances: list = self.distance(self.X_train, x_test)\n",
    "\t\tk_indices: list = self.sort(distances, \"arg_sort\")[:self.k]\n",
    "\t\tk_nearest_labels: list = [self.y_train[i] for i in k_indices]\n",
    "\t\tmost_common: list[tuple] = Counter(k_nearest_labels).most_common(1)\n",
    "\t\treturn most_common[0][0]\n",
    "\n",
    "\tdef score(self, X_test: list, y_test: list) -> float:\n",
    "\t\tpredictions: list = self.predict(X_test)\n",
    "\t\treturn self.accuracy_score(y_test, predictions)\n",
    "\n",
    "\tdef accuracy_score(self, y_test, y_pred) -> float:\n",
    "\t\taccuracy: float = sum(y_test == y_pred) / len(y_test)\n",
    "\t\treturn accuracy\n",
    "\n",
    "\tdef distance(self, x1: list, x2: list) -> list[float]:\n",
    "\t\treturn [((sum((x1 - x2)**2)) ** 0.5) for (x1) in (self.X_train)]\n",
    "\n",
    "\tdef sort(self, distances, sorting_type = \"arg_sort\"):\n",
    "\t\tif sorting_type == \"arg_sort\":\n",
    "\t\t\treturn Sorting.arg_sort(distances)\n",
    "\t\telif sorting_type == \"merge_sort\":\n",
    "\t\t\treturn Sorting.merge_sort(distances)\n",
    "\t\telif sorting_type == \"quick_sort\":\n",
    "\t\t\treturn Sorting.quick_sort(distances)"
   ]
  },
  {
   "cell_type": "markdown",
   "metadata": {},
   "source": [
    "## K-Nearest Neighbour"
   ]
  },
  {
   "cell_type": "code",
   "execution_count": null,
   "metadata": {},
   "outputs": [],
   "source": [
    "class Knn:\n",
    "\tdef __init__(self, k: int):\n",
    "\t\tself.k: int = k\n",
    "\t\tself.X_train: list = None\n",
    "\t\tself.y_train: list = None\n",
    "\n",
    "\tdef fit(self, X_train: list, y_train: list) -> None:\n",
    "\t\tself.X_train = X_train\n",
    "\t\tself.y_train = y_train\n",
    "\n",
    "\tdef predict(self, X_test: list) -> list[int]:\n",
    "\t\tpredictions: list = []\n",
    "\t\tfor index, element in enumerate(X_test):\n",
    "\t\t\tpredictions.append(self._predict(element))\n",
    "\t\treturn predictions\n",
    "\t\n",
    "\tdef _predict(self, x_test: list) -> int:\n",
    "\t\tdistances: list = self.distance(self.X_train, x_test)\n",
    "\t\tk_indices: list = self.sort(distances, \"arg_sort\")[:self.k]\n",
    "\t\tk_nearest_labels: list = [self.y_train[i] for i in k_indices]\n",
    "\t\tmost_common: list[tuple] = Counter(k_nearest_labels).most_common(1)\n",
    "\t\treturn most_common[0][0]\n",
    "\n",
    "\tdef score(self, X_test: list, y_test: list) -> float:\n",
    "\t\tpredictions: list = self.predict(X_test)\n",
    "\t\treturn self.accuracy_score(y_test, predictions)\n",
    "\n",
    "\tdef accuracy_score(self, y_test, y_pred) -> float:\n",
    "\t\taccuracy: float = sum(y_test == y_pred) / len(y_test)\n",
    "\t\treturn accuracy\n",
    "\n",
    "\tdef distance(self, x1: list, x2: list) -> list[float]:\n",
    "\t\treturn [((sum((x1 - x2)**2)) ** 0.5) for (x1) in (self.X_train)]\n",
    "\n",
    "\tdef sort(self, distances, sorting_type = \"arg_sort\"):\n",
    "\t\tif sorting_type == \"arg_sort\":\n",
    "\t\t\treturn Sorting.arg_sort(distances)\n",
    "\t\telif sorting_type == \"merge_sort\":\n",
    "\t\t\treturn Sorting.merge_sort(distances)\n",
    "\t\telif sorting_type == \"quick_sort\":\n",
    "\t\t\treturn Sorting.quick_sort(distances)"
   ]
  },
  {
   "cell_type": "markdown",
   "metadata": {},
   "source": [
    "# Datasets"
   ]
  },
  {
   "cell_type": "markdown",
   "metadata": {},
   "source": [
    "## Iris"
   ]
  },
  {
   "cell_type": "markdown",
   "metadata": {},
   "source": [
    "### Loading Dataset"
   ]
  },
  {
   "cell_type": "code",
   "execution_count": null,
   "metadata": {},
   "outputs": [],
   "source": [
    "iris = load_iris()"
   ]
  },
  {
   "cell_type": "markdown",
   "metadata": {},
   "source": [
    "### Splitting Dataset"
   ]
  },
  {
   "cell_type": "code",
   "execution_count": null,
   "metadata": {},
   "outputs": [],
   "source": [
    "X_train_iris, X_test_iris, y_train_iris, y_test_iris = train_test_split(iris['data'], iris['target'], random_state=2022) # 75% training and 25% test "
   ]
  },
  {
   "cell_type": "markdown",
   "metadata": {},
   "source": [
    "### Checking Dataset"
   ]
  },
  {
   "cell_type": "code",
   "execution_count": null,
   "metadata": {},
   "outputs": [],
   "source": [
    "print(\"Iris Training Set Features Size: \", X_train_iris.shape)\n",
    "print(\"Iris Training Set Labels Size:   \", y_train_iris.shape)\n",
    "print(\"Iris Testing Set Features Size:  \", X_test_iris.shape)\n",
    "print(\"Iris Testing Set Labels Size:    \", y_test_iris.shape)"
   ]
  },
  {
   "cell_type": "code",
   "execution_count": null,
   "metadata": {},
   "outputs": [],
   "source": [
    "print(X_train_iris)\n",
    "print(y_train_iris)"
   ]
  },
  {
   "cell_type": "markdown",
   "metadata": {},
   "source": [
    "### Checking K-Nearest Neighbours "
   ]
  },
  {
   "cell_type": "code",
   "execution_count": null,
   "metadata": {},
   "outputs": [],
   "source": [
    "knn: Knn = Knn(k=3)\n",
    "knn.fit(X_train_iris, y_train_iris)\n",
    "predictions: list = knn.predict(X_test_iris)\n",
    "compare = pd.DataFrame({'True Labels': y_test_iris, 'Predicted Labels': predictions})\n",
    "accuracy: float = knn.score(X_test_iris, y_test_iris)\n",
    "error_rate: float = 1 - accuracy"
   ]
  },
  {
   "cell_type": "code",
   "execution_count": null,
   "metadata": {},
   "outputs": [],
   "source": [
    "print(\"Predictions: \", predictions)\n",
    "print(\"Accuracy: \", accuracy)\n",
    "print(\"Error Rate: \", 1 - accuracy)\n",
    "print(\"Comparison: \\n\", compare)"
   ]
  },
  {
   "cell_type": "markdown",
   "metadata": {},
   "source": [
    "### Checking 1-Nearest Neighbour"
   ]
  },
  {
   "cell_type": "code",
   "execution_count": null,
   "metadata": {},
   "outputs": [],
   "source": [
    "onenn: OneNN = OneNN()\n",
    "onenn.fit(X_train_iris, y_train_iris)\n",
    "predictions: list = onenn.predict(X_test_iris)\n",
    "compare = pd.DataFrame({'True Labels': y_test_iris, 'Predicted Labels': predictions})\n",
    "accuracy: float = onenn.score(X_test_iris, y_test_iris)\n",
    "error_rate: float = 1 - accuracy"
   ]
  },
  {
   "cell_type": "code",
   "execution_count": null,
   "metadata": {},
   "outputs": [],
   "source": [
    "print(\"Predictions: \", predictions)\n",
    "print(\"Accuracy: \", accuracy)\n",
    "print(\"Error Rate: \", 1 - accuracy)\n",
    "print(\"Comparison: \\n\", compare)"
   ]
  },
  {
   "cell_type": "markdown",
   "metadata": {},
   "source": [
    "### Checking 3-Nearest Neighbours"
   ]
  },
  {
   "cell_type": "code",
   "execution_count": null,
   "metadata": {},
   "outputs": [],
   "source": [
    "threenn: ThreeNN = ThreeNN()\n",
    "threenn.fit(X_train_iris, y_train_iris)\n",
    "predictions: list = threenn.predict(X_test_iris)\n",
    "compare = pd.DataFrame({'True Labels': y_test_iris, 'Predicted Labels': predictions})\n",
    "accuracy: float = threenn.score(X_test_iris, y_test_iris)\n",
    "error_rate: float = 1 - accuracy"
   ]
  },
  {
   "cell_type": "code",
   "execution_count": null,
   "metadata": {},
   "outputs": [],
   "source": [
    "print(\"Predictions: \", predictions)\n",
    "print(\"Accuracy: \", accuracy)\n",
    "print(\"Error Rate: \", 1 - accuracy)\n",
    "print(\"Comparison: \\n\", compare)"
   ]
  },
  {
   "cell_type": "markdown",
   "metadata": {},
   "source": [
    "## Ionosphere"
   ]
  },
  {
   "cell_type": "markdown",
   "metadata": {},
   "source": [
    "### Loading Dataset"
   ]
  },
  {
   "cell_type": "code",
   "execution_count": null,
   "metadata": {},
   "outputs": [],
   "source": [
    "X_ionosphere = np.genfromtxt(\"ionosphere.txt\", delimiter=',', dtype='int') \n",
    "X_ionosphere = X_ionosphere[:, :-1] \n",
    "y_ionosphere = np.genfromtxt(\"ionosphere.txt\", delimiter=',', dtype='int')\n",
    "y_ionosphere = y_ionosphere[:, -1]"
   ]
  },
  {
   "cell_type": "markdown",
   "metadata": {},
   "source": [
    "### Splitting Dataset"
   ]
  },
  {
   "cell_type": "code",
   "execution_count": null,
   "metadata": {},
   "outputs": [],
   "source": [
    "X_train_ionosphere, X_test_ionosphere, y_train_ionosphere, y_test_ionosphere = train_test_split(X_ionosphere, y_ionosphere, random_state=2022)"
   ]
  },
  {
   "cell_type": "markdown",
   "metadata": {},
   "source": [
    "### Checking Dataset"
   ]
  },
  {
   "cell_type": "code",
   "execution_count": null,
   "metadata": {},
   "outputs": [],
   "source": [
    "print(\"Iris Training Set Features Size: \", X_ionosphere.shape)\n",
    "print(\"Iris Training Set Labels Size:   \", y_ionosphere.shape)"
   ]
  },
  {
   "cell_type": "code",
   "execution_count": null,
   "metadata": {},
   "outputs": [],
   "source": [
    "print(X_ionosphere)\n",
    "print(y_ionosphere)"
   ]
  },
  {
   "cell_type": "markdown",
   "metadata": {},
   "source": [
    "### Checking K-Nearest Neighbours"
   ]
  },
  {
   "cell_type": "code",
   "execution_count": null,
   "metadata": {},
   "outputs": [],
   "source": [
    "knn.fit(X_ionosphere, y_ionosphere)\n",
    "predictions: list = knn.predict(X_ionosphere)\n",
    "compare = pd.DataFrame({'True Labels': y_ionosphere, 'Predicted Labels': predictions})\n",
    "accuracy: float = knn.score(X_ionosphere, y_ionosphere)\n",
    "error_rate: float = 1 - accuracy"
   ]
  },
  {
   "cell_type": "code",
   "execution_count": null,
   "metadata": {},
   "outputs": [],
   "source": [
    "print(\"Predictions: \", predictions)\n",
    "print(\"Accuracy: \", accuracy)\n",
    "print(\"Error Rate: \", 1 - accuracy)\n",
    "print(\"Comparison: \\n\", compare)"
   ]
  },
  {
   "cell_type": "markdown",
   "metadata": {},
   "source": [
    "### Checking 1 Nearest Neighbour"
   ]
  },
  {
   "cell_type": "code",
   "execution_count": null,
   "metadata": {},
   "outputs": [],
   "source": [
    "onenn.fit(X_ionosphere, y_ionosphere)\n",
    "predictions: list = onenn.predict(X_ionosphere)\n",
    "compare = pd.DataFrame({'True Labels': y_ionosphere, 'Predicted Labels': predictions})\n",
    "accuracy: float = onenn.score(X_ionosphere, y_ionosphere)\n",
    "error_rate: float = 1 - accuracy"
   ]
  },
  {
   "cell_type": "code",
   "execution_count": null,
   "metadata": {},
   "outputs": [],
   "source": [
    "print(\"Predictions: \", predictions)\n",
    "print(\"Accuracy: \", accuracy)\n",
    "print(\"Error Rate: \", 1 - accuracy)\n",
    "print(\"Comparison: \\n\", compare)"
   ]
  },
  {
   "cell_type": "markdown",
   "metadata": {},
   "source": [
    "### Checking 3 Nearest Neighbour"
   ]
  },
  {
   "cell_type": "code",
   "execution_count": null,
   "metadata": {},
   "outputs": [],
   "source": [
    "threenn.fit(X_ionosphere, y_ionosphere)\n",
    "predictions: list = threenn.predict(X_ionosphere)\n",
    "compare = pd.DataFrame({'True Labels': y_ionosphere, 'Predicted Labels': predictions})\n",
    "accuracy: float = threenn.score(X_ionosphere, y_ionosphere)\n",
    "error_rate: float = 1 - accuracy"
   ]
  },
  {
   "cell_type": "code",
   "execution_count": null,
   "metadata": {},
   "outputs": [],
   "source": [
    "print(\"Predictions: \", predictions)\n",
    "print(\"Accuracy: \", accuracy)\n",
    "print(\"Error Rate: \", 1 - accuracy)\n",
    "print(\"Comparison: \\n\", compare)"
   ]
  },
  {
   "cell_type": "markdown",
   "metadata": {},
   "source": [
    "# Conformal Predictor"
   ]
  },
  {
   "cell_type": "code",
   "execution_count": null,
   "metadata": {},
   "outputs": [],
   "source": [
    "# create conformal predictor \n",
    "import math\n",
    "def calculate_distance(X_train, y_train):\n",
    "    train_length = X_train.shape[0]\n",
    "    same_class_dist, other_class_dist = [[math.inf for i in range(train_length)] for j in range(2)]\n",
    "\n",
    "    for i in range(train_length-1):\n",
    "        for j in range(i+1, train_length):\n",
    "            dist = np.sqrt(np.sum((X_train[i] - X_train[j])**2))\n",
    "            if y_train[i] == y_train[j]:\n",
    "                if dist < same_class_dist[i]:\n",
    "                    same_class_dist[i] = dist\n",
    "                if dist < same_class_dist[j]:\n",
    "                    same_class_dist[j] = dist\n",
    "            else:\n",
    "                if dist < other_class_dist[i]:\n",
    "                    other_class_dist[i] = dist\n",
    "                if dist < other_class_dist[j]:\n",
    "                    other_class_dist[j] = dist\n",
    "    return same_class_dist, other_class_dist\n",
    "\n",
    "def calculate_p_value(same_class_dist, other_class_dist):\n",
    "    p_values = []\n",
    "    for i in range(len(same_class_dist)):\n",
    "        p_values.append(same_class_dist[i] / (same_class_dist[i] + other_class_dist[i]))\n",
    "    return p_values\n",
    "\n",
    "def calculate_alpha(p_values, alpha):\n",
    "    p_values.sort()\n",
    "    return p_values[int(len(p_values) * alpha)]\n",
    "\n",
    "def calculate_conformal_prediction(X_train, y_train, X_test, alpha):\n",
    "    same_class_dist, other_class_dist = calculate_distance(X_train, y_train)\n",
    "    p_values = calculate_p_value(same_class_dist, other_class_dist)\n",
    "    alpha = calculate_alpha(p_values, alpha)\n",
    "    predictions = []\n",
    "    for i in range(len(X_test)):\n",
    "        dist = np.sqrt(np.sum((X_train - X_test[i])**2))\n",
    "        p_values = dist / (dist + other_class_dist)\n",
    "        predictions.append(p_values > alpha)\n",
    "    return predictions\n",
    "\n",
    "# calculate p-values\n",
    "same_class_dist, other_class_dist = calculate_distance(X_train_iris, y_train_iris)\n",
    "p_values = calculate_p_value(same_class_dist, other_class_dist)\n"
   ]
  }
 ],
 "metadata": {
  "kernelspec": {
   "display_name": "Python 3.10.7 ('anaconda-pOKeClin-py3.10')",
   "language": "python",
   "name": "python3"
  },
  "language_info": {
   "codemirror_mode": {
    "name": "ipython",
    "version": 3
   },
   "file_extension": ".py",
   "mimetype": "text/x-python",
   "name": "python",
   "nbconvert_exporter": "python",
   "pygments_lexer": "ipython3",
   "version": "3.10.7"
  },
  "orig_nbformat": 4,
  "vscode": {
   "interpreter": {
    "hash": "1d6ff4c17b0f926f3435e2604897e7630e7b57ea2fee9d98b1dac9eecef6094c"
   }
  }
 },
 "nbformat": 4,
 "nbformat_minor": 2
}
