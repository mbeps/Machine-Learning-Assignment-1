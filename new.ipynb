{
 "cells": [
  {
   "cell_type": "code",
   "execution_count": 121,
   "metadata": {},
   "outputs": [],
   "source": [
    "import pandas as pd\n",
    "from sklearn.datasets import load_iris\n",
    "from sklearn.model_selection import train_test_split\n",
    "import numpy as np\n",
    "from collections import Counter"
   ]
  },
  {
   "cell_type": "markdown",
   "metadata": {},
   "source": [
    "# Importing Datasets"
   ]
  },
  {
   "cell_type": "markdown",
   "metadata": {},
   "source": [
    "## Iris"
   ]
  },
  {
   "cell_type": "code",
   "execution_count": 122,
   "metadata": {},
   "outputs": [],
   "source": [
    "iris = load_iris()\n",
    "X_train, X_test, y_train, y_test = train_test_split(iris['data'], iris['target'], random_state=2022) # 75% training and 25% test "
   ]
  },
  {
   "cell_type": "code",
   "execution_count": 123,
   "metadata": {},
   "outputs": [
    {
     "name": "stdout",
     "output_type": "stream",
     "text": [
      "[[5.1 3.8 1.9 0.4]\n",
      " [5.2 2.7 3.9 1.4]\n",
      " [6.5 3.  5.2 2. ]\n",
      " [5.6 3.  4.5 1.5]\n",
      " [4.9 2.4 3.3 1. ]\n",
      " [7.3 2.9 6.3 1.8]\n",
      " [6.9 3.1 5.4 2.1]\n",
      " [6.3 3.4 5.6 2.4]\n",
      " [7.1 3.  5.9 2.1]\n",
      " [6.9 3.2 5.7 2.3]\n",
      " [4.6 3.1 1.5 0.2]\n",
      " [5.9 3.  5.1 1.8]\n",
      " [6.  2.9 4.5 1.5]\n",
      " [6.2 3.4 5.4 2.3]\n",
      " [6.7 3.1 5.6 2.4]\n",
      " [6.4 2.8 5.6 2.2]\n",
      " [4.6 3.6 1.  0.2]\n",
      " [7.  3.2 4.7 1.4]\n",
      " [5.4 3.  4.5 1.5]\n",
      " [5.1 3.8 1.5 0.3]\n",
      " [6.1 2.8 4.  1.3]\n",
      " [5.  3.2 1.2 0.2]\n",
      " [5.  3.5 1.3 0.3]\n",
      " [5.7 2.8 4.1 1.3]\n",
      " [6.5 2.8 4.6 1.5]\n",
      " [5.  2.  3.5 1. ]\n",
      " [7.7 3.8 6.7 2.2]\n",
      " [6.7 3.  5.2 2.3]\n",
      " [6.7 3.1 4.7 1.5]\n",
      " [6.1 2.8 4.7 1.2]\n",
      " [7.2 3.6 6.1 2.5]\n",
      " [5.  3.  1.6 0.2]\n",
      " [5.4 3.7 1.5 0.2]\n",
      " [5.  3.6 1.4 0.2]\n",
      " [5.2 4.1 1.5 0.1]\n",
      " [6.  2.2 4.  1. ]\n",
      " [6.5 3.2 5.1 2. ]\n",
      " [6.7 3.1 4.4 1.4]\n",
      " [5.  3.4 1.5 0.2]\n",
      " [5.  3.4 1.6 0.4]\n",
      " [5.4 3.4 1.5 0.4]\n",
      " [6.1 3.  4.9 1.8]\n",
      " [5.9 3.2 4.8 1.8]\n",
      " [4.9 3.1 1.5 0.1]\n",
      " [5.2 3.4 1.4 0.2]\n",
      " [5.7 2.8 4.5 1.3]\n",
      " [5.  3.3 1.4 0.2]\n",
      " [4.6 3.2 1.4 0.2]\n",
      " [6.5 3.  5.8 2.2]\n",
      " [4.7 3.2 1.6 0.2]\n",
      " [6.9 3.1 5.1 2.3]\n",
      " [6.4 3.2 4.5 1.5]\n",
      " [6.3 2.7 4.9 1.8]\n",
      " [7.7 3.  6.1 2.3]\n",
      " [4.9 2.5 4.5 1.7]\n",
      " [5.8 2.7 5.1 1.9]\n",
      " [5.8 2.7 5.1 1.9]\n",
      " [5.1 2.5 3.  1.1]\n",
      " [6.7 2.5 5.8 1.8]\n",
      " [4.7 3.2 1.3 0.2]\n",
      " [5.1 3.8 1.6 0.2]\n",
      " [6.6 3.  4.4 1.4]\n",
      " [6.7 3.3 5.7 2.1]\n",
      " [5.9 3.  4.2 1.5]\n",
      " [5.1 3.7 1.5 0.4]\n",
      " [6.  3.  4.8 1.8]\n",
      " [5.1 3.3 1.7 0.5]\n",
      " [6.1 2.9 4.7 1.4]\n",
      " [6.1 2.6 5.6 1.4]\n",
      " [6.  2.2 5.  1.5]\n",
      " [5.6 2.9 3.6 1.3]\n",
      " [6.8 3.2 5.9 2.3]\n",
      " [4.4 3.2 1.3 0.2]\n",
      " [6.9 3.1 4.9 1.5]\n",
      " [6.7 3.  5.  1.7]\n",
      " [4.3 3.  1.1 0.1]\n",
      " [5.7 2.9 4.2 1.3]\n",
      " [5.8 4.  1.2 0.2]\n",
      " [6.8 2.8 4.8 1.4]\n",
      " [5.5 2.6 4.4 1.2]\n",
      " [5.7 2.5 5.  2. ]\n",
      " [4.8 3.  1.4 0.3]\n",
      " [4.8 3.  1.4 0.1]\n",
      " [6.  2.7 5.1 1.6]\n",
      " [7.7 2.8 6.7 2. ]\n",
      " [5.8 2.8 5.1 2.4]\n",
      " [6.3 3.3 4.7 1.6]\n",
      " [6.5 3.  5.5 1.8]\n",
      " [4.9 3.6 1.4 0.1]\n",
      " [6.  3.4 4.5 1.6]\n",
      " [6.3 2.3 4.4 1.3]\n",
      " [5.5 2.4 3.7 1. ]\n",
      " [5.7 4.4 1.5 0.4]\n",
      " [7.4 2.8 6.1 1.9]\n",
      " [6.2 2.9 4.3 1.3]\n",
      " [5.4 3.9 1.3 0.4]\n",
      " [5.  2.3 3.3 1. ]\n",
      " [6.3 2.5 4.9 1.5]\n",
      " [5.3 3.7 1.5 0.2]\n",
      " [5.6 2.7 4.2 1.3]\n",
      " [6.2 2.8 4.8 1.8]\n",
      " [4.8 3.4 1.6 0.2]\n",
      " [5.2 3.5 1.5 0.2]\n",
      " [5.5 4.2 1.4 0.2]\n",
      " [4.5 2.3 1.3 0.3]\n",
      " [5.5 2.3 4.  1.3]\n",
      " [6.7 3.3 5.7 2.5]\n",
      " [4.8 3.4 1.9 0.2]\n",
      " [5.7 3.8 1.7 0.3]\n",
      " [5.6 3.  4.1 1.3]\n",
      " [6.8 3.  5.5 2.1]\n",
      " [7.2 3.2 6.  1.8]]\n",
      "[0 1 2 1 1 2 2 2 2 2 0 2 1 2 2 2 0 1 1 0 1 0 0 1 1 1 2 2 1 1 2 0 0 0 0 1 2\n",
      " 1 0 0 0 2 1 0 0 1 0 0 2 0 2 1 2 2 2 2 2 1 2 0 0 1 2 1 0 2 0 1 2 2 1 2 0 1\n",
      " 1 0 1 0 1 1 2 0 0 1 2 2 1 2 0 1 1 1 0 2 1 0 1 1 0 1 2 0 0 0 0 1 2 0 0 1 2\n",
      " 2]\n"
     ]
    }
   ],
   "source": [
    "print(X_train)\n",
    "print(y_train)"
   ]
  },
  {
   "cell_type": "markdown",
   "metadata": {},
   "source": [
    "## Ionosphere"
   ]
  },
  {
   "cell_type": "code",
   "execution_count": 124,
   "metadata": {},
   "outputs": [],
   "source": [
    "X = np.genfromtxt(\"ionosphere.txt\", delimiter=',', dtype='int') \n",
    "X = X[:, :-1] \n",
    "y = np.genfromtxt(\"ionosphere.txt\", delimiter=',', dtype='int')\n",
    "y = y[:, -1]"
   ]
  },
  {
   "cell_type": "code",
   "execution_count": 125,
   "metadata": {},
   "outputs": [
    {
     "name": "stdout",
     "output_type": "stream",
     "text": [
      "[[ 1  0 -1 ... -1 -1 -1]\n",
      " [ 1  0  1 ... -1 -1 -1]\n",
      " [ 1  0  1 ... -1 -1 -1]\n",
      " ...\n",
      " [ 1  0 -1 ... -1 -1 -1]\n",
      " [ 1  0 -1 ... -1 -1 -1]\n",
      " [ 1  0 -1 ... -1 -1 -1]]\n",
      "[ 1 -1  1 -1  1 -1  1 -1  1 -1  1 -1  1 -1  1 -1  1 -1  1 -1  1 -1  1 -1\n",
      "  1 -1  1 -1  1 -1  1 -1  1 -1  1 -1  1 -1  1 -1  1 -1  1 -1  1 -1  1 -1\n",
      "  1 -1  1 -1  1 -1  1 -1  1 -1  1 -1  1 -1  1 -1  1 -1  1 -1  1 -1  1 -1\n",
      "  1 -1  1 -1  1 -1  1 -1  1 -1  1 -1  1 -1  1 -1  1 -1  1 -1  1 -1  1 -1\n",
      "  1  1 -1  1 -1  1 -1  1 -1  1 -1  1 -1  1 -1  1 -1  1 -1  1 -1  1 -1  1\n",
      " -1  1 -1  1 -1  1 -1  1 -1  1 -1  1 -1  1 -1  1 -1  1 -1  1 -1  1 -1  1\n",
      " -1  1 -1  1 -1  1 -1  1 -1  1 -1  1 -1  1 -1  1 -1  1 -1  1 -1  1 -1  1\n",
      " -1  1 -1  1 -1  1 -1  1 -1  1 -1  1 -1  1 -1  1 -1  1 -1  1 -1  1 -1  1\n",
      " -1  1 -1  1 -1  1 -1  1 -1  1 -1  1 -1  1 -1  1 -1  1 -1  1 -1  1 -1  1\n",
      " -1  1 -1  1 -1  1 -1  1 -1  1 -1  1 -1  1 -1  1 -1  1 -1  1 -1  1 -1  1\n",
      " -1  1 -1  1 -1  1 -1  1 -1  1 -1  1 -1  1  1  1  1  1  1  1  1  1  1  1\n",
      "  1  1  1  1  1  1  1  1  1  1  1  1  1  1  1  1  1  1  1  1  1  1  1  1\n",
      "  1  1  1  1  1  1  1  1  1  1  1  1  1  1  1  1  1  1  1  1  1  1  1  1\n",
      "  1  1  1  1  1  1  1  1  1  1  1  1  1  1  1  1  1  1  1  1  1  1  1  1\n",
      "  1  1  1  1  1  1  1  1  1  1  1  1  1  1  1]\n"
     ]
    }
   ],
   "source": [
    "print(X)\n",
    "print(y)"
   ]
  },
  {
   "cell_type": "markdown",
   "metadata": {},
   "source": [
    "# Nearest Neighbour Algorithms"
   ]
  },
  {
   "cell_type": "markdown",
   "metadata": {},
   "source": [
    "## K-Nearest Neighbour"
   ]
  },
  {
   "cell_type": "code",
   "execution_count": 126,
   "metadata": {},
   "outputs": [],
   "source": [
    "class Knn:\n",
    "\tdef __init__(self, k):\n",
    "\t\tself.k = k\n",
    "\t\tself.X_train = None\n",
    "\t\tself.y_train = None\n",
    "\n",
    "\tdef fit(self, X_train, y_train):\n",
    "\t\tself.X_train = X_train\n",
    "\t\tself.y_train = y_train\n",
    "\n",
    "\tdef predict(self, X_test):\n",
    "\t\tpredictions = []\n",
    "\t\tfor i in range(len(X_test)):\n",
    "\t\t\tpredictions.append(self._predict(X_test[i]))\n",
    "\t\treturn predictions\n",
    "\t\n",
    "\tdef _predict(self, x_test):\n",
    "\t\t# distances = [np.sqrt(np.sum((x_train - x_test)**2)) for x_train in self.X_train]\n",
    "\t\tdistances = self.distance(self.X_train, x_test)\n",
    "\t\tk_indices = np.argsort(distances)[:self.k]\n",
    "\t\tk_nearest_labels = [self.y_train[i] for i in k_indices]\n",
    "\t\tmost_common = Counter(k_nearest_labels).most_common(1)\n",
    "\t\treturn most_common[0][0]\n",
    "\n",
    "\tdef score(self, X_test, y_test):\n",
    "\t\tpredictions = self.predict(X_test)\n",
    "\t\treturn self.accuracy_score(y_test, predictions)\n",
    "\n",
    "\tdef accuracy_score(self, y_test, y_pred):\n",
    "\t\taccuracy = np.sum(y_test == y_pred) / len(y_test)\n",
    "\t\treturn accuracy\n",
    "\n",
    "\tdef distance(self, x1, x2):\n",
    "\t\treturn [np.sqrt(np.sum((x1 - x2)**2)) for x1 in self.X_train]"
   ]
  },
  {
   "cell_type": "markdown",
   "metadata": {},
   "source": [
    "## Iris Dataset"
   ]
  },
  {
   "cell_type": "code",
   "execution_count": 127,
   "metadata": {},
   "outputs": [],
   "source": [
    "knn = Knn(k=3)\n",
    "knn.fit(X_train, y_train)\n",
    "predictions = knn.predict(X_test)\n",
    "compare = pd.DataFrame({'True Labels': y_test, 'Predicted Labels': predictions})\n",
    "accuracy = knn.score(X_test, y_test)\n",
    "error_rate = 1 - accuracy"
   ]
  },
  {
   "cell_type": "code",
   "execution_count": 128,
   "metadata": {},
   "outputs": [
    {
     "name": "stdout",
     "output_type": "stream",
     "text": [
      "Predictions:  [2, 2, 0, 2, 0, 0, 1, 1, 0, 1, 1, 2, 1, 2, 2, 0, 1, 2, 2, 1, 0, 0, 2, 0, 2, 1, 2, 0, 1, 2, 0, 1, 1, 0, 1, 0, 0, 1]\n",
      "Accuracy:  0.9736842105263158\n",
      "Error Rate:  0.02631578947368418\n",
      "Comparison: \n",
      "     True Labels  Predicted Labels\n",
      "0             2                 2\n",
      "1             2                 2\n",
      "2             0                 0\n",
      "3             2                 2\n",
      "4             0                 0\n",
      "5             0                 0\n",
      "6             1                 1\n",
      "7             1                 1\n",
      "8             0                 0\n",
      "9             1                 1\n",
      "10            1                 1\n",
      "11            2                 2\n",
      "12            1                 1\n",
      "13            2                 2\n",
      "14            2                 2\n",
      "15            0                 0\n",
      "16            1                 1\n",
      "17            2                 2\n",
      "18            2                 2\n",
      "19            1                 1\n",
      "20            0                 0\n",
      "21            0                 0\n",
      "22            2                 2\n",
      "23            0                 0\n",
      "24            2                 2\n",
      "25            2                 1\n",
      "26            2                 2\n",
      "27            0                 0\n",
      "28            1                 1\n",
      "29            2                 2\n",
      "30            0                 0\n",
      "31            1                 1\n",
      "32            1                 1\n",
      "33            0                 0\n",
      "34            1                 1\n",
      "35            0                 0\n",
      "36            0                 0\n",
      "37            1                 1\n"
     ]
    }
   ],
   "source": [
    "print(\"Predictions: \", predictions)\n",
    "print(\"Accuracy: \", knn.score(X_test, y_test))\n",
    "print(\"Error Rate: \", 1 - knn.score(X_test, y_test))\n",
    "print(\"Comparison: \\n\", compare)\n"
   ]
  },
  {
   "cell_type": "markdown",
   "metadata": {},
   "source": [
    "## Ionosphere Dataset"
   ]
  },
  {
   "cell_type": "code",
   "execution_count": 129,
   "metadata": {},
   "outputs": [
    {
     "name": "stdout",
     "output_type": "stream",
     "text": [
      "0.9116809116809117\n"
     ]
    }
   ],
   "source": [
    "knn.fit(X, y)\n",
    "predictions = knn.predict(X)\n",
    "print(knn.score(X, y))"
   ]
  },
  {
   "cell_type": "markdown",
   "metadata": {},
   "source": [
    "## 1 Nearest Neighbour"
   ]
  },
  {
   "cell_type": "code",
   "execution_count": 130,
   "metadata": {},
   "outputs": [],
   "source": [
    "class OneNN:\n",
    "\tdef __init__(self):\n",
    "\t\tself.X_train = None\n",
    "\t\tself.y_train = None\n",
    "\n",
    "\tdef fit(self, X_train, y_train):\n",
    "\t\tself.X_train = X_train\n",
    "\t\tself.y_train = y_train\n",
    "\n",
    "\tdef predict(self, X_test):\n",
    "\t\tpredictions = []\n",
    "\t\tfor i in range(len(X_test)):\n",
    "\t\t\tpredictions.append(self._predict(X_test[i]))\n",
    "\t\treturn predictions\n",
    "\t\n",
    "\tdef _predict(self, x_test):\n",
    "\t\tdistances = [np.sqrt(np.sum((x_train - x_test)**2)) for x_train in self.X_train]\n",
    "\t\tk_indices = np.argsort(distances)[:1]\n",
    "\t\tk_nearest_labels = [self.y_train[i] for i in k_indices]\n",
    "\t\tmost_common = Counter(k_nearest_labels).most_common(1)\n",
    "\t\treturn most_common[0][0]\n",
    "\n",
    "\tdef score(self, X_test, y_test):\n",
    "\t\tpredictions = self.predict(X_test)\n",
    "\t\treturn self.accuracy_score(y_test, predictions)\n",
    "\n",
    "\tdef accuracy_score(self, y_test, y_pred):\n",
    "\t\taccuracy = np.sum(y_test == y_pred) / len(y_test)\n",
    "\t\treturn accuracy\n",
    "\n",
    "\tdef distance(self, x1, x2):\n",
    "\t\treturn (np.sum((x1 - x2)**2) ** 0.5)\n",
    "\n",
    "\tdef get_predictions(self, X_test):\n",
    "\t\tpredictions = []\n",
    "\t\tfor i in range(len(X_test)):\n",
    "\t\t\tpredictions.append(self._predict(X_test[i]))\n",
    "\t\treturn predictions"
   ]
  },
  {
   "cell_type": "markdown",
   "metadata": {},
   "source": [
    "## 3 Nearest Neighbour"
   ]
  },
  {
   "cell_type": "code",
   "execution_count": 131,
   "metadata": {},
   "outputs": [],
   "source": [
    "class ThreeNN:\n",
    "\tdef __init__(self):\n",
    "\t\tself.X_train = None\n",
    "\t\tself.y_train = None\n",
    "\n",
    "\tdef fit(self, X_train, y_train):\n",
    "\t\tself.X_train = X_train\n",
    "\t\tself.y_train = y_train\n",
    "\n",
    "\tdef predict(self, X_test):\n",
    "\t\tpredictions = []\n",
    "\t\tfor i in range(len(X_test)):\n",
    "\t\t\tpredictions.append(self._predict(X_test[i]))\n",
    "\t\treturn predictions\n",
    "\t\n",
    "\tdef _predict(self, x_test):\n",
    "\t\tdistances = [np.sqrt(np.sum((x_train - x_test)**2)) for x_train in self.X_train]\n",
    "\t\tk_indices = np.argsort(distances)[:3]\n",
    "\t\tk_nearest_labels = [self.y_train[i] for i in k_indices]\n",
    "\t\tmost_common = Counter(k_nearest_labels).most_common(1)\n",
    "\t\treturn most_common[0][0]\n",
    "\n",
    "\tdef score(self, X_test, y_test):\n",
    "\t\tpredictions = self.predict(X_test)\n",
    "\t\treturn self.accuracy_score(y_test, predictions)\n",
    "\n",
    "\tdef accuracy_score(self, y_test, y_pred):\n",
    "\t\taccuracy = np.sum(y_test == y_pred) / len(y_test)\n",
    "\t\treturn accuracy"
   ]
  },
  {
   "cell_type": "code",
   "execution_count": 132,
   "metadata": {},
   "outputs": [
    {
     "name": "stdout",
     "output_type": "stream",
     "text": [
      "Accuracy:  0.9736842105263158\n",
      "Error Rate:  0.02631578947368418\n",
      "Accuracy:  0.9736842105263158\n",
      "Error Rate:  0.02631578947368418\n"
     ]
    }
   ],
   "source": [
    "knn = OneNN()\n",
    "knn.fit(X_train, y_train)\n",
    "predictions = knn.predict(X_test)\n",
    "print(\"Accuracy: \", knn.score(X_test, y_test))\n",
    "print(\"Error Rate: \", 1 - knn.score(X_test, y_test))\n",
    "\n",
    "knn = ThreeNN()\n",
    "knn.fit(X_train, y_train)\n",
    "predictions = knn.predict(X_test)\n",
    "print(\"Accuracy: \", knn.score(X_test, y_test))\n",
    "print(\"Error Rate: \", 1 - knn.score(X_test, y_test))"
   ]
  },
  {
   "cell_type": "code",
   "execution_count": 133,
   "metadata": {},
   "outputs": [
    {
     "name": "stdout",
     "output_type": "stream",
     "text": [
      "0.9715099715099715\n"
     ]
    }
   ],
   "source": [
    "# ionosphere\n",
    "knn = OneNN()\n",
    "knn.fit(X, y)\n",
    "predictions = knn.predict(X) \n",
    "print(knn.score(X, y))"
   ]
  },
  {
   "cell_type": "markdown",
   "metadata": {},
   "source": [
    "# Conformal Predictor"
   ]
  },
  {
   "cell_type": "code",
   "execution_count": 134,
   "metadata": {},
   "outputs": [],
   "source": [
    "# create conformal predictor \n",
    "import math\n",
    "def calculate_distance(X_train, y_train):\n",
    "    train_length = X_train.shape[0]\n",
    "    same_class_dist, other_class_dist = [[math.inf for i in range(train_length)] for j in range(2)]\n",
    "\n",
    "    for i in range(train_length-1):\n",
    "        for j in range(i+1, train_length):\n",
    "            dist = np.sqrt(np.sum((X_train[i] - X_train[j])**2))\n",
    "            if y_train[i] == y_train[j]:\n",
    "                if dist < same_class_dist[i]:\n",
    "                    same_class_dist[i] = dist\n",
    "                if dist < same_class_dist[j]:\n",
    "                    same_class_dist[j] = dist\n",
    "            else:\n",
    "                if dist < other_class_dist[i]:\n",
    "                    other_class_dist[i] = dist\n",
    "                if dist < other_class_dist[j]:\n",
    "                    other_class_dist[j] = dist\n",
    "    return same_class_dist, other_class_dist\n",
    "\n",
    "def calculate_p_value(same_class_dist, other_class_dist):\n",
    "    p_values = []\n",
    "    for i in range(len(same_class_dist)):\n",
    "        p_values.append(same_class_dist[i] / (same_class_dist[i] + other_class_dist[i]))\n",
    "    return p_values\n",
    "\n",
    "def calculate_alpha(p_values, alpha):\n",
    "    p_values.sort()\n",
    "    return p_values[int(len(p_values) * alpha)]\n",
    "\n",
    "def calculate_conformal_prediction(X_train, y_train, X_test, alpha):\n",
    "    same_class_dist, other_class_dist = calculate_distance(X_train, y_train)\n",
    "    p_values = calculate_p_value(same_class_dist, other_class_dist)\n",
    "    alpha = calculate_alpha(p_values, alpha)\n",
    "    predictions = []\n",
    "    for i in range(len(X_test)):\n",
    "        dist = np.sqrt(np.sum((X_train - X_test[i])**2))\n",
    "        p_values = dist / (dist + other_class_dist)\n",
    "        predictions.append(p_values > alpha)\n",
    "    return predictions\n",
    "\n",
    "# calculate p-values\n",
    "same_class_dist, other_class_dist = calculate_distance(X_train, y_train)\n",
    "p_values = calculate_p_value(same_class_dist, other_class_dist)\n"
   ]
  }
 ],
 "metadata": {
  "kernelspec": {
   "display_name": "Python 3.10.7 ('anaconda-pOKeClin-py3.10')",
   "language": "python",
   "name": "python3"
  },
  "language_info": {
   "codemirror_mode": {
    "name": "ipython",
    "version": 3
   },
   "file_extension": ".py",
   "mimetype": "text/x-python",
   "name": "python",
   "nbconvert_exporter": "python",
   "pygments_lexer": "ipython3",
   "version": "3.10.7"
  },
  "orig_nbformat": 4,
  "vscode": {
   "interpreter": {
    "hash": "1d6ff4c17b0f926f3435e2604897e7630e7b57ea2fee9d98b1dac9eecef6094c"
   }
  }
 },
 "nbformat": 4,
 "nbformat_minor": 2
}
