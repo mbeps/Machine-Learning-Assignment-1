{
 "cells": [
  {
   "cell_type": "code",
   "execution_count": 18,
   "metadata": {},
   "outputs": [],
   "source": [
    "import numpy as np\n",
    "from sklearn.datasets import load_iris\n",
    "from sklearn.utils import Bunch\n",
    "from sklearn.model_selection import train_test_split"
   ]
  },
  {
   "cell_type": "markdown",
   "metadata": {},
   "source": [
    "# K Nearest Neighbour Algorithm\t"
   ]
  },
  {
   "cell_type": "markdown",
   "metadata": {},
   "source": [
    "## Calculating Distances"
   ]
  },
  {
   "cell_type": "code",
   "execution_count": 19,
   "metadata": {},
   "outputs": [],
   "source": [
    "def get_distance(test: tuple[int], point: tuple[int]) -> float:\n",
    "    \"\"\"Calculates the distance between the test point and the point in the data set.\n",
    "\n",
    "    Args:\n",
    "            test (tuple[int]): test point to be compared to for distance\n",
    "            point (tuple[int]): point in the data set to be compared to for distance\n",
    "\n",
    "    Returns:\n",
    "            float: distance between the test point and the point in the data set\n",
    "    \"\"\"\n",
    "    distance = 0\n",
    "    for index, element in enumerate(test):\n",
    "        distance += (element - point[index])**2\n",
    "    return distance**0.5"
   ]
  },
  {
   "cell_type": "code",
   "execution_count": 20,
   "metadata": {},
   "outputs": [
    {
     "name": "stdout",
     "output_type": "stream",
     "text": [
      "5.196152422706632\n"
     ]
    }
   ],
   "source": [
    "print(get_distance((1, 2, 3), (4, 5, 6)))"
   ]
  },
  {
   "cell_type": "markdown",
   "metadata": {},
   "source": [
    "## Sorting Distances by Ascending Order"
   ]
  },
  {
   "cell_type": "code",
   "execution_count": null,
   "metadata": {},
   "outputs": [],
   "source": [
    "def sort_distances(distances: list[tuple[int]]) -> list[tuple[int]]:\n",
    "    \"\"\"Sorts the distances in ascending order.\n",
    "\n",
    "    Args:\n",
    "            distances (list[tuple[int]]): list of distances\n",
    "\n",
    "    Returns:\n",
    "            list[tuple[int]]: list of distances sorted in ascending order\n",
    "    \"\"\"\n",
    "    # Merge sort\n",
    "    if len(distances) > 1:\n",
    "        mid = len(distances) // 2\n",
    "        left = distances[:mid]\n",
    "        right = distances[mid:]\n",
    "\n",
    "        sort_distances(left)\n",
    "        sort_distances(right)\n",
    "\n",
    "        i = j = k = 0\n",
    "        while i < len(left) and j < len(right):\n",
    "            if left[i][1] < right[j][1]:\n",
    "                distances[k] = left[i]\n",
    "                i += 1\n",
    "            else:\n",
    "                distances[k] = right[j]\n",
    "                j += 1\n",
    "            k += 1\n",
    "\n",
    "        while i < len(left):\n",
    "            distances[k] = left[i]\n",
    "            i += 1\n",
    "            k += 1\n",
    "\n",
    "        while j < len(right):\n",
    "            distances[k] = right[j]\n",
    "            j += 1\n",
    "            k += 1"
   ]
  },
  {
   "cell_type": "markdown",
   "metadata": {},
   "source": [
    "## Getting Nearest Neighbour Relative to Nearest Point"
   ]
  },
  {
   "cell_type": "code",
   "execution_count": null,
   "metadata": {},
   "outputs": [],
   "source": [
    "def get_neighbors(train: list[tuple[int]], test: tuple[int], k: int) -> list[tuple[int]]:\n",
    "    \"\"\"Finds the list of nearest neighbors relative to the test point.\n",
    "\n",
    "    Args:\n",
    "            train (list[tuple[int]]): list of points in the dataset\n",
    "            test (tuple[int]): test point to be compared to for distance\n",
    "            k (int): number of nearest neighbors\n",
    "\n",
    "    Returns:\n",
    "            list: list of neighbors\n",
    "    \"\"\"\n",
    "    distances: list[tuple] = []\n",
    "    for test_point in train:\n",
    "        for train_point in train:  # for each point in the training set\n",
    "            # calculate the distance between the test point and the point in the data set\n",
    "            distance = get_distance(test_point, train_point)\n",
    "            # add tuple of point and distance to distances list\n",
    "            distances.append((train_point, distance))\n",
    "\n",
    "    sort_distances(distances)\n",
    "\n",
    "    neighbors: list[tuple[int]] = []  # list of neighbors (currently empty)\n",
    "    for i in range(k):  # for each neighbor\n",
    "        # add the point to the neighbors list\n",
    "        neighbors.append(distances[i][0])\n",
    "    return neighbors"
   ]
  },
  {
   "cell_type": "markdown",
   "metadata": {},
   "source": [
    "## Getting Prediction"
   ]
  },
  {
   "cell_type": "code",
   "execution_count": null,
   "metadata": {},
   "outputs": [],
   "source": [
    "def get_prediction(neighbors: list) -> int:\n",
    "    \"\"\"Gets the prediction based on the neighbors.\n",
    "\n",
    "    Args:\n",
    "            neighbors (list): list of neighbors\n",
    "\n",
    "    Returns:\n",
    "            int: prediction\n",
    "    \"\"\"\n",
    "    return neighbors[0][-1]"
   ]
  },
  {
   "cell_type": "markdown",
   "metadata": {},
   "source": [
    "## Executing the Whole Nearest Neighbour Algorithm"
   ]
  },
  {
   "cell_type": "code",
   "execution_count": null,
   "metadata": {},
   "outputs": [],
   "source": [
    "def execute(data: list[tuple[int]], test: tuple[int], k: int) -> int:\n",
    "    \"\"\"Executes the k-Nearest Neighbor algorithm on the given dataset, test and k.\n",
    "\n",
    "    Args:\n",
    "            data (list[tuple[int]]): list of points in the dataset\n",
    "            test (tuple[int]): test point to be compared to for distance\n",
    "            k (int): number of nearest neighbors\n",
    "\n",
    "    Returns:\n",
    "            int: prediction\n",
    "    \"\"\"\n",
    "    # neighbors = get_neighbors(data, test, k)\n",
    "    # prediction = get_prediction(get_neighbors(data, test, k))\n",
    "    return get_prediction(get_neighbors(data, test, k))"
   ]
  },
  {
   "cell_type": "markdown",
   "metadata": {},
   "source": [
    "# Iris Dataset"
   ]
  },
  {
   "cell_type": "markdown",
   "metadata": {},
   "source": [
    "## Loading Iris Dataset"
   ]
  },
  {
   "cell_type": "code",
   "execution_count": null,
   "metadata": {},
   "outputs": [],
   "source": [
    "iris: Bunch = load_iris()"
   ]
  },
  {
   "cell_type": "markdown",
   "metadata": {},
   "source": [
    "## Splitting Iris Dataset into Training Set and Testing Set "
   ]
  },
  {
   "cell_type": "code",
   "execution_count": null,
   "metadata": {},
   "outputs": [],
   "source": [
    "X_train_iris, X_test_iris, y_train_iris, y_test_iris = train_test_split(iris['data'], iris['target'], random_state=0) # 75% training and 25% test\n",
    "\n",
    "iris_train = np.concatenate((X_train_iris, y_train_iris.reshape(-1, 1)), axis=1) # concatenate X_train_iris and y_train_iris\n",
    "iris_test = np.concatenate((X_test_iris, y_test_iris.reshape(-1, 1)), axis=1) # concatenate X_test_iris and y_test_iris"
   ]
  },
  {
   "cell_type": "markdown",
   "metadata": {},
   "source": [
    "# Ionosphere Dataset"
   ]
  },
  {
   "cell_type": "markdown",
   "metadata": {},
   "source": [
    "## Loading Ionosphere Dataset"
   ]
  },
  {
   "cell_type": "code",
   "execution_count": null,
   "metadata": {},
   "outputs": [],
   "source": [
    "X_ionosphere = np.genfromtxt(\"ionosphere.txt\", delimiter=\",\") "
   ]
  },
  {
   "cell_type": "markdown",
   "metadata": {},
   "source": [
    "## Splitting Ionosphere Dataset into Training Set and Testing Set"
   ]
  },
  {
   "cell_type": "code",
   "execution_count": null,
   "metadata": {},
   "outputs": [],
   "source": [
    "X_train_ionosphere, X_test_ionosphere = train_test_split(X_ionosphere, test_size=0.25, random_state=42)"
   ]
  },
  {
   "cell_type": "code",
   "execution_count": null,
   "metadata": {},
   "outputs": [],
   "source": [
    "print(execute(iris_train, iris_test, 3))"
   ]
  }
 ],
 "metadata": {
  "kernelspec": {
   "display_name": "Python 3.9.12 ('base')",
   "language": "python",
   "name": "python3"
  },
  "language_info": {
   "codemirror_mode": {
    "name": "ipython",
    "version": 3
   },
   "file_extension": ".py",
   "mimetype": "text/x-python",
   "name": "python",
   "nbconvert_exporter": "python",
   "pygments_lexer": "ipython3",
   "version": "3.9.12"
  },
  "orig_nbformat": 4,
  "vscode": {
   "interpreter": {
    "hash": "9a317dd932dec76e8fdc8987ca60af4062f347c78c20ca5292cf26c8b2836138"
   }
  }
 },
 "nbformat": 4,
 "nbformat_minor": 2
}
